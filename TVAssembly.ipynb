{
 "cells": [
  {
   "cell_type": "code",
   "execution_count": 1,
   "id": "761d8a85",
   "metadata": {},
   "outputs": [
    {
     "name": "stderr",
     "output_type": "stream",
     "text": [
      "\u001b[32m\u001b[1m  Activating\u001b[22m\u001b[39m project at `~/Code/Julia/FerriteStuff/Notebooks/Github/EnvFerrite`\n"
     ]
    }
   ],
   "source": [
    "using Pkg\n",
    "Pkg.activate(\"EnvFerrite\")"
   ]
  },
  {
   "cell_type": "code",
   "execution_count": 2,
   "id": "aef39183",
   "metadata": {},
   "outputs": [
    {
     "data": {
      "text/plain": [
       "(x, y)"
      ]
     },
     "metadata": {},
     "output_type": "display_data"
    }
   ],
   "source": [
    "using TypedPolynomials\n",
    "@polyvar x y"
   ]
  },
  {
   "cell_type": "code",
   "execution_count": 3,
   "id": "034146ed",
   "metadata": {},
   "outputs": [],
   "source": [
    "using Ferrite\n",
    "using SparseArrays\n",
    "using LinearAlgebra\n",
    "using IterativeSolvers\n"
   ]
  },
  {
   "cell_type": "code",
   "execution_count": 4,
   "id": "c1717141",
   "metadata": {},
   "outputs": [
    {
     "data": {
      "text/plain": [
       "DofHandler{2, Grid{2, Quadrilateral, Float64}}\n",
       "  Fields:\n",
       "    :u, Lagrange{RefQuadrilateral, 3}()\n",
       "  Dofs per cell: 16\n",
       "  Total dofs: 2401"
      ]
     },
     "metadata": {},
     "output_type": "display_data"
    }
   ],
   "source": [
    "grid = generate_grid(Quadrilateral, (16, 16));\n",
    "dim = Ferrite.getspatialdim(grid)\n",
    "order = 3\n",
    "qr_order = 5\n",
    "ip = Lagrange{RefQuadrilateral, order}()\n",
    "qr = QuadratureRule{RefQuadrilateral}(qr_order)\n",
    "cellvalues = CellValues(qr, ip)\n",
    "\n",
    "dh = DofHandler(grid)\n",
    "add!(dh, :u, ip)\n",
    "close!(dh)"
   ]
  },
  {
   "cell_type": "code",
   "execution_count": 5,
   "id": "29ecd6d4",
   "metadata": {},
   "outputs": [
    {
     "data": {
      "text/plain": [
       "create_test_function (generic function with 1 method)"
      ]
     },
     "metadata": {},
     "output_type": "display_data"
    }
   ],
   "source": [
    "function create_test_function()\n",
    "    u_analytical(coords) = sin(π * coords[1]) * cos(π * coords[2])\n",
    "    \n",
    "    # Analytical gradient: ∇u = [π*cos(πx)*cos(πy), -π*sin(πx)*sin(πy)]\n",
    "    function grad_u_analytical(coords)\n",
    "        x, y = coords[1], coords[2]\n",
    "        return [π * cos(π * x) * cos(π * y), -π * sin(π * x) * sin(π * y)]\n",
    "    end\n",
    "    \n",
    "    # Analytical TV gradient: ∇·(∇u/|∇u|)\n",
    "    # This is complex, so we'll use finite differences for verification\n",
    "    function tv_gradient_analytical_approx(coords)\n",
    "        h = 1e-6\n",
    "        x, y = coords[1], coords[2]\n",
    "        \n",
    "        # Compute |∇u| at neighboring points\n",
    "        grad_center = grad_u_analytical(coords)\n",
    "        grad_norm_center = norm(grad_center)\n",
    "        \n",
    "        if grad_norm_center < 1e-12\n",
    "            return 0.0  # Handle singularity\n",
    "        end\n",
    "        \n",
    "        # Finite difference approximation of ∇·(∇u/|∇u|)\n",
    "        # ∂/∂x (∇u_x/|∇u|) + ∂/∂y (∇u_y/|∇u|)\n",
    "        \n",
    "        grad_xplus = grad_u_analytical([x + h, y])\n",
    "        grad_xminus = grad_u_analytical([x - h, y])\n",
    "        grad_yplus = grad_u_analytical([x, y + h])\n",
    "        grad_yminus = grad_u_analytical([x, y - h])\n",
    "        \n",
    "        norm_xplus = norm(grad_xplus)\n",
    "        norm_xminus = norm(grad_xminus)\n",
    "        norm_yplus = norm(grad_yplus)\n",
    "        norm_yminus = norm(grad_yminus)\n",
    "        \n",
    "        # Avoid division by zero\n",
    "        ux_norm_xplus = norm_xplus > 1e-12 ? grad_xplus[1] / norm_xplus : 0.0\n",
    "        ux_norm_xminus = norm_xminus > 1e-12 ? grad_xminus[1] / norm_xminus : 0.0\n",
    "        uy_norm_yplus = norm_yplus > 1e-12 ? grad_yplus[2] / norm_yplus : 0.0\n",
    "        uy_norm_yminus = norm_yminus > 1e-12 ? grad_yminus[2] / norm_yminus : 0.0\n",
    "        \n",
    "        # Central differences\n",
    "        d_dx_term = (ux_norm_xplus - ux_norm_xminus) / (2 * h)\n",
    "        d_dy_term = (uy_norm_yplus - uy_norm_yminus) / (2 * h)\n",
    "        \n",
    "        return d_dx_term + d_dy_term\n",
    "    end\n",
    "    \n",
    "    return u_analytical, grad_u_analytical, tv_gradient_analytical_approx\n",
    "end"
   ]
  },
  {
   "cell_type": "code",
   "execution_count": 6,
   "id": "fb1a84f8",
   "metadata": {},
   "outputs": [
    {
     "data": {
      "text/plain": [
       "(var\"#u_analytical#11\"(), var\"#grad_u_analytical#12\"(), var\"#tv_gradient_analytical_approx#13\"{var\"#grad_u_analytical#12\"}(var\"#grad_u_analytical#12\"()))"
      ]
     },
     "metadata": {},
     "output_type": "display_data"
    }
   ],
   "source": [
    "u_ana, grad_u, tv_grad_fdm = create_test_function()"
   ]
  },
  {
   "cell_type": "code",
   "execution_count": null,
   "id": "cfc8cc0e",
   "metadata": {},
   "outputs": [
    {
     "data": {
      "text/plain": [
       "assemble_tv_gradient (generic function with 2 methods)"
      ]
     },
     "metadata": {},
     "output_type": "display_data"
    }
   ],
   "source": []
  },
  {
   "cell_type": "code",
   "execution_count": null,
   "id": "306ac810",
   "metadata": {},
   "outputs": [],
   "source": []
  }
 ],
 "metadata": {
  "kernelspec": {
   "display_name": "Julia 1.11.6",
   "language": "julia",
   "name": "julia-1.11"
  },
  "language_info": {
   "file_extension": ".jl",
   "mimetype": "application/julia",
   "name": "julia",
   "version": "1.11.6"
  }
 },
 "nbformat": 4,
 "nbformat_minor": 5
}
