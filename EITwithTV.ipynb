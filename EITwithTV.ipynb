{
 "cells": [
  {
   "cell_type": "code",
   "execution_count": 1,
   "id": "03a2562f",
   "metadata": {},
   "outputs": [
    {
     "name": "stderr",
     "output_type": "stream",
     "text": [
      "\u001b[32m\u001b[1m  Activating\u001b[22m\u001b[39m project at `~/Code/Julia/FerriteStuff/Notebooks/Github/EnvFerrite`\n"
     ]
    }
   ],
   "source": [
    "using Pkg\n",
    "Pkg.activate(\"EnvFerrite\")"
   ]
  },
  {
   "cell_type": "markdown",
   "id": "dce44614",
   "metadata": {},
   "source": [
    "# Electrical Impedance Tomography with TV Regularization"
   ]
  },
  {
   "cell_type": "markdown",
   "id": "3f621f58",
   "metadata": {},
   "source": [
    "## Introduction\n",
    "\n",
    "In this example we give a basic implementation of of the real valued Calderon problem relevant to Electrical Impedance Tomography. We will generate data and afterwards solve the inverse problem with a numerical solver and implement TV regularization.  "
   ]
  },
  {
   "cell_type": "markdown",
   "id": "cabc6c5a",
   "metadata": {},
   "source": [
    "### Forward EIT:\n",
    "Given a conductivity $\\gamma: \\Omega\\subset\\mathbb{R}^2 \\rightarrow \\mathbb{R}_{+}$ our solution $u\\in H^1(\\Omega,\\mathbb{R}^2)$ (2D case) has to confirm to the equation:\n",
    "\n",
    "\n",
    "$$ \\nabla \\cdot(\\gamma\\nabla u) = 0 \\quad \\forall x \\in \\Omega $$\n",
    "\n",
    "For that equation we will choose a set of electrical current patterns \n",
    "\n",
    "$$ g_1, ..., g_n \\in H^{-\\frac{1}{2}}(\\partial \\Omega, \\mathbb{R}) $$\n",
    "\n",
    "such that:  \n",
    "\n",
    "$$ \\int_{\\partial\\Omega}g_i \\, d\\partial\\Omega = 0 $$\n",
    "\n",
    "to inject into the material via Neumann boundary conditions:\n",
    "\n",
    "$$ \\gamma\\frac{\\partial u_i}{\\partial n} =g_i \\quad \\forall x \\in \\partial\\Omega $$\n",
    "\n",
    "In order to get the corresponding voltages \n",
    "$$ f_1, ..., f_n \\in H^{\\frac{1}{2}}(\\partial \\Omega, \\mathbb{R}) $$\n",
    "we will measure the corresponding voltage as:\n",
    "$$ f_i := u_i|_{\\partial\\Omega} $$\n",
    "\n",
    "with those boundary pairs $ (f_1,g_1), ... , (f_n,g_n) $ we now have an approximation of the Dirichlet to Neumann map:\n",
    "$$ \\Lambda_\\gamma: H^{\\frac{1}{2}}(\\partial \\Omega)\\rightarrow H^{-\\frac{1}{2}}(\\partial \\Omega) $$\n",
    "This is called forward EIT since we just approximated the map:\n",
    "$$ \\gamma \\rightarrow  \\Lambda_\\gamma $$\n",
    "\n",
    "However real Electrical Impedance Tomography requires us to solve an **inverse Problem** where we have to reconstruct:\n",
    "$$ \\Lambda_\\gamma \\rightarrow  \\gamma $$\n",
    "for our approximation of $\\Lambda_\\gamma$ given by voltage-current boundary pairs $(f_i,g_i)$."
   ]
  },
  {
   "cell_type": "markdown",
   "id": "015f0406",
   "metadata": {},
   "source": [
    "### Weak formulation\n",
    "Given the strong formulation:\n",
    "$$ \\nabla \\cdot(\\gamma\\nabla u) = 0 \\quad \\text{with Neumann BC:}\\quad \\gamma\\frac{\\partial u}{\\partial n} = g $$\n",
    "\n",
    "The weak formulation is:\n",
    "$$ \\int\\limits_\\Omega \\gamma \\nabla(u)\\cdot\\nabla(v) \\, d \\Omega = \\int\\limits_{\\partial\\Omega} g \\,v \\,d\\partial\\Omega  \\quad \\forall v\\in H^1(\\Omega)$$"
   ]
  },
  {
   "cell_type": "markdown",
   "id": "7de196c6",
   "metadata": {},
   "source": [
    "### Inverse EIT\n",
    "We will use $\\gamma$ to refer to the true underlying conductivity and $\\sigma$ for our current conductivity guess.\n",
    "We will choose the simplest minimization functional for optimization:\n",
    "$$ J_i(u_i,\\sigma) = \\| f_i- u_i\\|^2_{\\mathcal{L}^2(\\partial\\Omega)} = \\int_{\\partial\\Omega}(f_i-u_i)^2 \\,d\\partial\\Omega $$\n",
    "Such that our problem becomes:\n",
    "$$ \\underset{\\sigma}{\\min} \\sum\\limits_{i=1}^n J_i(u_i,\\sigma) $$\n",
    "such that:\n",
    "$$ \\nabla u_i\\cdot(\\sigma\\nabla u_i) = 0\\quad  \\text{and Neumann BC}\\quad \\sigma\\frac{\\partial u_i}{\\partial n} = g_i \\quad \\forall i\\in\\{1, ...,n\\}$$\n",
    "Given the problem our lagrangian becomes:\n",
    "$$ \\mathcal{L}(\\sigma, u, \\lambda) = \\sum\\limits_{i=1}^n\\left( J_i(u_i,\\sigma) + \\langle \\lambda_i, \\nabla\\cdot(\\sigma\\nabla u_i) \\rangle_{\\mathcal{L}^2(\\Omega)}   \\right) $$\n",
    "\n",
    "from this we will use [Adjoint state methods](https://en.wikipedia.org/wiki/Adjoint_state_method#General_case) to calculate the gradient.\n",
    "Without stating any of the steps of the derivation we end up with:\n",
    "- State Equation (Variation with $\\delta_\\lambda$)\n",
    "$$ \\nabla \\cdot(\\sigma\\nabla u_i) = 0\\quad  \\text{with Neumann BC}\\quad \\sigma\\frac{\\partial u_i}{\\partial n} = g_i$$\n",
    "\n",
    "- Adjoint Equation (Variation with $\\delta_u$)\n",
    "$$ \\nabla \\cdot(\\sigma\\nabla\\lambda_i) = 0\\quad  \\text{with Neumann BC}\\quad \\sigma\\frac{\\partial \\lambda_i}{\\partial n} = 2(u_i-f_i)$$\n",
    "- Functional Derivative (Variation with $\\delta_\\sigma$)\n",
    "$$ \\delta_i\\sigma = -\\nabla u_i \\cdot \\nabla \\lambda_i $$"
   ]
  },
  {
   "cell_type": "markdown",
   "id": "4a63d6ec",
   "metadata": {},
   "source": [
    "#### Total Variation (TV) regularization\n",
    "for real world examples and numerical stability we have to assume that our system contains some noise, like $f = f_{true} + \\epsilon$. Since the inverse EIT problem is highly ill conditioned we have to consider regularization.\n",
    "\n",
    "\n",
    "Because $|\\nabla\\sigma|^2$ is non-differentiable when $\\nabla\\sigma=0$, we use\n",
    "$$\n",
    "\\mathcal{R}_{TV}(\\sigma) = \\int_\\Omega \\sqrt{|\\nabla\\sigma|^2+\\eta}\\, d\\Omega,\n",
    "$$\n",
    "and the gradient:\n",
    "$$ \\delta_\\sigma\\mathcal{R}= -\\nabla\\cdot \\left(   \\frac{\\nabla\\sigma}{\\sqrt{|\\nabla \\sigma|^2+ \\eta}} \\right) $$\n",
    "with a small $\\eta$ to revent division by zero.\n",
    "This is a $L^2$ projection that requires us to sove the weak form.\n",
    "##### Weak formulation of TV Regularizer:\n",
    "$$ \\int_\\Omega wv \\,d\\Omega = \\int_\\Omega \\frac{\\nabla(\\sigma)}{\\sqrt{|\\nabla\\sigma|^2+\\eta}}\\cdot\\nabla(v)\\, d\\Omega \\quad \\forall v\\in FESpace$$\n"
   ]
  },
  {
   "cell_type": "markdown",
   "id": "cddf00a9",
   "metadata": {},
   "source": [
    "### Full reconstruction Algorithm (Conceptual)\n",
    "+ Preallocate Massmatrix M and L^2 projector (Cholesky factorization)\n",
    "+ Start with conductivity guess $\\sigma_0$ (In our case: $\\sigma_0(x) = 1.0$)\n",
    "+ Preallocate & initialize Conjugate Gradient(CG) solver for $u_1, ...,u_n.\\lambda_1,.., \\lambda_n,w$.\n",
    "+ Repeat till tolerance is reached or other stopping condition:\n",
    "    + From $\\sigma_t$ assemble stiffness matrix $K_{\\sigma_t}$\n",
    "    + for all $i = 1, ...,n$ (in parallel)\n",
    "        + Calculate $u_i$ (State equation) as well as the $\\mathcal{L}^2(\\partial\\Omega)$ error: $\\delta u_i$\n",
    "        + Calculate $\\lambda_i$ (Adjoint equation)\n",
    "        + Calculate $\\delta\\sigma_i$ (Functional derivative)\n",
    "    + Calculate TV Regularization gradient and error.\n",
    "    + Update $\\sigma_{t+1} = \\sigma_t +\\beta\\, \\delta_{TV}\\sigma + \\sum_{i=1}^n \\alpha_i\\,\\delta_i\\sigma $ (with Gauss-Newton with Levenberg-Marquardt)."
   ]
  },
  {
   "cell_type": "markdown",
   "id": "2c6b89dc",
   "metadata": {},
   "source": [
    "## Implementation\n",
    "### Preliminaries\n",
    "Obvious Imports:"
   ]
  },
  {
   "cell_type": "code",
   "execution_count": 2,
   "id": "7aa44a0b",
   "metadata": {},
   "outputs": [],
   "source": [
    "using Ferrite\n",
    "using SparseArrays\n",
    "using LinearAlgebra\n",
    "using Revise\n",
    "using Interpolations\n",
    "using Plots\n",
    "using Statistics\n",
    "using IterativeSolvers"
   ]
  },
  {
   "cell_type": "markdown",
   "id": "f33323b7",
   "metadata": {},
   "source": [
    "For simplicity we will use a quadratic grid with quadrilateral elements. We are using Quadrilaterals for now:"
   ]
  },
  {
   "cell_type": "code",
   "execution_count": 3,
   "id": "0a9a883c",
   "metadata": {},
   "outputs": [
    {
     "data": {
      "text/plain": [
       "128"
      ]
     },
     "metadata": {},
     "output_type": "display_data"
    }
   ],
   "source": [
    "grid = generate_grid(Quadrilateral, (32, 32));\n",
    "dim = Ferrite.getspatialdim(grid)\n",
    "order = 1\n",
    "\n",
    "\n",
    "ip = Lagrange{RefQuadrilateral, order}()\n",
    "qr = QuadratureRule{RefQuadrilateral}(2)\n",
    "qr_face = FacetQuadratureRule{RefQuadrilateral}(2)\n",
    "cellvalues = CellValues(qr, ip)\n",
    "facetvalues = FacetValues(qr_face, ip)\n",
    "\n",
    "dh = DofHandler(grid)\n",
    "add!(dh, :u, ip)\n",
    "close!(dh)\n",
    "\n",
    "\n",
    "\n",
    "∂Ω = union(getfacetset.((grid,), [\"left\", \"top\", \"right\", \"bottom\"])...)\n",
    "length(∂Ω)"
   ]
  },
  {
   "cell_type": "markdown",
   "id": "5e30d783",
   "metadata": {},
   "source": [
    "For later use we will assemble and cholesky decompose the mass matrix once."
   ]
  },
  {
   "cell_type": "code",
   "execution_count": 4,
   "id": "b4f950d7",
   "metadata": {},
   "outputs": [
    {
     "data": {
      "text/plain": [
       "(sparse([1, 2, 3, 4, 1, 2, 3, 4, 5, 6  …  1054, 1055, 1056, 1087, 1088, 1089, 1055, 1056, 1088, 1089], [1, 1, 1, 1, 2, 2, 2, 2, 2, 2  …  1088, 1088, 1088, 1088, 1088, 1088, 1089, 1089, 1089, 1089], [0.0004340277777777777, 0.00021701388888888885, 0.00010850694444444441, 0.00021701388888888882, 0.00021701388888888885, 0.0008680555555555555, 0.0004340277777777777, 0.00010850694444444441, 0.00021701388888888893, 0.00010850694444444444  …  0.00010850694444444444, 0.0004340277777777777, 0.00010850694444444441, 0.00021701388888888882, 0.0008680555555555553, 0.00021701388888888882, 0.00010850694444444441, 0.00021701388888888882, 0.00021701388888888882, 0.00043402777777777765], 1089, 1089), SparseArrays.CHOLMOD.Factor{Float64, Int64}\n",
       "type:    LLt\n",
       "method:  simplicial\n",
       "maxnnz:  20895\n",
       "nnz:     20895\n",
       "success: true\n",
       ")"
      ]
     },
     "metadata": {},
     "output_type": "display_data"
    }
   ],
   "source": [
    "# This is supposed to be: ∫(u*v)dΩ\n",
    "function assemble_M(cellvalues::CellValues,dh::DofHandler)\n",
    "    M = allocate_matrix(dh)\n",
    "    n_basefuncs = getnbasefunctions(cellvalues)\n",
    "    Me = zeros(n_basefuncs, n_basefuncs)\n",
    "    assembler = start_assemble(M)\n",
    "    for cell in CellIterator(dh)\n",
    "        fill!(Me, 0)\n",
    "        reinit!(cellvalues, cell)\n",
    "        for q_point in 1:getnquadpoints(cellvalues)\n",
    "            dΩ = getdetJdV(cellvalues, q_point)      \n",
    "            for i in 1:n_basefuncs\n",
    "                φᵢ = shape_value(cellvalues, q_point, i)\n",
    "                for j in 1:n_basefuncs\n",
    "                    φⱼ = shape_value(cellvalues, q_point, j)\n",
    "                    Me[i,j] += φᵢ * φⱼ * dΩ\n",
    "                end\n",
    "            end\n",
    "        end\n",
    "        assemble!(assembler, celldofs(cell), Me)\n",
    "    end\n",
    "    return M, cholesky(M)\n",
    "end   \n",
    "\n",
    "M, MC = assemble_M(cellvalues,dh)"
   ]
  },
  {
   "cell_type": "markdown",
   "id": "cc0369c0",
   "metadata": {},
   "source": [
    "Furthermore we want to know which entries of the force vector correspond to the boundary:\n",
    "We will get:\n",
    "- the count of nonzero entries in the force vector\n",
    "- the position of non zero entries\n",
    "- a function \"up\" to cast a vector of length of boundary dofs into the length of the force vector\n",
    "- a function \"down\" to cast a vector into the length of the dofs of the force vector that lay on the boundary."
   ]
  },
  {
   "cell_type": "code",
   "execution_count": 5,
   "id": "1acc5da1",
   "metadata": {},
   "outputs": [],
   "source": [
    "function produce_nonzero_positions(v, atol=1e-8, rtol=1e-5)\n",
    "    approx_zero(x; atol=atol, rtol=rtol) = isapprox(x, 0; atol=atol, rtol=rtol)\n",
    "    non_zero_count = count(x -> !approx_zero(x), v)\n",
    "    non_zero_positions = zeros(Int, non_zero_count)\n",
    "    non_zero_indices = findall(x -> !approx_zero(x), v)\n",
    "    g_down = (x) -> x[non_zero_indices]\n",
    "    g_up = (x) -> begin\n",
    "        v = zeros(eltype(x), length(v))\n",
    "        v[non_zero_indices] = x\n",
    "        return v\n",
    "    end\n",
    "    return non_zero_count, non_zero_positions, g_down, g_up\n",
    "end\n",
    "function produce_nonzero_positions(facetvalues::FacetValues, dh::DofHandler, ∂Ω)\n",
    "    f = zeros(ndofs(dh))\n",
    "        for facet in FacetIterator(dh, ∂Ω)\n",
    "        fe = zeros(ndofs_per_cell(dh))\n",
    "        reinit!(facetvalues, facet)\n",
    "        for q_point in 1:getnquadpoints(facetvalues)\n",
    "            dΓ = getdetJdV(facetvalues, q_point)            \n",
    "            for i in 1:getnbasefunctions(facetvalues)\n",
    "                δu = shape_value(facetvalues, q_point, i)\n",
    "                fe[i] += δu * dΓ\n",
    "            end\n",
    "        end\n",
    "        assemble!(f, celldofs(facet), fe)\n",
    "    end\n",
    "     nzc, nzpos, g_down, g_up = produce_nonzero_positions(f)\n",
    "     return  nzc, nzpos, g_down, g_up, f\n",
    "end\n",
    "\n",
    "nzc,nzpos, down, up = produce_nonzero_positions(facetvalues, dh,∂Ω)\n",
    "@assert nzc == length(∂Ω)  # This is not true in Gridap.jl"
   ]
  },
  {
   "cell_type": "code",
   "execution_count": 6,
   "id": "bb9909e0",
   "metadata": {},
   "outputs": [],
   "source": [
    "## Sanity check:\n",
    "# I have never questioned the assumption that up∘down == id and down∘up == id. Maybe I should check this.\n",
    "test_vec = [i for i in 1:nzc]\n",
    "@assert down(up(test_vec)) == test_vec\n",
    "@assert up(down(up(test_vec))) == up(test_vec)"
   ]
  },
  {
   "cell_type": "markdown",
   "id": "a704c0e9",
   "metadata": {},
   "source": [
    "### Data generation"
   ]
  },
  {
   "cell_type": "markdown",
   "id": "7724653f",
   "metadata": {},
   "source": [
    "Now we will make up some conductivity. As well as some current patterns:"
   ]
  },
  {
   "cell_type": "code",
   "execution_count": 7,
   "id": "5a32db90",
   "metadata": {},
   "outputs": [
    {
     "data": {
      "text/plain": [
       "#22 (generic function with 1 method)"
      ]
     },
     "metadata": {},
     "output_type": "display_data"
    }
   ],
   "source": [
    "conductivity  = (x) -> 1.1 + sin(x[1]) * cos(x[2])"
   ]
  },
  {
   "cell_type": "markdown",
   "id": "bcd5ee93",
   "metadata": {},
   "source": [
    "For later we want to project that function unto Q1 FE space for that we want to assemble the coefficients in the FESpace:"
   ]
  },
  {
   "cell_type": "code",
   "execution_count": 8,
   "id": "741f5446",
   "metadata": {},
   "outputs": [
    {
     "data": {
      "text/plain": [
       "1089-element Vector{Float64}:\n",
       " 0.6450535642159253\n",
       " 0.6641859150714466\n",
       " 0.6226468097664015\n",
       " 0.601690881462597\n",
       " 0.685021948586164\n",
       " 0.645468805231958\n",
       " 0.707477970024696\n",
       " 0.6700651958589253\n",
       " 0.7314669135515499\n",
       " 0.6963406172344299\n",
       " ⋮\n",
       " 1.3592050021692093\n",
       " 1.3883340781632245\n",
       " 1.416337215072183\n",
       " 1.4431050644646248\n",
       " 1.4685330864484494\n",
       " 1.492522029975305\n",
       " 1.5149780514138347\n",
       " 1.5358140849285546\n",
       " 1.5549464357840737"
      ]
     },
     "metadata": {},
     "output_type": "display_data"
    }
   ],
   "source": [
    "function assemble_function_vector(cellvalues::CellValues, dh::DofHandler, f, M_cholesky)\n",
    "    F = zeros(ndofs(dh))\n",
    "    n_basefuncs = getnbasefunctions(cellvalues)\n",
    "    Fe = zeros(n_basefuncs)\n",
    "    cdofs = zeros(Int, n_basefuncs)\n",
    "\n",
    "    for cell in CellIterator(dh)\n",
    "        fill!(Fe, 0.0)\n",
    "        reinit!(cellvalues, cell)\n",
    "        coords = getcoordinates(cell)\n",
    "        cdofs = celldofs(cell)\n",
    "        for q in 1:getnquadpoints(cellvalues)\n",
    "            x_q = spatial_coordinate(cellvalues, q, coords)\n",
    "            f_val = f(x_q)\n",
    "            dΩ = getdetJdV(cellvalues, q)\n",
    "\n",
    "            for i in 1:n_basefuncs\n",
    "                Fe[i] += f_val * shape_value(cellvalues, q, i) * dΩ\n",
    "            end\n",
    "        end  \n",
    "        assemble!(F, cdofs,Fe)\n",
    "    end\n",
    "    return M_cholesky \\ F\n",
    "end\n",
    "cond_vec = assemble_function_vector(cellvalues, dh, conductivity, M)"
   ]
  },
  {
   "cell_type": "code",
   "execution_count": 9,
   "id": "0aee32e6",
   "metadata": {},
   "outputs": [
    {
     "data": {
      "text/plain": [
       "1089×1089 SparseMatrixCSC{Float64, Int64} with 9409 stored entries:\n",
       "⎡⠻⣦⡸⣆⠀⠀⠀⠀⠀⠀⠀⠀⠀⠀⠀⠀⠀⠀⠀⠀⠀⠀⠀⠀⠀⠀⠀⠀⠀⠀⠀⠀⠀⠀⠀⠀⠀⠀⠀⠀⎤\n",
       "⎢⠲⢮⣿⣿⣦⡀⠀⠀⠀⠀⠀⠀⠀⠀⠀⠀⠀⠀⠀⠀⠀⠀⠀⠀⠀⠀⠀⠀⠀⠀⠀⠀⠀⠀⠀⠀⠀⠀⠀⠀⎥\n",
       "⎢⠀⠀⠈⠻⣿⣿⣦⡀⠀⠀⠀⠀⠀⠀⠀⠀⠀⠀⠀⠀⠀⠀⠀⠀⠀⠀⠀⠀⠀⠀⠀⠀⠀⠀⠀⠀⠀⠀⠀⠀⎥\n",
       "⎢⠀⠀⠀⠀⠈⠻⣿⣿⣦⡀⠀⠀⠀⠀⠀⠀⠀⠀⠀⠀⠀⠀⠀⠀⠀⠀⠀⠀⠀⠀⠀⠀⠀⠀⠀⠀⠀⠀⠀⠀⎥\n",
       "⎢⠀⠀⠀⠀⠀⠀⠈⠻⣿⣿⣦⡀⠀⠀⠀⠀⠀⠀⠀⠀⠀⠀⠀⠀⠀⠀⠀⠀⠀⠀⠀⠀⠀⠀⠀⠀⠀⠀⠀⠀⎥\n",
       "⎢⠀⠀⠀⠀⠀⠀⠀⠀⠈⠻⣟⣽⣦⡀⠀⠀⠀⠀⠀⠀⠀⠀⠀⠀⠀⠀⠀⠀⠀⠀⠀⠀⠀⠀⠀⠀⠀⠀⠀⠀⎥\n",
       "⎢⠀⠀⠀⠀⠀⠀⠀⠀⠀⠀⠈⠻⣿⣿⣦⡀⠀⠀⠀⠀⠀⠀⠀⠀⠀⠀⠀⠀⠀⠀⠀⠀⠀⠀⠀⠀⠀⠀⠀⠀⎥\n",
       "⎢⠀⠀⠀⠀⠀⠀⠀⠀⠀⠀⠀⠀⠈⠻⣿⣿⣦⡀⠀⠀⠀⠀⠀⠀⠀⠀⠀⠀⠀⠀⠀⠀⠀⠀⠀⠀⠀⠀⠀⠀⎥\n",
       "⎢⠀⠀⠀⠀⠀⠀⠀⠀⠀⠀⠀⠀⠀⠀⠈⠻⣟⣽⣦⡀⠀⠀⠀⠀⠀⠀⠀⠀⠀⠀⠀⠀⠀⠀⠀⠀⠀⠀⠀⠀⎥\n",
       "⎢⠀⠀⠀⠀⠀⠀⠀⠀⠀⠀⠀⠀⠀⠀⠀⠀⠈⠻⣿⣿⣦⡀⠀⠀⠀⠀⠀⠀⠀⠀⠀⠀⠀⠀⠀⠀⠀⠀⠀⠀⎥\n",
       "⎢⠀⠀⠀⠀⠀⠀⠀⠀⠀⠀⠀⠀⠀⠀⠀⠀⠀⠀⠈⠻⣿⣿⣦⡀⠀⠀⠀⠀⠀⠀⠀⠀⠀⠀⠀⠀⠀⠀⠀⠀⎥\n",
       "⎢⠀⠀⠀⠀⠀⠀⠀⠀⠀⠀⠀⠀⠀⠀⠀⠀⠀⠀⠀⠀⠈⠻⣟⣽⣦⡀⠀⠀⠀⠀⠀⠀⠀⠀⠀⠀⠀⠀⠀⠀⎥\n",
       "⎢⠀⠀⠀⠀⠀⠀⠀⠀⠀⠀⠀⠀⠀⠀⠀⠀⠀⠀⠀⠀⠀⠀⠈⠻⣿⣿⣦⡀⠀⠀⠀⠀⠀⠀⠀⠀⠀⠀⠀⠀⎥\n",
       "⎢⠀⠀⠀⠀⠀⠀⠀⠀⠀⠀⠀⠀⠀⠀⠀⠀⠀⠀⠀⠀⠀⠀⠀⠀⠈⠻⣿⣿⣦⡀⠀⠀⠀⠀⠀⠀⠀⠀⠀⠀⎥\n",
       "⎢⠀⠀⠀⠀⠀⠀⠀⠀⠀⠀⠀⠀⠀⠀⠀⠀⠀⠀⠀⠀⠀⠀⠀⠀⠀⠀⠈⠻⣟⣽⣦⡀⠀⠀⠀⠀⠀⠀⠀⠀⎥\n",
       "⎢⠀⠀⠀⠀⠀⠀⠀⠀⠀⠀⠀⠀⠀⠀⠀⠀⠀⠀⠀⠀⠀⠀⠀⠀⠀⠀⠀⠀⠈⠻⣿⣿⣦⡀⠀⠀⠀⠀⠀⠀⎥\n",
       "⎢⠀⠀⠀⠀⠀⠀⠀⠀⠀⠀⠀⠀⠀⠀⠀⠀⠀⠀⠀⠀⠀⠀⠀⠀⠀⠀⠀⠀⠀⠀⠈⠻⣿⣿⣦⡀⠀⠀⠀⠀⎥\n",
       "⎢⠀⠀⠀⠀⠀⠀⠀⠀⠀⠀⠀⠀⠀⠀⠀⠀⠀⠀⠀⠀⠀⠀⠀⠀⠀⠀⠀⠀⠀⠀⠀⠀⠈⠻⣿⣿⣦⡀⠀⠀⎥\n",
       "⎢⠀⠀⠀⠀⠀⠀⠀⠀⠀⠀⠀⠀⠀⠀⠀⠀⠀⠀⠀⠀⠀⠀⠀⠀⠀⠀⠀⠀⠀⠀⠀⠀⠀⠀⠈⠻⣿⣿⣦⡀⎥\n",
       "⎣⠀⠀⠀⠀⠀⠀⠀⠀⠀⠀⠀⠀⠀⠀⠀⠀⠀⠀⠀⠀⠀⠀⠀⠀⠀⠀⠀⠀⠀⠀⠀⠀⠀⠀⠀⠀⠈⠻⣿⣿⎦"
      ]
     },
     "metadata": {},
     "output_type": "display_data"
    }
   ],
   "source": [
    "# This function assembles the stiffness matrix from a given vector.\n",
    "# Hopefully this is: ∫(γ * ∇(u)⋅∇(v))dΩ \n",
    "function assemble_K(cellvalues::CellValues, dh::DofHandler, γ::AbstractVector)\n",
    "    K = allocate_matrix(dh)\n",
    "    n_basefuncs = getnbasefunctions(cellvalues)\n",
    "    Ke = zeros(n_basefuncs, n_basefuncs)\n",
    "    assembler = start_assemble(K)\n",
    "    for cell in CellIterator(dh)\n",
    "        fill!(Ke, 0)\n",
    "        reinit!(cellvalues, cell)\n",
    "        for q_point in 1:getnquadpoints(cellvalues)\n",
    "            dΩ = getdetJdV(cellvalues, q_point)\n",
    "            γe = γ[celldofs(cell)] # (Edit) Could be done more efficiently by copying into preallocated array\n",
    "            σ = function_value(cellvalues, q_point, γe)\n",
    "            for i in 1:n_basefuncs\n",
    "                ∇v = shape_gradient(cellvalues, q_point, i)\n",
    "                #u = shape_value(cellvalues, q_point, i)\n",
    "                for j in 1:n_basefuncs\n",
    "                    ∇u = shape_gradient(cellvalues, q_point, j)\n",
    "                    Ke[i, j] += σ* (∇v ⋅ ∇u) * dΩ\n",
    "                end\n",
    "            end\n",
    "        end\n",
    "        assemble!(assembler, celldofs(cell), Ke)\n",
    "    end\n",
    "    return K\n",
    "end\n",
    "\n",
    "K_from_vec = assemble_K(cellvalues, dh,cond_vec)"
   ]
  },
  {
   "cell_type": "code",
   "execution_count": 10,
   "id": "bee77cb4",
   "metadata": {},
   "outputs": [
    {
     "data": {
      "text/plain": [
       "SparseArrays.UMFPACK.UmfpackLU{Float64, Int64}\n",
       "L factor:\n",
       "1089×1089 SparseMatrixCSC{Float64, Int64} with 20895 stored entries:\n",
       "⎡⠳⣄⠀⠀⠀⠀⠀⠀⠀⠀⠀⠀⠀⠀⠀⠀⠀⠀⠀⠀⠀⠀⠀⠀⠀⠀⠀⠀⠀⠀⠀⠀⠀⠀⠀⠀⠀⠀⠀⠀⎤\n",
       "⎢⠴⠿⠷⣄⠀⠀⠀⠀⠀⠀⠀⠀⠀⠀⠀⠀⠀⠀⠀⠀⠀⠀⠀⠀⠀⠀⠀⠀⠀⠀⠀⠀⠀⠀⠀⠀⠀⠀⠀⠀⎥\n",
       "⎢⠤⠀⠀⠿⠷⣄⠀⠀⠀⠀⠀⠀⠀⠀⠀⠀⠀⠀⠀⠀⠀⠀⠀⠀⠀⠀⠀⠀⠀⠀⠀⠀⠀⠀⠀⠀⠀⠀⠀⠀⎥\n",
       "⎢⠀⠀⠀⠀⠀⣐⣳⣄⠀⠀⠀⠀⠀⠀⠀⠀⠀⠀⠀⠀⠀⠀⠀⠀⠀⠀⠀⠀⠀⠀⠀⠀⠀⠀⠀⠀⠀⠀⠀⠀⎥\n",
       "⎢⠀⠀⠀⠀⠀⠀⠀⠨⣵⣄⠀⠀⠀⠀⠀⠀⠀⠀⠀⠀⠀⠀⠀⠀⠀⠀⠀⠀⠀⠀⠀⠀⠀⠀⠀⠀⠀⠀⠀⠀⎥\n",
       "⎢⠀⠀⠀⠀⠀⠀⠀⠀⠀⠸⠷⣄⠀⠀⠀⠀⠀⠀⠀⠀⠀⠀⠀⠀⠀⠀⠀⠀⠀⠀⠀⠀⠀⠀⠀⠀⠀⠀⠀⠀⎥\n",
       "⎢⠀⠀⠀⠀⠀⠀⠀⠀⠀⠀⠀⠈⣷⣄⠀⠀⠀⠀⠀⠀⠀⠀⠀⠀⠀⠀⠀⠀⠀⠀⠀⠀⠀⠀⠀⠀⠀⠀⠀⠀⎥\n",
       "⎢⠀⠀⠀⠀⠀⠀⠀⠀⠀⠐⠒⠛⠛⠛⢳⣄⠀⠀⠀⠀⠀⠀⠀⠀⠀⠀⠀⠀⠀⠀⠀⠀⠀⠀⠀⠀⠀⠀⠀⠀⎥\n",
       "⎢⠀⠀⠀⠀⠀⠀⠀⠀⠀⠐⠐⠶⠀⠐⠶⠿⠷⣄⠀⠀⠀⠀⠀⠀⠀⠀⠀⠀⠀⠀⠀⠀⠀⠀⠀⠀⠀⠀⠀⠀⎥\n",
       "⎢⠀⠀⠀⠀⠀⠀⠀⠀⠀⠀⠀⠀⠀⠀⠀⠀⠀⠚⢳⣄⠀⠀⠀⠀⠀⠀⠀⠀⠀⠀⠀⠀⠀⠀⠀⠀⠀⠀⠀⠀⎥\n",
       "⎢⠀⠀⠀⠀⠀⠀⠀⠀⠀⠀⠀⠀⠀⠀⠀⠀⠀⠀⠀⠸⠷⣄⠀⠀⠀⠀⠀⠀⠀⠀⠀⠀⠀⠀⠀⠀⠀⠀⠀⠀⎥\n",
       "⎢⠀⠀⠀⠀⠀⠀⠀⠀⠀⠀⠀⠀⠀⠀⠀⠀⠀⠀⠀⠀⠐⠛⢳⣄⠀⠀⠀⠀⠀⠀⠀⠀⠀⠀⠀⠀⠀⠀⠀⠀⎥\n",
       "⎢⠀⠀⠀⠀⠀⠀⠀⠀⠀⠀⠀⠀⠀⠀⠀⠀⠀⣀⣠⣤⢤⣤⣴⢾⣷⣄⠀⠀⠀⠀⠀⠀⠀⠀⠀⠀⠀⠀⠀⠀⎥\n",
       "⎢⠀⠀⠀⠀⠀⠀⠀⠀⠀⠀⠀⠀⠀⠀⠀⠀⠀⠉⠉⠉⠀⠀⠀⠀⠉⠉⣳⣄⠀⠀⠀⠀⠀⠀⠀⠀⠀⠀⠀⠀⎥\n",
       "⎢⠀⠀⠀⠀⠀⠀⠀⠀⠀⠀⠀⠀⠀⠀⠀⠀⠀⠀⠀⠀⠀⠀⠀⠀⠀⠀⠀⢨⡷⣄⠀⠀⠀⠀⠀⠀⠀⠀⠀⠀⎥\n",
       "⎢⠀⠀⠀⠀⠀⠀⠀⠀⠀⠀⠀⠀⠀⠀⠀⠀⠀⠀⠀⠀⠀⠀⠀⠀⠀⠀⠀⠈⠉⠉⠱⣄⠀⠀⠀⠀⠀⠀⠀⠀⎥\n",
       "⎢⠀⠀⠀⠀⠀⠀⠀⠀⠀⠀⠀⠀⠀⠀⠀⠀⠀⠀⠀⠀⠀⠀⠀⠀⠀⠀⠀⠀⠀⠀⠴⠾⠷⣄⠀⠀⠀⠀⠀⠀⎥\n",
       "⎢⠀⠀⠀⠀⠀⠀⠀⠀⠀⠀⠀⠀⠀⠀⠀⠀⠀⠀⠀⠀⠀⠀⠀⠀⠀⠀⣀⣠⡄⣤⣤⡴⢶⣾⣷⣄⠀⠀⠀⠀⎥\n",
       "⎢⠀⠀⠀⠀⠀⠀⠀⢠⣄⣴⠒⠆⠀⠀⠰⣤⣴⣏⢛⠀⠀⠀⠐⠒⠒⢚⣯⢩⠒⠛⠃⠀⠀⠐⠶⢿⣷⣄⠀⠀⎥\n",
       "⎣⣲⠆⣴⡏⠛⣧⣴⢾⡳⣿⠀⠉⠁⠀⠉⠛⠛⠧⠠⠤⠀⣤⣤⠀⠀⣤⡄⠀⠀⠀⠀⠀⠀⠀⠀⠀⣼⣿⣷⣄⎦\n",
       "U factor:\n",
       "1089×1089 SparseMatrixCSC{Float64, Int64} with 20895 stored entries:\n",
       "⎡⠙⢦⣴⡇⠀⠃⠀⠀⠀⠀⠀⠀⠀⠀⠀⠀⠀⠀⠀⠀⠀⠀⠀⠀⠀⠀⠀⠀⠀⠀⠀⠀⠀⠀⠀⠀⠀⠀⠸⠞⎤\n",
       "⎢⠀⠀⠙⢧⣤⡄⠀⠀⠀⠀⠀⠀⠀⠀⠀⠀⠀⠀⠀⠀⠀⠀⠀⠀⠀⠀⠀⠀⠀⠀⠀⠀⠀⠀⠀⠀⠀⠀⡴⠿⎥\n",
       "⎢⠀⠀⠀⠀⠙⢧⢀⢠⠀⠀⠀⠀⠀⠀⠀⠀⠀⠀⠀⠀⠀⠀⠀⠀⠀⠀⠀⠀⠀⠀⠀⠀⠀⠀⠀⠀⠀⠀⠿⣤⎥\n",
       "⎢⠀⠀⠀⠀⠀⠀⠙⢾⡀⡀⠀⠀⠀⠀⠀⠀⠀⠀⠀⠀⠀⠀⠀⠀⠀⠀⠀⠀⠀⠀⠀⠀⠀⠀⠀⠀⠀⣀⣰⣟⎥\n",
       "⎢⠀⠀⠀⠀⠀⠀⠀⠀⠑⢿⣀⡀⠀⠀⢀⠀⢀⠀⠀⠀⠀⠀⠀⠀⠀⠀⠀⠀⠀⠀⠀⠀⠀⠀⠀⠀⢀⣽⣽⣮⎥\n",
       "⎢⠀⠀⠀⠀⠀⠀⠀⠀⠀⠀⠙⢧⡀⠀⣼⠀⢰⡄⠀⠀⠀⠀⠀⠀⠀⠀⠀⠀⠀⠀⠀⠀⠀⠀⠀⠀⠸⠄⡄⠀⎥\n",
       "⎢⠀⠀⠀⠀⠀⠀⠀⠀⠀⠀⠀⠀⠙⢿⣿⠀⢀⠀⠀⠀⠀⠀⠀⠀⠀⠀⠀⠀⠀⠀⠀⠀⠀⠀⠀⠀⠀⠀⠁⠀⎥\n",
       "⎢⠀⠀⠀⠀⠀⠀⠀⠀⠀⠀⠀⠀⠀⠀⠙⢶⣼⡇⠀⠀⠀⠀⠀⠀⠀⠀⠀⠀⠀⠀⠀⠀⠀⠀⠀⠀⠐⣦⣧⠀⎥\n",
       "⎢⠀⠀⠀⠀⠀⠀⠀⠀⠀⠀⠀⠀⠀⠀⠀⠀⠙⢧⣠⠀⠀⠀⠀⠀⠀⢠⡄⠀⠀⠀⠀⠀⠀⠀⠀⠀⡴⢿⠿⡄⎥\n",
       "⎢⠀⠀⠀⠀⠀⠀⠀⠀⠀⠀⠀⠀⠀⠀⠀⠀⠀⠀⠙⢶⣀⡀⠀⠀⠀⣾⡇⠀⠀⠀⠀⠀⠀⠀⠀⠀⠛⠐⠀⡆⎥\n",
       "⎢⠀⠀⠀⠀⠀⠀⠀⠀⠀⠀⠀⠀⠀⠀⠀⠀⠀⠀⠀⠀⠙⢧⣴⠀⠀⣷⠀⠀⠀⠀⠀⠀⠀⠀⠀⠀⠀⠀⠀⣤⎥\n",
       "⎢⠀⠀⠀⠀⠀⠀⠀⠀⠀⠀⠀⠀⠀⠀⠀⠀⠀⠀⠀⠀⠀⠀⠙⢶⣰⣟⠀⠀⠀⠀⠀⠀⠀⠀⠀⠀⢰⠀⠀⠛⎥\n",
       "⎢⠀⠀⠀⠀⠀⠀⠀⠀⠀⠀⠀⠀⠀⠀⠀⠀⠀⠀⠀⠀⠀⠀⠀⠀⠙⢿⡇⠀⠀⠀⠀⠀⠀⠀⠀⠀⣸⢀⠀⣤⎥\n",
       "⎢⠀⠀⠀⠀⠀⠀⠀⠀⠀⠀⠀⠀⠀⠀⠀⠀⠀⠀⠀⠀⠀⠀⠀⠀⠀⠀⠙⢾⡀⣀⡀⠀⠀⠀⠀⣸⡏⣛⠀⠉⎥\n",
       "⎢⠀⠀⠀⠀⠀⠀⠀⠀⠀⠀⠀⠀⠀⠀⠀⠀⠀⠀⠀⠀⠀⠀⠀⠀⠀⠀⠀⠀⠙⢯⡇⠀⠀⠀⠀⣭⣼⠀⠀⠀⎥\n",
       "⎢⠀⠀⠀⠀⠀⠀⠀⠀⠀⠀⠀⠀⠀⠀⠀⠀⠀⠀⠀⠀⠀⠀⠀⠀⠀⠀⠀⠀⠀⠀⠑⢦⣰⡇⢀⡿⠉⠀⠀⠀⎥\n",
       "⎢⠀⠀⠀⠀⠀⠀⠀⠀⠀⠀⠀⠀⠀⠀⠀⠀⠀⠀⠀⠀⠀⠀⠀⠀⠀⠀⠀⠀⠀⠀⠀⠀⠙⢧⣸⣷⢀⠀⠀⠀⎥\n",
       "⎢⠀⠀⠀⠀⠀⠀⠀⠀⠀⠀⠀⠀⠀⠀⠀⠀⠀⠀⠀⠀⠀⠀⠀⠀⠀⠀⠀⠀⠀⠀⠀⠀⠀⠀⠙⢿⣼⣇⠀⠀⎥\n",
       "⎢⠀⠀⠀⠀⠀⠀⠀⠀⠀⠀⠀⠀⠀⠀⠀⠀⠀⠀⠀⠀⠀⠀⠀⠀⠀⠀⠀⠀⠀⠀⠀⠀⠀⠀⠀⠀⠙⢿⣶⣿⎥\n",
       "⎣⠀⠀⠀⠀⠀⠀⠀⠀⠀⠀⠀⠀⠀⠀⠀⠀⠀⠀⠀⠀⠀⠀⠀⠀⠀⠀⠀⠀⠀⠀⠀⠀⠀⠀⠀⠀⠀⠀⠙⢿⎦"
      ]
     },
     "metadata": {},
     "output_type": "display_data"
    }
   ],
   "source": [
    "# This is matrix assembly on a function. How do I do it if the conductivity is given as a coefficient vector for Q1 FE Space?\n",
    "# Hopefully this is: ∫(γ * ∇(u)⋅∇(v))dΩ \n",
    "function assemble_K(cellvalues::CellValues, dh::DofHandler, γ)\n",
    "    K = allocate_matrix(dh)\n",
    "    n_basefuncs = getnbasefunctions(cellvalues)\n",
    "    Ke = zeros(n_basefuncs, n_basefuncs)\n",
    "    assembler = start_assemble(K)\n",
    "    for cell in CellIterator(dh)\n",
    "        fill!(Ke, 0)\n",
    "        reinit!(cellvalues, cell)\n",
    "        for q in 1:getnquadpoints(cellvalues)\n",
    "            dΩ = getdetJdV(cellvalues, q)\n",
    "            x = spatial_coordinate(cellvalues, q, getcoordinates(cell))\n",
    "            σ = γ(x)\n",
    "            for i in 1:n_basefuncs\n",
    "                ∇v = shape_gradient(cellvalues, q, i)\n",
    "                for j in 1:n_basefuncs\n",
    "                    ∇u = shape_gradient(cellvalues, q, j)\n",
    "                    Ke[i, j] += σ * (∇v ⋅ ∇u) * dΩ\n",
    "                end\n",
    "            end\n",
    "        end\n",
    "        assemble!(assembler, celldofs(cell), Ke)\n",
    "    end\n",
    "    return K\n",
    "end\n",
    "\n",
    "K_true = assemble_K(cellvalues, dh, conductivity)\n",
    "K_true_LU = lu(K_true)"
   ]
  },
  {
   "cell_type": "code",
   "execution_count": 11,
   "id": "eb7d5ea0",
   "metadata": {},
   "outputs": [],
   "source": [
    "# Sanity check: (positive semidefinite self adjoint stiffness matrix)\n",
    "@assert K_true == K_true'  # Not true in Gridap.jl\n",
    "if ndofs(dh) < 500\n",
    "    K_dense = Matrix(K_true)\n",
    "    eig_min = minimum(eigvals(K_dense))\n",
    "    @assert eig_min > -1e-14\n",
    "    print(\"Smallest eigenvalue: \", eig_min)\n",
    "end"
   ]
  },
  {
   "cell_type": "markdown",
   "id": "12b8ad31",
   "metadata": {},
   "source": [
    "Now we generate current patterns: We assume one current source and one current sink. Important is that it sums of to zero.\n",
    "We generate the right hand side force vectors $g_1, ... g_n$ as an Matrix G and calculate $f_1, ..., f_n$"
   ]
  },
  {
   "cell_type": "code",
   "execution_count": 12,
   "id": "c4ba150c",
   "metadata": {},
   "outputs": [
    {
     "data": {
      "text/plain": [
       "128×8128 Matrix{Float64}:\n",
       "  2.28031     2.25774       2.8858     …   0.00896351   0.00471518\n",
       " -0.822377    0.128708      0.503204       0.00896068   0.00471448\n",
       "  0.15127    -0.907189      0.708219       0.00896638   0.0047159\n",
       " -0.102286    0.0801673    -1.03945        0.00895235   0.00471241\n",
       " -0.0645602   0.030441     -0.242412       0.00893867   0.00470901\n",
       " -0.0399858   0.0134256    -0.147098   …   0.00891984   0.00470433\n",
       " -0.0299563   0.00458881   -0.0979698      0.00889602   0.0046984\n",
       " -0.0244935  -0.000326226  -0.074219       0.00886739   0.00469129\n",
       " -0.0212772  -0.00332372   -0.0605148      0.00883415   0.00468302\n",
       " -0.0192336  -0.00526549   -0.0519835      0.0087965    0.00467366\n",
       "  ⋮                                    ⋱               \n",
       " -0.0134128  -0.0109905    -0.0283843      0.0240971    0.00839202\n",
       " -0.013424   -0.0109791    -0.0284286  …   0.0284299    0.00941065\n",
       " -0.0134336  -0.0109693    -0.0284667      0.0352115    0.0109726\n",
       " -0.0134417  -0.0109611    -0.0284985      0.0466772    0.0135594\n",
       " -0.0134482  -0.0109545    -0.0285243      0.0698071    0.0181989\n",
       " -0.0134532  -0.0109494    -0.0285442      0.113926     0.0292619\n",
       " -0.0134568  -0.0109458    -0.0285583  …   0.470987     0.0462862\n",
       " -0.0134589  -0.0109436    -0.0285667     -0.187214     0.353831\n",
       " -0.0134596  -0.0109429    -0.0285695     -1.15553     -0.922032"
      ]
     },
     "metadata": {},
     "output_type": "display_data"
    }
   ],
   "source": [
    "num_modes = Int64((nzc^2-nzc)//2)\n",
    "G_small = zeros(nzc,num_modes)\n",
    "G = zeros(ndofs(dh),num_modes)\n",
    "k = 1\n",
    "for i in 1:(nzc-1)\n",
    "    for j in i+1:nzc\n",
    "        G_small[i,k] = 1.0\n",
    "        G_small[j,k] = -1.0\n",
    "        G[:,k] = up(G_small[:,k])\n",
    "        k += 1\n",
    "    end\n",
    "end\n",
    "F_big = K_true_LU \\ G\n",
    "F = zeros(nzc,num_modes)\n",
    "k = 1\n",
    "for i in 1:(nzc-1)\n",
    "    for j in i+1:nzc\n",
    "        F[:,k] = down(F_big[:,k])\n",
    "        k += 1\n",
    "    end\n",
    "end\n",
    "col_means = mean(F, dims=1)\n",
    "F .-= col_means"
   ]
  },
  {
   "cell_type": "markdown",
   "id": "73781c70",
   "metadata": {},
   "source": [
    "To be realistic we will add some noise:\n",
    "We have to ensure that our noise has mean zero."
   ]
  },
  {
   "cell_type": "code",
   "execution_count": 13,
   "id": "be5718f6",
   "metadata": {},
   "outputs": [
    {
     "data": {
      "text/plain": [
       "mean_zero_noise (generic function with 1 method)"
      ]
     },
     "metadata": {},
     "output_type": "display_data"
    }
   ],
   "source": [
    "function mean_zero_noise(n::Int64, σ::Float64)\n",
    "    out = σ * randn(n)\n",
    "    mean = Statistics.mean(out)\n",
    "    out .- mean\n",
    "end"
   ]
  },
  {
   "cell_type": "markdown",
   "id": "bc589a66",
   "metadata": {},
   "source": [
    "To simplify things we can also do SVD:"
   ]
  },
  {
   "cell_type": "code",
   "execution_count": 14,
   "id": "ec45d7ba",
   "metadata": {},
   "outputs": [],
   "source": [
    "# Implement SVD here later\n",
    "# reduce the number of modes according to used SVD modes\n",
    "function do_svd(F,G)\n",
    "    Λ = F * G'\n",
    "    num_modes = (size(Λ, 1) - 1)\n",
    "    V,Σ,U = svd(Λ)\n",
    "    U = U[:,1:num_modes]\n",
    "    V = V[:,1:num_modes]\n",
    "    col_means = mean(U, dims=1)\n",
    "    U .-= col_means\n",
    "    col_means = mean(V, dims=1)\n",
    "    V .-= col_means\n",
    "    # Not unimportant:\n",
    "    V = V * diagm(Σ[1:num_modes]) \n",
    "    return V, Σ, U, Λ, num_modes\n",
    "end\n",
    "F, Σ, G_small, Λ, num_modes = do_svd(F,G_small)\n",
    "# Apply singular Values:\n",
    "G = zeros(ndofs(dh),num_modes)\n",
    "F_big = copy(G)\n",
    "for i in 1:num_modes\n",
    "    G[:,i] = up(G_small[:,i])\n",
    "    F_big[:,i] = up(F[:,i])\n",
    "end"
   ]
  },
  {
   "cell_type": "markdown",
   "id": "95c3a036",
   "metadata": {},
   "source": [
    "now that we have done SVD on the original choice of modes we have \n",
    "- Truncation of SVD modes, thus regularization\n",
    "- Averaging of noise over multiple measurements\n",
    "- Elimination of any unncessary number of nodes we choose before."
   ]
  },
  {
   "cell_type": "markdown",
   "id": "98d6dd1a",
   "metadata": {},
   "source": [
    "Here we define a struct where we save and preallocate all the necessary information for the solver step."
   ]
  },
  {
   "cell_type": "code",
   "execution_count": 15,
   "id": "5f965019",
   "metadata": {},
   "outputs": [
    {
     "name": "stdout",
     "output_type": "stream",
     "text": [
      "Norm of Matrix difference: 8.536307354525758e-6\n",
      "norm of difference of first SVD mode: 12.060954332454587\n"
     ]
    },
    {
     "ename": "AssertionError",
     "evalue": "AssertionError: vector_norm < 10.0",
     "output_type": "error",
     "traceback": [
      "AssertionError: vector_norm < 10.0\n",
      "\n",
      "Stacktrace:\n",
      " [1] top-level scope\n",
      "   @ ~/Code/Julia/FerriteStuff/Notebooks/Github/jl_notebook_cell_df34fa98e69747e1a8f8a730347b8e2f_X45sZmlsZQ==.jl:11"
     ]
    }
   ],
   "source": [
    "# Implement a sanity check if the two matrices assembled from the function and the vector are roughly the same (use relatively coarse ≈ )\n",
    "Matrix_norm = norm(K_from_vec - K_true)\n",
    "println(\"Norm of Matrix difference: \",Matrix_norm)\n",
    "@assert Matrix_norm < 20.0\n",
    "\n",
    "g_test = G[:,1]\n",
    "f_test_true = K_true \\ g_test\n",
    "f_test_vec = K_from_vec \\g_test\n",
    "vector_norm = norm(f_test_true - f_test_vec)\n",
    "println(\"norm of difference of first SVD mode: \" ,vector_norm)\n",
    "@assert vector_norm < 10.0"
   ]
  },
  {
   "cell_type": "code",
   "execution_count": 16,
   "id": "059522f1",
   "metadata": {},
   "outputs": [],
   "source": [
    "mutable struct EITMode\n",
    "    u::AbstractVector\n",
    "    λ::AbstractVector\n",
    "    δσ::AbstractVector\n",
    "    f::AbstractVector\n",
    "    g::AbstractVector\n",
    "    rhs::AbstractVector\n",
    "    error::Float64\n",
    "    length::Int64\n",
    "    m::Int64\n",
    "end\n",
    "function EITMode(g::AbstractVector, f::AbstractVector)\n",
    "    L = length(g)\n",
    "    M = length(f)\n",
    "    return EITMode(zeros(L), zeros(L), zeros(L), f, g, zeros(L), 0.0, L, M)\n",
    "end\n",
    "mode_dict = Dict{Int64,EITMode}()\n",
    "for i in 1:num_modes\n",
    "    mode_dict[i] = EITMode(G[:,i],F[:,i])\n",
    "end"
   ]
  },
  {
   "cell_type": "markdown",
   "id": "be6c2f19",
   "metadata": {},
   "source": [
    "### Solving EIT"
   ]
  },
  {
   "cell_type": "markdown",
   "id": "e02cd183",
   "metadata": {},
   "source": [
    "We will now assume a starting conductivity guess $\\sigma_0(x) = 1.0 $"
   ]
  },
  {
   "cell_type": "code",
   "execution_count": 17,
   "id": "180dc966",
   "metadata": {},
   "outputs": [
    {
     "data": {
      "text/plain": [
       "#24 (generic function with 1 method)"
      ]
     },
     "metadata": {},
     "output_type": "display_data"
    }
   ],
   "source": [
    "σ₀ = (x) -> 1.0"
   ]
  },
  {
   "cell_type": "markdown",
   "id": "2ecc5166",
   "metadata": {},
   "source": [
    "We would prefer to save $\\sigma$ as a vector for use in FEM and also have a method to export each"
   ]
  },
  {
   "cell_type": "code",
   "execution_count": 18,
   "id": "831b2fad",
   "metadata": {},
   "outputs": [
    {
     "data": {
      "text/plain": [
       "1089-element Vector{Float64}:\n",
       " 0.9999999999999998\n",
       " 1.0\n",
       " 0.9999999999999996\n",
       " 1.0000000000000002\n",
       " 0.9999999999999989\n",
       " 1.0000000000000007\n",
       " 1.0000000000000002\n",
       " 0.9999999999999992\n",
       " 0.9999999999999996\n",
       " 1.0000000000000009\n",
       " ⋮\n",
       " 1.0\n",
       " 1.0000000000000004\n",
       " 1.0\n",
       " 1.0000000000000009\n",
       " 0.9999999999999997\n",
       " 1.0000000000000007\n",
       " 0.9999999999999998\n",
       " 1.0000000000000002\n",
       " 0.9999999999999997"
      ]
     },
     "metadata": {},
     "output_type": "display_data"
    }
   ],
   "source": [
    "# Project function here: \n",
    "σ = assemble_function_vector(cellvalues,dh, σ₀, MC)\n"
   ]
  },
  {
   "cell_type": "markdown",
   "id": "37970b5d",
   "metadata": {},
   "source": [
    "A prerequisite is that we can calculate the bilinear map: $\\nabla(u)\\cdot\\nabla(\\lambda)$\n"
   ]
  },
  {
   "cell_type": "code",
   "execution_count": 19,
   "id": "4f9e1067",
   "metadata": {},
   "outputs": [
    {
     "data": {
      "text/plain": [
       "calculate_bilinear_map! (generic function with 1 method)"
      ]
     },
     "metadata": {},
     "output_type": "display_data"
    }
   ],
   "source": [
    "# Assemble right-hand side for the projection of ∇(u) ⋅ ∇(λ) onto the FE space.\n",
    "# This computes rhs_i = ∫ (∇u ⋅ ∇λ) ϕ_i dΩ for each test function ϕ_i.\n",
    "# Assuming u and λ are scalar fields in the same FE space.\n",
    "# cellvalues should be CellScalarValues(qr, ip) where qr is QuadratureRule, ip is Interpolation.\n",
    "function calculate_bilinear_map(a::AbstractVector, b::AbstractVector, cellvalues::CellValues, dh::DofHandler, M_cholesky)\n",
    "    n = ndofs(dh)\n",
    "    rhs = zeros(n)\n",
    "    n_basefuncs = getnbasefunctions(cellvalues)\n",
    "    qpoints = getnquadpoints(cellvalues)\n",
    "    re = zeros(n_basefuncs)\n",
    "    \n",
    "    for cell in CellIterator(dh)\n",
    "        dofs = celldofs(cell)\n",
    "        reinit!(cellvalues, cell)\n",
    "        fill!(re, 0.0)\n",
    "        \n",
    "        ae = a[dofs]\n",
    "        be = b[dofs]\n",
    "        \n",
    "        for q in 1:qpoints\n",
    "            dΩ = getdetJdV(cellvalues, q)\n",
    "            \n",
    "            ∇a_q = zero(Vec{2,Float64})\n",
    "            ∇b_q = zero(Vec{2,Float64})\n",
    "            \n",
    "            for j in 1:n_basefuncs\n",
    "                ∇ϕⱼ = shape_gradient(cellvalues, q, j)\n",
    "                ∇a_q += ae[j] * ∇ϕⱼ\n",
    "                ∇b_q += be[j] * ∇ϕⱼ\n",
    "            end\n",
    "            \n",
    "            grad_dot_product = ∇a_q ⋅ ∇b_q\n",
    "            \n",
    "            for i in 1:n_basefuncs\n",
    "                ϕᵢ = shape_value(cellvalues, q, i)\n",
    "                re[i] += grad_dot_product * ϕᵢ * dΩ\n",
    "            end\n",
    "        end\n",
    "        assemble!(rhs, dofs, re)\n",
    "    end\n",
    "    \n",
    "    return M \\ rhs\n",
    "end\n",
    "\n",
    "function calculate_bilinear_map!(out::AbstractVector , rhs::AbstractVector, a::AbstractVector, b::AbstractVector, cellvalues::CellValues, dh::DofHandler, M_cholesky)\n",
    "    n = ndofs(dh)\n",
    "    fill!(rhs,0.0)\n",
    "    n_basefuncs = getnbasefunctions(cellvalues)\n",
    "    qpoints = getnquadpoints(cellvalues)\n",
    "    re = zeros(n_basefuncs)\n",
    "    \n",
    "    for cell in CellIterator(dh)\n",
    "        dofs = celldofs(cell)\n",
    "        reinit!(cellvalues, cell)\n",
    "        fill!(re, 0.0)\n",
    "        \n",
    "        ae = a[dofs]\n",
    "        be = b[dofs]\n",
    "        \n",
    "        for q in 1:qpoints\n",
    "            dΩ = getdetJdV(cellvalues, q)\n",
    "            \n",
    "            ∇a_q = zero(Vec{2,Float64})\n",
    "            ∇b_q = zero(Vec{2,Float64})\n",
    "            \n",
    "            for j in 1:n_basefuncs\n",
    "                ∇ϕⱼ = shape_gradient(cellvalues, q, j)\n",
    "                ∇a_q += ae[j] * ∇ϕⱼ\n",
    "                ∇b_q += be[j] * ∇ϕⱼ\n",
    "            end\n",
    "            \n",
    "            grad_dot_product = ∇a_q ⋅ ∇b_q\n",
    "            \n",
    "            for i in 1:n_basefuncs\n",
    "                ϕᵢ = shape_value(cellvalues, q, i)\n",
    "                re[i] += grad_dot_product * ϕᵢ * dΩ\n",
    "            end\n",
    "        end\n",
    "        assemble!(rhs, dofs, re)\n",
    "    end\n",
    "    \n",
    "    out = M \\ rhs\n",
    "    return out\n",
    "end"
   ]
  },
  {
   "cell_type": "markdown",
   "id": "4186951d",
   "metadata": {},
   "source": [
    "With the given matrix and projector our we need to optimize for every mode $(f_i,g_i)$:"
   ]
  },
  {
   "cell_type": "code",
   "execution_count": 20,
   "id": "7c6ff8ec",
   "metadata": {},
   "outputs": [
    {
     "data": {
      "text/plain": [
       "state_adjoint_step_initial! (generic function with 1 method)"
      ]
     },
     "metadata": {},
     "output_type": "display_data"
    }
   ],
   "source": [
    "function state_adjoint_step!(mode::EITMode, K::AbstractMatrix, M, dh::DofHandler, cellvalues::CellValues, maxiter=500)\n",
    "    cg!(mode.u,K, mode.g; maxiter = maxiter)\n",
    "    b = down(mode.u)\n",
    "    b = 2*(b - mode.f)\n",
    "    b .-= Statistics.mean(b)\n",
    "    cg!(mode.λ, K, up(b); maxiter = maxiter)\n",
    "    mode.error = norm(b)\n",
    "    # add calculation of ∇(u)⋅∇(λ) here once figured out\n",
    "    mode.δσ = calculate_bilinear_map(mode.λ, mode.u, cellvalues, dh, M)    \n",
    "    # Check whether this needs + or - as a sign.\n",
    "end\n",
    "\n",
    "function state_adjoint_step_initial!(mode::EITMode, K_LU, M, dh::DofHandler, cellvalues::CellValues)\n",
    "    mode.u = K_LU \\ mode.g\n",
    "    b = down(mode.u)\n",
    "    b = 2*(b - mode.f)\n",
    "    b .-= Statistics.mean(b)\n",
    "    mode.λ = K_LU \\ up(b)\n",
    "    mode.error = norm(b)\n",
    "    # add calculation of ∇(u)⋅∇(λ) here once figured out\n",
    "    mode.δσ = calculate_bilinear_map(mode.λ, mode.u, cellvalues, dh, M)    \n",
    "    # Check whether this needs + or - as a sign.\n",
    "end"
   ]
  },
  {
   "cell_type": "markdown",
   "id": "5a17bfa8",
   "metadata": {},
   "source": [
    "Additinal we need to assemble the TV regularizer. The required Mass matrix we already have asembled and ready to use. \n"
   ]
  },
  {
   "cell_type": "code",
   "execution_count": 21,
   "id": "58867593",
   "metadata": {},
   "outputs": [
    {
     "data": {
      "text/plain": [
       "TV([0.0, 0.0, 0.0, 0.0, 0.0, 0.0, 0.0, 0.0, 0.0, 0.0  …  0.0, 0.0, 0.0, 0.0, 0.0, 0.0, 0.0, 0.0, 0.0, 0.0], [0.0, 0.0, 0.0, 0.0, 0.0, 0.0, 0.0, 0.0, 0.0, 0.0  …  0.0, 0.0, 0.0, 0.0, 0.0, 0.0, 0.0, 0.0, 0.0, 0.0], [0.0, 0.0, 0.0, 0.0, 0.0, 0.0, 0.0, 0.0, 0.0, 0.0  …  0.0, 0.0, 0.0, 0.0, 0.0, 0.0, 0.0, 0.0, 0.0, 0.0], 0.0)"
      ]
     },
     "metadata": {},
     "output_type": "display_data"
    }
   ],
   "source": [
    "mutable struct TV\n",
    "    δ::AbstractArray # Is supposed to hold the error\n",
    "    rhs::AbstractArray # \n",
    "    err_vec::AbstractArray\n",
    "    error::Float64\n",
    "end\n",
    "function TV(n::Int64)\n",
    "    TV(zeros(n),zeros(n),zeros(n),0.0)\n",
    "end\n",
    "\n",
    "function calc_tv_step!(σ::AbstractVector{Float64}, tv::TV, dh::DofHandler, cellvalues::CellValues, M, η=1e-8)\n",
    "    n = ndofs(dh)\n",
    "    r = tv.rhs\n",
    "    r = zeros(n)\n",
    "    tv_error = 0.0\n",
    "\n",
    "    for cell in CellIterator(dh)\n",
    "        reinit!(cellvalues, cell)\n",
    "        dofs = celldofs(cell)\n",
    "        σe = σ[dofs]\n",
    "\n",
    "        re = zeros(length(dofs))\n",
    "        # quadrature loop\n",
    "        for q in 1:getnquadpoints(cellvalues)\n",
    "            dΩ = getdetJdV(cellvalues, q)\n",
    "            ∇ϕ = shape_gradient(cellvalues, q)   # size (dim, ndofs)\n",
    "            ∇σ = ∇ϕ * σe                        # vector of length dim\n",
    "            a = 1 / sqrt(dot(∇σ, ∇σ) + η)\n",
    "            tv_error += sqrt(dot(∇σ, ∇σ) + η) * dΩ\n",
    "\n",
    "            ϕvals = shape_function_values(cellvalues, q)\n",
    "            for i in 1:length(dofs)\n",
    "                ∇ϕi = ∇ϕ[:, i]\n",
    "                re[i] += a * dot(∇σ, ∇ϕi) * dΩ\n",
    "            end\n",
    "        end\n",
    "        assemble!(r, dofs, re)\n",
    "    end\n",
    "\n",
    "    tv.δ = M \\ r          \n",
    "    tv.error = tv_error\n",
    "end\n",
    "tv = TV(ndofs(dh))"
   ]
  },
  {
   "cell_type": "markdown",
   "id": "bd9051f0",
   "metadata": {},
   "source": [
    "For finding suitable stepsizes we will use Gauss-Newton.\n",
    "Since we want to avoid implementing a dense Hessian Matrix we use SVD to invert the Matrix."
   ]
  },
  {
   "cell_type": "code",
   "execution_count": 22,
   "id": "67000b9f",
   "metadata": {},
   "outputs": [
    {
     "data": {
      "text/plain": [
       "gauss_newton (generic function with 1 method)"
      ]
     },
     "metadata": {},
     "output_type": "display_data"
    }
   ],
   "source": [
    "function gauss_newton(J::Matrix{Float64}, r::Vector{Float64}; λ::Float64=1e-3)\n",
    "    U, Σ, V = svd(J, full=false)\n",
    "    n = length(Σ)\n",
    "    Σ_damped = zeros(n)\n",
    "    for i in 1:n\n",
    "        Σ_damped[i] = Σ[i] / (Σ[i]^2 + λ) # Levenberg-Marquardt regularization\n",
    "    end\n",
    "    V * (Σ_damped .* (U' * r))\n",
    "end\n",
    "# Note: If we do SVD further up on the boundary pairs that we selected we can use truncated SVD to approximate/regularize the boundary operator Λ. Due to that (i.e. a highly reduced number of boundary pairs) SVD in Gauss-newton might become an efficient option. Else I want to avoid assembling a huge dense Hessian Matrix."
   ]
  },
  {
   "cell_type": "markdown",
   "id": "917dc572",
   "metadata": {},
   "source": [
    "Now that we have all the pieces we can assemble the full optimization step:"
   ]
  },
  {
   "cell_type": "code",
   "execution_count": 23,
   "id": "7e857dcd",
   "metadata": {},
   "outputs": [
    {
     "data": {
      "text/plain": [
       "full_step! (generic function with 3 methods)"
      ]
     },
     "metadata": {},
     "output_type": "display_data"
    }
   ],
   "source": [
    "# note: If you want to use truncated SVD as regularization one can pass a smaller number than num_modes\n",
    "function full_step!(M,σ::AbstractVector ,modes::Dict{Int64,EITMode}, num_modes::Int64,tv::TV, dh::DofHandler, cellvalues::CellValues, do_TV::Bool =true, β::Float64 = 1e-5)\n",
    "    # Assemble Matrix: (from vector)\n",
    "    K = assemble_K(cellvalues,dh,σ)\n",
    "    if do_TV\n",
    "        J = zeros(num_modes+1,ndofs(dh))\n",
    "        r = zeros(num_modes+1)\n",
    "        # Launch TV regularizer:\n",
    "        tv_task = Threads.@spawn begin\n",
    "            calc_TV_step!(σ,tv, dh,cellvalues,M)\n",
    "        end\n",
    "    else\n",
    "        J = zeros(num_modes,ndofs(dh))\n",
    "        r = zeros(num_modes)\n",
    "    end\n",
    "    # solve adjoint state method\n",
    "    Threads.@threads for i in 1:num_modes\n",
    "        state_adjoint_step!(mode_dict[i], K, M, dh, cellvalues)\n",
    "    end\n",
    "\n",
    "    # Fetch gradients & errors\n",
    "    for i in 1:num_modes\n",
    "        J[i,:] = mode_dict[i].δσ\n",
    "        r[i] = mode_dict[i].error\n",
    "    end\n",
    "    if do_TV\n",
    "        # Fetch TV regularization\n",
    "        fetch(tv_task)\n",
    "        J[num_modes+1,:] = tv.δ\n",
    "        r[num_modes+1] = β * tv.error \n",
    "    end    \n",
    "    # calculate steps with Gauss-Newton\n",
    "    δσ = gauss_newton(J, r, λ=1e-3)\n",
    "    # update σ\n",
    "    σ .-= δσ\n",
    "    σ .= max.(σ ,1e-12) # Ensure positivity\n",
    "    return σ,δσ,r\n",
    "end"
   ]
  },
  {
   "cell_type": "code",
   "execution_count": 24,
   "id": "3954fd92",
   "metadata": {},
   "outputs": [
    {
     "data": {
      "text/plain": [
       "full_step_initial! (generic function with 1 method)"
      ]
     },
     "metadata": {},
     "output_type": "display_data"
    }
   ],
   "source": [
    "function full_step_initial!(M,σ::AbstractVector ,modes::Dict{Int64,EITMode}, num_modes::Int64,tv::TV, dh::DofHandler, cellvalues::CellValues)\n",
    "    # Assemble Matrix: (from vector)\n",
    "    K = assemble_K(cellvalues,dh,σ)\n",
    "    K_LU = lu(K)\n",
    "    J = zeros(num_modes,ndofs(dh))\n",
    "    r = zeros(num_modes)\n",
    "    # solve adjoint state method\n",
    "    Threads.@threads for i in 1:num_modes\n",
    "        state_adjoint_step!(mode_dict[i], K, M, dh, cellvalues)\n",
    "    end\n",
    "\n",
    "    # Fetch gradients & errors\n",
    "    for i in 1:num_modes\n",
    "        J[i,:] = mode_dict[i].δσ\n",
    "        r[i] = mode_dict[i].error\n",
    "    end\n",
    "    # calculate steps with Gauss-Newton\n",
    "    δσ = gauss_newton(J, r, λ=1e-3)\n",
    "    # update σ\n",
    "    println(δσ)\n",
    "    σ .-= δσ\n",
    "    σ .= max.(σ ,1e-12) # Ensure positivity\n",
    "    return K,J,δσ,r\n",
    "end"
   ]
  },
  {
   "cell_type": "code",
   "execution_count": 25,
   "id": "a09d8951",
   "metadata": {},
   "outputs": [
    {
     "name": "stdout",
     "output_type": "stream",
     "text": [
      "With error: 15.284988831024412\n"
     ]
    }
   ],
   "source": [
    "error  = norm(cond_vec - σ)\n",
    "println(\"With error: \", error)"
   ]
  },
  {
   "cell_type": "markdown",
   "id": "5fe0b5dd",
   "metadata": {},
   "source": [
    "Let's run this optimization loop a few times:"
   ]
  },
  {
   "cell_type": "code",
   "execution_count": 26,
   "id": "19c54cea",
   "metadata": {},
   "outputs": [
    {
     "name": "stdout",
     "output_type": "stream",
     "text": [
      "[-0.00040678675893775034, -0.004838327402799584, -0.004117511149112741, -0.0005128978531992347, -0.0020047575569174716, 0.01436297179080164, -0.0025665719108181268, 0.006422266161323681, -0.0027763260320212034, 0.0003605936297533587, -0.0033841894373925546, -0.004095111108287325, -0.003321264910403851, -0.0060500965602266745, -0.003604487962392288, -0.0012953994705108707, -0.0031902618956787527, 0.0027219141734083673, -0.003394609528526532, 0.00585055088054237, -0.0030486506855315525, 0.005654350256458143, -0.003286953826450735, 0.006298555592566267, -0.002941729466211801, 0.0049154920629108645, -0.0032309147955901936, 0.0036246494777627887, -0.0030017368090115943, -0.00045751970771907386, -0.003375692406907203, -0.0029492286084867787, -0.003100541329106213, -0.0047562151079835425, -0.0032983734171745946, -0.0023248961260052873, -0.002839128476556118, 0.00011295042394287311, -0.002997214788478748, 0.0028024472445789626, -0.002721102399595614, 0.0005324577822288844, -0.003194167144241457, -0.003770056071269887, -0.003095836301436729, -0.009006996508647308, -0.003293161235762759, -0.005754236831978121, -0.0024784064499370822, 0.006135403357448277, -0.0022342043747537875, 0.02012481572344497, -0.0023126328682791975, 0.012606904554117487, -0.0038935650120687105, -0.018294014845310527, -0.0036590230061529215, -0.03075180202841136, -0.002464634598401916, 0.009649893681105085, -0.0022703833997345132, 0.028209737451386933, -6.651104853196398e-5, -0.007770514714715245, -0.00023167096934654504, -0.0038563864379203595, 0.002778093018789454, -0.002284667498874669, -0.009243710393103672, -0.009961062863619342, -0.0009456894109317557, 0.0036898284288012276, 0.006287324177915786, 0.006272273184453498, 0.005904094622331481, 0.004823644341596182, 0.003909395095843779, 0.0023053600060649495, 0.0011555788988900089, -2.350062637384952e-5, -7.673607892186253e-5, 0.0001228098037088631, 0.0011939016644548757, 0.001880381699226676, 0.002656681473032298, 0.002353850751905926, 0.0018160583685453294, 0.0005443533377039443, 3.001392826667182e-5, -3.135091103008956e-7, 0.0015461727796427045, 0.0038222625462979126, 0.007702095763679686, 0.008973484365757883, 0.0011996443418572547, -0.027021201552804144, -0.0026838322033169333, 0.016266955918348435, -0.003475350461516423, -0.004634589751122273, -0.0028232903185451516, -0.015821546626053024, -0.004185416008997726, -0.00013060381506433392, 0.002103902799533502, 0.002347399563722652, 0.0024895177616053124, 0.0023514630456068705, 0.002081107485443292, 0.0014359791839254161, 0.0007301598442068312, -0.0001948243120378872, -0.0010236108289213594, -0.0018136363422135457, -0.0020732185954439658, -0.001827668660699975, -0.0008857039704824113, 0.00017307463266253171, 0.0010394739396272547, 0.00102457262967778, 0.00029577913641201745, -0.0008295149186251199, -0.0011346237575466578, -4.066952923973679e-5, 0.002424996547771816, 0.004420824090351956, 0.004328022572785145, 0.0013290415345371782, -0.0035559604134409186, -0.010076584402784436, 0.010742662326786953, -0.0013250631325939085, -0.010113503090651055, -0.0021643638575274083, -0.004543875735817271, -3.350074112803335e-5, 0.0025859476134506504, 0.0032876782373608363, 0.0031662046905433865, 0.002625747984067422, 0.0020075532805449033, 0.0013173662814456753, 0.0005973957916084004, -0.00021834890723596018, -0.0010077598734558179, -0.00171617840723639, -0.002145158299571981, -0.0022476108689791705, -0.0019238259967155687, -0.001298329866903224, -0.0004778675936676701, 0.00023816501253669196, 0.0006831293823958289, 0.000668009249884122, 0.00028526426793774797, -0.0003221972602451352, -0.0007348330724963331, -0.0005610522669639759, 0.0006078304997621648, 0.0020997684167274214, 0.0025168606407286807, -0.0008539147640480926, 0.00339558093766902, 0.00955453861071905, -0.0032775545612928397, 0.006313576954641131, -0.003414554904728821, -0.0002661787826962973, 0.002619023305149785, 0.0025523794680735053, 0.0026270570838282997, 0.0022385746261188934, 0.0017795495280978034, 0.0012368088005797078, 0.000655370579915534, 2.066814472141649e-5, -0.0006308571783241426, -0.0012753563378973274, -0.0018281451508210917, -0.0022143900712382233, -0.0023234095147015997, -0.002112173445769049, -0.0015766448396697657, -0.00083394290612057, -3.931850376264498e-5, 0.0005933016347087291, 0.0009164750878390298, 0.0008383610018060499, 0.0004169420578080848, -0.00020284320051565594, -0.0007886029420471282, -0.0010963636642360075, -0.0011546318462682308, -0.000278751498406529, -0.0003982251697247683, 0.009157385307307152, 0.0010569912539432056, -0.001957668162031939, 0.003154740260396743, -0.002310427334390327, 0.0027150113753374415, 0.0011161919777322223, 0.001716955650183327, 0.0017734891245915609, 0.0016336754311332478, 0.0012538616940824274, 0.0007648968977060073, 0.000211844163662642, -0.00036519189875551387, -0.0009419865524441475, -0.0014733235484650662, -0.0019074255634283013, -0.0021742317944000687, -0.0022180979250275034, -0.001998957074455788, -0.0015270540309786395, -0.0008539462189329146, -8.66181048968404e-5, 0.0006451988770253712, 0.0011920005578269098, 0.0014243029960726383, 0.0012389838378739047, 0.0006146943986204033, -0.00038614304952541885, -0.0015156933949935238, -0.002627216140953311, -0.00266242275349003, -0.002688361847413705, 0.008235578611964878, 0.003539854799691734, -0.0036459474003858123, 0.0036927709520748458, -0.0038631925708038696, -0.00045872229952916466, -0.0005436726780734019, 0.0006604214774364295, 0.00114067434470825, 0.0011618189942921083, 0.0008683798532002727, 0.00041913629519724585, -0.00010207856790122126, -0.000641407133086674, -0.001157240519059881, -0.0016108171547339306, -0.0019562769871039882, -0.0021465702473939907, -0.0021366811077025323, -0.0019007297792882467, -0.0014393552901421445, -0.0007914193692654808, -2.8720969125771396e-5, 0.0007458038761932759, 0.001411460858871055, 0.0018338860743889046, 0.0018780088043055874, 0.001426238316885382, 0.00039658083968950516, -0.001126714474429468, -0.003055906118155469, -0.004033514803840929, -0.004854392424927557, 0.0067092415519709545, -0.0005645377486276764, -0.002063622652931729, 1.6479069002807607e-5, -0.002828148714463146, -0.0031327745059986406, -0.0015519301108232876, 0.00027194936530295364, 0.0009593845207703532, 0.0010211410689334448, 0.0007223312932034607, 0.00025816138365916626, -0.0002720620810740312, -0.0008047069957790077, -0.0012955108444816941, -0.001704866478652468, -0.0019943848284133467, -0.0021259895606315403, -0.002068282021954038, -0.0018030730419844748, -0.0013343646084795404, -0.000691737972561348, 6.80766691203408e-5, 0.0008652638069824314, 0.0015981551501527541, 0.0021446775571234596, 0.0023592193635293243, 0.0020836209024859527, 0.0011600033111075069, -0.0004485555813173246, -0.0026968126027159464, -0.004461392883364641, -0.00555553451740574, 0.0036324005255640836, 0.003553917498214689, -0.003639540557409243, 0.0016992500478462578, -0.0037816978123473622, -0.004987385399540023, -0.0011549383570234426, 0.0004320768363852263, 0.0011517714771562863, 0.0011023856751731062, 0.0007450312083478454, 0.00023229697781536844, -0.00032705874086299, -0.0008730390182358353, -0.0013598059298090147, -0.0017498105430705426, -0.0020084240927261076, -0.0021044979800121, -0.002013357093403318, -0.0017228650154370716, -0.0012389157534350619, -0.0005893533035722769, 0.0001762304090348465, 0.0009883023993580244, 0.001758804772297241, 0.0023781804208478723, 0.0027078810918018505, 0.0025807996838323514, 0.001802391546416911, 0.0002733538254431235, -0.0020639256914442876, -0.004076924198445539, -0.005836677832106345, 0.0033086936811114135, -0.0008024601165595245, -0.002069296594187536, 0.0046141887842177775, -0.00252158780377866, -0.0050028027976921265, -0.00016644687275528628, 0.0009507241576862609, 0.0015262309082875985, 0.0013172355195565776, 0.0008736796398985429, 0.0002998601939473077, -0.00029881927036301456, -0.0008686741545120281, -0.0013650417934138914, -0.0017518950652585588, -0.0019973139189432966, -0.0020739653172633385, -0.001961714825141234, -0.0016521051884968128, -0.0011532356936758434, -0.0004926930304490243, 0.00028232986531663443, 0.0011072457040629683, 0.0019010981110759912, 0.0025635403339440634, 0.0029653220420896003, 0.0029431818351822493, 0.002297674734912657, 0.0008906625591366123, -0.001347064264145673, -0.0035041532724796446, -0.0051600492592633156, 0.002146113385544893, 0.0021160641793836993, -0.0037144760358868998, 0.012062881279358811, -0.003080081027104555, -0.0053247847907599505, 0.0011648740706371513, 0.0014844616532642277, 0.0019581440754411557, 0.0015707885706682987, 0.0010488313084337595, 0.0004154842929129245, -0.000221548742150076, -0.0008178539754959439, -0.0013295690354663996, -0.00172216879752881, -0.0019652640375825803, -0.002033863784874703, -0.0019103484833157935, -0.0015884874407369142, -0.0010777335458230035, -0.000406126277633825, 0.0003796463538879491, 0.0012164442942785931, 0.0020263274904378384, 0.0027142916817110806, 0.003158714278433806, 0.003205727587715803, 0.0026577391915566587, 0.0013816212532612813, -0.0007591856328754351, -0.002749047669607291, -0.0048428327250780905, 0.0034193963810786585, -0.003499078600319156, -0.0022229382496308328, 0.013652169481688297, -0.0023141656598050036, -0.004871158931110793, 0.0020352350483241535, 0.0019958293401908596, 0.0023200848707385178, 0.0018115515197529913, 0.001223541196286723, 0.0005443029788622528, -0.00012492503210075864, -0.0007448404188436906, -0.0012726603818570112, -0.0016745684886887372, -0.00192101196065713, -0.0019882361765564322, -0.0018600251399079931, -0.0015313361132518388, -0.0010123986490118589, -0.0003316333500769584, 0.00046405702960971933, 0.0013114908751630172, 0.002133335123184838, 0.002836869078677558, 0.0033056754072465283, 0.0033934326010288535, 0.0029130102026523027, 0.0017294890207193536, -0.0002789165633022547, -0.002217380909712239, -0.004095180728229947, 0.0031850192740039275, -0.0014332053564145703, -0.003921904021129202, 0.013048319437007672, -0.0028934116123773054, -0.004631264868172044, 0.0024438988898105897, 0.002352600234863186, 0.002570108329322163, 0.001999400803109475, 0.0013689382291063642, 0.0006603614245181658, -3.1739040504946066e-5, -0.0006697081076040833, -0.001211228095713527, -0.0016225248268635565, -0.0018743236075906364, -0.001943437259054692, -0.0018143272209679706, -0.0014825107030494397, -0.0009585457824224896, -0.0002710695205093695, 0.0005326664230168789, 0.0013888849290433645, 0.0022197271228832616, 0.0029330409658843777, 0.0034149004495734173, 0.0035258023532296037, 0.003083226480798915, 0.001973540004361646, 2.3808685818621945e-5, -0.0016988069782427108, -0.0039751034462756985, 0.004809073333092756, -0.007277062992963526, -0.002449787932426643, 0.002767635445762075, -0.0025466120570242718, -0.0034040674845844734, 0.002029937717402233, 0.0026225242744187115, 0.0026744317782952435, 0.0021279397641454957, 0.0014693283702524975, 0.0007489501279390491, 4.2597419492899644e-5, -0.0006070282597892715, -0.0011584715720305183, -0.0015772475622222739, -0.001834095966585473, -0.0019059760083878535, -0.0017776292060133784, -0.0014447787137674727, -0.0009180677330541122, -0.00022620307512941285, 0.0005832840616674323, 0.0014459788708446268, 0.002283220338242374, 0.0030025050608238203, 0.003491210184141502, 0.003613016072381305, 0.0031931415347450035, 0.0021187732765128404, 0.000242790392057987, -0.0014613356961260238, -0.0034951290727130496, 0.004498464822339361, -0.004841935516408176, -0.00412949558101631, -0.006358683583052372, -0.003597005528891421, -0.0027745941942421953, 0.0014429172219239522, 0.0027459848533620363, 0.002696203839984258, 0.002196403234937588, 0.001525696850063796, 0.0008030195273703272, 8.964839466066279e-5, -0.0005661579700085432, -0.001123412230952437, -0.0015468630516931976, -0.0018071476890571003, -0.0018812016849555629, -0.0017538492175750017, -0.0014208610154955751, -0.0008928686137721544, -0.00019857874181174689, 0.0006143116434413038, 0.0014809490831270455, 0.0023220163246633597, 0.003044618285351731, 0.0035362759976215667, 0.0036634140500246925, 0.003251575647915913, 0.0022046594242514724, 0.0003330257472160358, -0.0012237342760769718, -0.0036205826832461934, 0.005798152471768165, -0.009827074085624625, -0.0026074993979494448, -0.012944294901905585, -0.0031305947653046226, -0.0020685318599516934, 0.0010328351527797944, 0.002812194492440669, 0.00268507087270773, 0.002219633987923096, 0.001542812370616007, 0.0008212212381731922, 0.00010560872098916789, -0.0005520189016600096, -0.0011111810045223347, -0.0015362028322902874, -0.001797692705041347, -0.0018725507669472643, -0.0017456160243408325, -0.0014126620072246513, -0.0008843056981180342, -0.0001892468322779104, 0.0006247657891796049, 0.0014927202135347106, 0.0023350744974720812, 0.0030586946198448628, 0.0035513389694418664, 0.0036793638349744613, 0.0032718513192697106, 0.002225410219835816, 0.00038456235849299025, -0.0012351833382799103, -0.003334865838041872, 0.005021373062269954, -0.006202366456313421, -0.004214078649801323, -0.006358683582903138, -0.0035970055227030847, -0.0027745941941681417, 0.0014429172219096328, 0.0027459848533653818, 0.002696203839983906, 0.0021964032349391076, 0.0015256968500643605, 0.0008030195273713314, 8.964839466114793e-5, -0.0005661579700095887, -0.0011234122309524456, -0.0015468630516934031, -0.0018071476890569988, -0.001881201684954609, -0.0017538492175756936, -0.0014208610154943558, -0.0008928686137724046, -0.00019857874181110067, 0.0006143116434418603, 0.0014809490831277853, 0.0023220163246644634, 0.0030446182853530145, 0.003536275997622554, 0.003663414050026297, 0.00325157564791827, 0.002204659424254577, 0.00033302574722021363, -0.001223734276070961, -0.0036205826832394743, 0.0057981524717746384, -0.009827074085616002, -0.002607499397945034, 0.0027676354432632456, -0.0025466119670709327, -0.003404067483069439, 0.002029937717015676, 0.002622524274522291, 0.002674431778265397, 0.002127939764151453, 0.0014693283702479434, 0.0007489501279398357, 4.259741949279658e-5, -0.0006070282597908416, -0.0011584715720305138, -0.0015772475622226215, -0.0018340959665848547, -0.00190597600838793, -0.0017776292060135174, -0.0014447787137664239, -0.0009180677330535632, -0.00022620307512844916, 0.0005832840616685287, 0.0014459788708460462, 0.002283220338243765, 0.0030025050608255338, 0.003491210184143737, 0.003613016072385508, 0.0031931415347500884, 0.0021187732765187346, 0.00024279039206650933, -0.0014613356961143474, -0.003495129072699273, 0.00449846482235218, -0.004841935516385656, -0.0041294955810287515, 0.013048319411437793, -0.0028934109075976822, -0.004631264857671092, 0.002443898887024497, 0.0023526002356104385, 0.00257010832912159, 0.0019994008031632747, 0.0013689382290921167, 0.0006603614245224921, -3.173904050619729e-5, -0.0006697081076038659, -0.0012112280957133719, -0.001622524826863788, -0.0018743236075908878, -0.0019434372590538596, -0.0018143272209675018, -0.0014825107030484066, -0.0009585457824212661, -0.0002710695205079553, 0.0005326664230185075, 0.0013888849290457157, 0.0022197271228856985, 0.0029330409658874772, 0.003414900449578539, 0.0035258023532357854, 0.003083226480806655, 0.0019735400043716556, 2.3808685833084334e-5, -0.0016988069782256675, -0.003975103446255229, 0.00480907333311262, -0.007277062992941381, -0.0024497879324302738, 0.013652169338240807, -0.0023141624375787387, -0.004871158886293093, 0.0020352350363212306, 0.0019958293434057597, 0.002320084869877466, 0.0018115515199858378, 0.0012235411962275289, 0.0005443029788781697, -0.00012492503210450359, -0.0007448404188421527, -0.0012726603818560992, -0.001674568488688348, -0.0019210119606573226, -0.0019882361765554174, -0.0018600251399067795, -0.0015313361132502216, -0.001012398649010854, -0.000331633350074648, 0.00046405702961318677, 0.0013114908751665627, 0.0021333351231896387, 0.0028368690786835416, 0.0033056754072543844, 0.0033934326010388203, 0.0029130102026654514, 0.0017294890207365141, -0.0002789165632812146, -0.0022173809096880407, -0.004095180728202796, 0.0031850192740293516, -0.0014332053563910708, -0.003921904021131137, 0.012062881169822738, -0.0030800752570992415, -0.00532478475957107, 0.0011648740622754892, 0.00148446165550904, 0.001958144074841353, 0.00157078857082737, 0.0010488313083922907, 0.00041548429292448494, -0.00022154874215298622, -0.0008178539754936476, -0.001329569035466039, -0.0017221687975282353, -0.0019652640375814406, -0.002033863784873297, -0.0019103484833135, -0.001588487440734518, -0.0010777335458196236, -0.0004061262776294394, 0.00037964635389291164, 0.0012164442942846651, 0.0020263274904449694, 0.002714291681721343, 0.00315871427844695, 0.00320572758773271, 0.0026577391915783184, 0.0013816212532893463, -0.000759185632843973, -0.002749047669572409, -0.0048428327250420525, 0.0034193963811083427, -0.003499078600301317, -0.0022229382496427655, 0.004614188794749039, -0.0025215860199064343, -0.005002802800456058, -0.00016644687189393997, 0.0009507241574550384, 0.0015262309083489247, 0.001317235519540416, 0.0008736796399041616, 0.0002998601939465048, -0.0002988192703624989, -0.0008686741545111256, -0.0013650417934133034, -0.0017518950652576691, -0.0019973139189422224, -0.002073965317260813, -0.001961714825137612, -0.001652105188491063, -0.0011532356936700624, -0.0004926930304412664, 0.0002823298653256294, 0.001107245704074682, 0.0019010981110907175, 0.00256354033396258, 0.0029653220421127433, 0.0029431818352112964, 0.0022976747349486275, 0.0008906625591792383, -0.0013470642640983582, -0.0035041532724290007, -0.005160049259217371, 0.0021461133855808167, 0.002116064179387687, -0.0037144760358867436, 0.0016992500639435434, -0.0037816968314234507, -0.004987385401326102, -0.001154938356488983, 0.00043207683624855634, 0.0011517714771946822, 0.0011023856751637168, 0.0007450312083537851, 0.00023229697781570623, -0.0003270587408615383, -0.0008730390182347634, -0.0013598059298062669, -0.0017498105430658164, -0.002008424092721362, -0.002104497980006274, -0.0020133570933947046, -0.0017228650154272255, -0.001238915753422134, -0.0005893533035565777, 0.00017623040905322053, 0.0009883023993806188, 0.0017588047723245753, 0.002378180420881226, 0.0027078810918429157, 0.002580799683882758, 0.0018023915464766378, 0.0002733538255112147, -0.0020639256913718065, -0.004076924198373801, -0.005836677832045353, 0.0033086936811510034, -0.0008024601165611276, -0.0020692965942228888, 1.6479230305119393e-5, -0.0028281469069292636, -0.003132774540849736, -0.0015519301011446714, 0.000271949362733808, 0.0009593845214593655, 0.0010211410687519234, 0.0007223312932552775, 0.0002581613836477987, -0.00027206208106779104, -0.0008047069957758076, -0.0012955108444743897, -0.001704866478644077, -0.0019943848284022167, -0.0021259895606181647, -0.0020682820219363883, -0.0018030730419626244, -0.001334364608452935, -0.0006917379725298392, 6.807666915841038e-5, 0.0008652638070278464, 0.0015981551502067036, 0.002144677557187773, 0.0023592193636076736, 0.0020836209025775695, 0.0011600033112119897, -0.0004485555812044278, -0.002696812602600526, -0.004461392883256006, -0.0055555345173184546, 0.0036324005256172147, 0.0035539174982043963, -0.0036395405574842334, 0.003692770974403841, -0.003863192038121251, -0.00045872229620920024, -0.0005436726786289282, 0.0006604214776209313, 0.001140674344669621, 0.0011618189943086081, 0.0008683798532039058, 0.00041913629520643343, -0.00010207856789278451, -0.0006414071330752807, -0.0011572405190424398, -0.0016108171547124762, -0.001956276987075983, -0.0021465702473613705, -0.0021366811076629516, -0.0019007297792379236, -0.001439355290081089, -0.0007914193691937751, -2.8720969044436487e-5, 0.0007458038762872467, 0.0014114608589802004, 0.0018338860745170543, 0.001878008804454155, 0.0014262383170558367, 0.000396580839876531, -0.0011267144742325944, -0.0030559061179612755, -0.004033514803662005, -0.0048543924247847385, 0.006709241552061516, -0.0005645377486127308, -0.0020636226529521717, 0.0031547403748449815, -0.0023104263627994185, 0.0027150113601861277, 0.0011161919827864474, 0.0017169556489286275, 0.001773489124949537, 0.0016336754310535245, 0.001253861694116638, 0.0007648968977144957, 0.00021184416369108582, -0.00036519189872017815, -0.0009419865524018668, -0.001473323548412881, -0.0019074255633630408, -0.0021742317943191968, -0.00221809792493013, -0.0019989570743404817, -0.001527054030843112, -0.0008539462187772278, -8.661810471938018e-5, 0.0006451988772259237, 0.0011920005580542757, 0.0014243029963285862, 0.0012389838381642077, 0.0006146943989414389, -0.0003861430491818086, -0.0015156933946398987, -0.002627216140607109, -0.002662422753174024, -0.002688361847150953, 0.008235578612160871, 0.003539854799806863, -0.003645947400353146, 0.006313577159433292, -0.0034145543823828313, -0.0002661788102767942, 0.002619023314240245, 0.0025523794657621307, 0.0026270570844706357, 0.002238574625973492, 0.001779549528210985, 0.0012368088006552516, 0.0006553705800046725, 2.066814481801767e-5, -0.0006308571781916917, -0.0012753563377263975, -0.0018281451506256226, -0.0022143900710284914, -0.002323409514465187, -0.0021121734454854738, -0.0015766448393353164, -0.0008339429057435569, -3.931850335448229e-5, 0.0005933016351467353, 0.0009164750883158684, 0.0008383610023360075, 0.00041694205839729997, -0.00020284319987671804, -0.0007886029413755455, -0.0010963636635581483, -0.001154631845614272, -0.00027875149780312, -0.00039822516919120476, 0.009157385307767212, 0.0010569912543272808, -0.0019576681616995293, -0.01011350311625775, -0.002164363034092203, -0.004543875711981656, -3.350074629868995e-5, 0.0025859476148245067, 0.00328767823707184, 0.0031662046907870267, 0.002625747984142341, 0.0020075532806989246, 0.001317366281699614, 0.0005973957919350216, -0.00021834890688214145, -0.0010077598730668517, -0.0017161784067777981, -0.00214515829902363, -0.0022476108683571047, -0.001923825996037186, -0.001298329866160792, -0.0004778675928504786, 0.0002381650134327056, 0.0006831293833658949, 0.0006680092509213235, 0.00028526426904667456, -0.0003221972590637219, -0.0007348330712513878, -0.0005610522656787727, 0.000607830501055217, 0.002099768417986303, 0.0025168606419295795, -0.0008539147629259653, 0.003395580938739863, 0.00955453861175754, -0.0032775545601228923, -0.0046345895293377105, -0.002823289770709084, -0.015821546641691515, -0.004185415998326267, -0.0001306038160706258, 0.002103902800514278, 0.0023473995639880737, 0.0024895177626007353, 0.0023514630467459208, 0.0020811074864022627, 0.001435979184852715, 0.0007301598454286477, -0.0001948243105049329, -0.0010236108273265108, -0.0018136363407229863, -0.002073218593925167, -0.0018276686589306975, -0.0008857039684233254, 0.00017307463486753105, 0.0010394739418219787, 0.0010245726318391937, 0.0002957791386278438, -0.0008295149162620843, -0.0011346237550066687, -4.066952656499388e-5, 0.002424996550498681, 0.0044208240930415695, 0.004328022575378978, 0.0013290415370193706, -0.0035559604110470835, -0.010076584400350494, 0.010742662329211889, -0.0013250631293479538, 0.0027780932367206233, -0.0022846670087158594, -0.009243710383767713, -0.009961062853430215, -0.0009456894098423433, 0.0036898284318362977, 0.006287324180473139, 0.006272273186284807, 0.005904094624311441, 0.004823644344523744, 0.00390939509921228, 0.0023053600092943437, 0.0011555789020127184, -2.3500622931224915e-5, -7.673607492451953e-5, 0.00012280980798489268, 0.0011939016686776489, 0.0018803817033943417, 0.002656681477346624, 0.0023538507565245433, 0.0018160583734145796, 0.000544353342699729, 3.00139332910728e-5, -3.135040961616724e-7, 0.0015461727846577816, 0.00382226255132032, 0.007702095768695043, 0.008973484370763122, 0.001199644346860639, -0.02702120154774055, -0.002683832198077452, 0.016266955923879018, -0.0034753504550103977, -0.004117511099025658, -0.0005128972840693748, 0.014362971816517297, 0.00642226618960182, 0.0003605936504527936, -0.004095111098606502, -0.006050096551830119, -0.001295399455518403, 0.00272191418948266, 0.005850550891858853, 0.005654350265872713, 0.006298555604727649, 0.004915492077827705, 0.0036246494918698836, -0.000457519696681907, -0.0029492285985600695, -0.004756215096282265, -0.0023248961122095736, 0.00011295043793284744, 0.00280244725704642, 0.0005324577931238444, -0.0037700560608723297, -0.009006996497699461, -0.005754236820165944, 0.006135403369772546, 0.020124815735693587, 0.0126069045658528, -0.018294014834276773, -0.03075180201787511, 0.009649893691410257, 0.02820973746258008, -0.007770514703252903, -0.0038563864219280596, -0.004838327413713739, -0.00040678616782158477, -0.0020047575272156733, -0.002566571874246427, -0.002776325995912326, -0.0033841893907244295, -0.003321264866511458, -0.003604487930661034, -0.003190261868293559, -0.003394609495153335, -0.0030486506496957286, -0.003286953796001083, -0.002941729441670887, -0.0032309147706479843, -0.0030017367798693784, -0.0033756923765931213, -0.0031005413027922583, -0.0032983733956194854, -0.002839128456271907, -0.002997214766209476, -0.002721102374952234, -0.003194167119255243, -0.0030958362782846963, -0.0032931612151007456, -0.0024784064312271966, -0.0022342043569199255, -0.002312632850191507, -0.003893564993204204, -0.0036590229864663718, -0.002464634577715868, -0.0022703833784474057, -6.651102488797665e-5, -0.00023167093289906202]\n",
      "Time: 4.190848663 seconds, Bytes: 894384592, GC time: 0.39674788, Memory allocations: Base.GC_Diff(894384592, 22621, 2, 13507883, 142, 23076, 396747880, 12, 0)\n"
     ]
    }
   ],
   "source": [
    "result, ftime, bytes, gctime, memallocs = @timed begin\n",
    "    full_step_initial!(MC, σ, mode_dict, num_modes, tv, dh, cellvalues)\n",
    "end\n",
    "println(\"Time: \", ftime, \" seconds, Bytes: \", bytes, \", GC time: \", gctime, \", Memory allocations: \", memallocs)"
   ]
  },
  {
   "cell_type": "code",
   "execution_count": 27,
   "id": "77e4e15e",
   "metadata": {},
   "outputs": [
    {
     "data": {
      "text/plain": [
       "127"
      ]
     },
     "metadata": {},
     "output_type": "display_data"
    }
   ],
   "source": [
    "num_modes"
   ]
  },
  {
   "cell_type": "code",
   "execution_count": 28,
   "id": "59287d4e",
   "metadata": {},
   "outputs": [
    {
     "name": "stdout",
     "output_type": "stream",
     "text": [
      "With error: 15.284774362232643\n"
     ]
    }
   ],
   "source": [
    "error  = norm(cond_vec - σ)\n",
    "    println(\"With error: \", error)"
   ]
  },
  {
   "cell_type": "code",
   "execution_count": 29,
   "id": "2df26d5b",
   "metadata": {},
   "outputs": [
    {
     "name": "stdout",
     "output_type": "stream",
     "text": [
      "Step 1 With error: 15.284082077754466\n",
      "Step 2 With error: 15.283411267462581\n",
      "Step 3 With error: 15.28276202696734\n",
      "Step 4 With error: 15.282134449176096\n",
      "Step 5 With error: 15.281528624422766\n",
      "Step 6 With error: 15.280944640603684\n",
      "Step 7 With error: 15.280382583318449\n",
      "Step 8 With error: 15.27984253601461\n",
      "Step 9 With error: 15.279324580135137\n",
      "Step 10 With error: 15.278828795267675\n",
      "Step 11 With error: 15.278355259294706\n",
      "Step 12 With error: 15.277904048543745\n",
      "Step 13 With error: 15.277475237936828\n",
      "Step 14 With error: 15.27706890113861\n",
      "Step 15 With error: 15.276685110702473\n",
      "Step 16 With error: 15.276323938214066\n",
      "Step 17 With error: 15.27598545443185\n",
      "Step 18 With error: 15.275669729424205\n",
      "Step 19 With error: 15.275376832702754\n",
      "Step 20 With error: 15.275106833351625\n"
     ]
    }
   ],
   "source": [
    "\n",
    "for i in 1:20\n",
    "    print(\"Step \", i, \" \")\n",
    "    result, time, bytes, gctime, memallocs = @timed begin\n",
    "        full_step!(MC, σ, mode_dict, 10, tv, dh, cellvalues, false)\n",
    "    end\n",
    "    #println(\"Time: \", time, \" seconds, Bytes: \", bytes, \", GC time: \", gctime, \", Memory allocations: \", memallocs)\n",
    "    error  = norm(cond_vec - σ)\n",
    "    println(\"With error: \", error)\n",
    "end\n"
   ]
  },
  {
   "cell_type": "code",
   "execution_count": 30,
   "id": "335da832",
   "metadata": {},
   "outputs": [
    {
     "data": {
      "text/plain": [
       "1089-element Vector{Float64}:\n",
       " 1.0481279172914761\n",
       " 1.025350688151798\n",
       " 1.012071536995171\n",
       " 1.0235110774092129\n",
       " 1.0170344383550665\n",
       " 0.9913998646005739\n",
       " 1.0196717956980441\n",
       " 1.0002206853271984\n",
       " 1.0218723222862423\n",
       " 1.0090378048657003\n",
       " ⋮\n",
       " 1.0181866988118755\n",
       " 1.0185463534945076\n",
       " 1.0189871849662393\n",
       " 1.0208018714815095\n",
       " 1.0214497799331166\n",
       " 1.0218258970302847\n",
       " 1.0225279061232746\n",
       " 1.0215702966527807\n",
       " 1.0259213130371387"
      ]
     },
     "metadata": {},
     "output_type": "display_data"
    }
   ],
   "source": [
    "#mode_dict[1].δσ\n",
    "σ"
   ]
  },
  {
   "cell_type": "code",
   "execution_count": 31,
   "id": "b9df9987",
   "metadata": {},
   "outputs": [],
   "source": [
    "#σ,δσ,r = full_step!(MC, σ, mode_dict, num_modes, tv, dh, cellvalues, false)"
   ]
  },
  {
   "cell_type": "code",
   "execution_count": 32,
   "id": "86314dc2",
   "metadata": {},
   "outputs": [],
   "source": [
    "# Test the above functions"
   ]
  },
  {
   "cell_type": "markdown",
   "id": "88120a7f",
   "metadata": {},
   "source": [
    "## Plotting\n"
   ]
  },
  {
   "cell_type": "code",
   "execution_count": 33,
   "id": "e2fe38d7",
   "metadata": {},
   "outputs": [],
   "source": [
    "# project is to grid and plot with Plots.jl\n",
    "# I wanna use Plots.jl and not Makie.jl or similar because lateron i want to implement a NN on the grid as a regularizer using Lux.jl"
   ]
  },
  {
   "cell_type": "code",
   "execution_count": 34,
   "id": "b5cdeaee",
   "metadata": {},
   "outputs": [],
   "source": [
    "# Project to dictionary (coordinate,value)\n",
    "#PointEvalHandler(grid, points::AbstractVector{Vec{dim,T}})\n",
    "# Put values from dictionary into Array."
   ]
  },
  {
   "cell_type": "markdown",
   "id": "627081da",
   "metadata": {},
   "source": [
    "This is our original and final reconstruction:"
   ]
  },
  {
   "cell_type": "code",
   "execution_count": 35,
   "id": "afe42f43",
   "metadata": {},
   "outputs": [],
   "source": [
    "# Plot reconstruction and original with Plots.jl here"
   ]
  },
  {
   "cell_type": "code",
   "execution_count": 36,
   "id": "62aa3d5c",
   "metadata": {},
   "outputs": [],
   "source": []
  }
 ],
 "metadata": {
  "kernelspec": {
   "display_name": "Julia 1.11.6",
   "language": "julia",
   "name": "julia-1.11"
  },
  "language_info": {
   "file_extension": ".jl",
   "mimetype": "application/julia",
   "name": "julia",
   "version": "1.11.6"
  }
 },
 "nbformat": 4,
 "nbformat_minor": 5
}
