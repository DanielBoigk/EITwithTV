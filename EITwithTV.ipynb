{
 "cells": [
  {
   "cell_type": "code",
   "execution_count": 1,
   "id": "03a2562f",
   "metadata": {},
   "outputs": [
    {
     "name": "stderr",
     "output_type": "stream",
     "text": [
      "\u001b[32m\u001b[1m  Activating\u001b[22m\u001b[39m project at `~/Code/Julia/FerriteStuff/Notebooks/Github/EnvFerrite`\n"
     ]
    },
    {
     "data": {
      "text/plain": [
       "update_Jr (generic function with 1 method)"
      ]
     },
     "metadata": {},
     "output_type": "display_data"
    }
   ],
   "source": [
    "using Pkg\n",
    "Pkg.activate(\"EnvFerrite\")\n",
    "include(\"EITwithTV.jl\")"
   ]
  },
  {
   "cell_type": "markdown",
   "id": "dce44614",
   "metadata": {},
   "source": [
    "# Electrical Impedance Tomography with TV Regularization"
   ]
  },
  {
   "cell_type": "markdown",
   "id": "3f621f58",
   "metadata": {},
   "source": [
    "## Introduction\n",
    "\n",
    "In this example we give a basic implementation of of the real valued Calderon problem relevant to Electrical Impedance Tomography. We will generate data and afterwards solve the inverse problem with a numerical solver and implement TV regularization.  "
   ]
  },
  {
   "cell_type": "markdown",
   "id": "cabc6c5a",
   "metadata": {},
   "source": [
    "### Forward EIT:\n",
    "Given a conductivity $\\gamma: \\Omega\\subset\\mathbb{R}^2 \\rightarrow \\mathbb{R}_{+}$ our solution $u\\in H^1(\\Omega,\\mathbb{R}^2)$ (2D case) has to confirm to the equation:\n",
    "\n",
    "\n",
    "$$ \\nabla \\cdot(\\gamma\\nabla u) = 0 \\quad \\forall x \\in \\Omega $$\n",
    "\n",
    "For that equation we will choose a set of electrical current patterns \n",
    "\n",
    "$$ g_1, ..., g_n \\in H^{-\\frac{1}{2}}(\\partial \\Omega, \\mathbb{R}) $$\n",
    "\n",
    "such that:  \n",
    "\n",
    "$$ \\int_{\\partial\\Omega}g_i \\, d\\partial\\Omega = 0 $$\n",
    "\n",
    "to inject into the material via Neumann boundary conditions:\n",
    "\n",
    "$$ \\gamma\\frac{\\partial u_i}{\\partial n} =g_i \\quad \\forall x \\in \\partial\\Omega $$\n",
    "\n",
    "In order to get the corresponding voltages \n",
    "$$ f_1, ..., f_n \\in H^{\\frac{1}{2}}(\\partial \\Omega, \\mathbb{R}) $$\n",
    "we will measure the corresponding voltage as:\n",
    "$$ f_i := u_i|_{\\partial\\Omega} $$\n",
    "\n",
    "with those boundary pairs $ (f_1,g_1), ... , (f_n,g_n) $ we now have an approximation of the Dirichlet to Neumann map:\n",
    "$$ \\Lambda_\\gamma: H^{\\frac{1}{2}}(\\partial \\Omega)\\rightarrow H^{-\\frac{1}{2}}(\\partial \\Omega) $$\n",
    "This is called forward EIT since we just approximated the map:\n",
    "$$ \\gamma \\rightarrow  \\Lambda_\\gamma $$\n",
    "\n",
    "However real Electrical Impedance Tomography requires us to solve an **inverse Problem** where we have to reconstruct:\n",
    "$$ \\Lambda_\\gamma \\rightarrow  \\gamma $$\n",
    "for our approximation of $\\Lambda_\\gamma$ given by voltage-current boundary pairs $(f_i,g_i)$."
   ]
  },
  {
   "cell_type": "markdown",
   "id": "015f0406",
   "metadata": {},
   "source": [
    "### Weak formulation\n",
    "Given the strong formulation:\n",
    "$$ \\nabla \\cdot(\\gamma\\nabla u) = 0 \\quad \\text{with Neumann BC:}\\quad \\gamma\\frac{\\partial u}{\\partial n} = g $$\n",
    "\n",
    "The weak formulation is:\n",
    "$$ \\int\\limits_\\Omega \\gamma \\nabla(u)\\cdot\\nabla(v) \\, d \\Omega = \\int\\limits_{\\partial\\Omega} g \\,v \\,d\\partial\\Omega  \\quad \\forall v\\in H^1(\\Omega)$$"
   ]
  },
  {
   "cell_type": "markdown",
   "id": "7de196c6",
   "metadata": {},
   "source": [
    "### Inverse EIT\n",
    "We will use $\\gamma$ to refer to the true underlying conductivity and $\\sigma$ for our current conductivity guess.\n",
    "We will choose the simplest minimization functional for optimization:\n",
    "$$ J_i(u_i,\\sigma) = \\| f_i- u_i\\|^2_{\\mathcal{L}^2(\\partial\\Omega)} = \\int_{\\partial\\Omega}(f_i-u_i)^2 \\,d\\partial\\Omega $$\n",
    "In theory however we can plug in another metric or pseudo-metric like Wasserstein-distance or Spetral distance as mesure of distance between $f_i$ und $u_i$.\n",
    "Such that our problem becomes:\n",
    "$$ \\underset{\\sigma}{\\min} \\sum\\limits_{i=1}^n J_i(u_i,\\sigma) $$\n",
    "such that:\n",
    "$$ \\nabla u_i\\cdot(\\sigma\\nabla u_i) = 0\\quad  \\text{and Neumann BC}\\quad \\sigma\\frac{\\partial u_i}{\\partial n} = g_i \\quad \\forall i\\in\\{1, ...,n\\}$$\n",
    "Given the problem our lagrangian becomes:\n",
    "$$ \\mathcal{L}(\\sigma, u, \\lambda) = \\sum\\limits_{i=1}^n\\left( J_i(u_i,\\sigma) + \\langle \\lambda_i, \\nabla\\cdot(\\sigma\\nabla u_i) \\rangle_{\\mathcal{L}^2(\\Omega)}   \\right) $$\n",
    "\n",
    "from this we will use [Adjoint state methods](https://en.wikipedia.org/wiki/Adjoint_state_method#General_case) to calculate the gradient.\n",
    "Without stating any of the steps of the derivation we end up with:\n",
    "- State Equation (Variation with $\\delta_\\lambda$)\n",
    "$$ \\nabla \\cdot(\\sigma\\nabla u_i) = 0\\quad  \\text{with Neumann BC}\\quad \\sigma\\frac{\\partial u_i}{\\partial n} = g_i$$\n",
    "\n",
    "- Adjoint Equation (Variation with $\\delta_u$)\n",
    "$$ \\nabla \\cdot(\\sigma\\nabla\\lambda_i) = 0\\quad  \\text{with Neumann BC}\\quad \\sigma\\frac{\\partial \\lambda_i}{\\partial n} = 2(u_i-f_i)$$\n",
    "- Functional Derivative (Variation with $\\delta_\\sigma$)\n",
    "$$ \\delta_i\\sigma = -\\nabla u_i \\cdot \\nabla \\lambda_i $$"
   ]
  },
  {
   "cell_type": "markdown",
   "id": "4a63d6ec",
   "metadata": {},
   "source": [
    "#### Total Variation (TV) regularization\n",
    "for real world examples and numerical stability we have to assume that our system contains some noise, like $f = f_{true} + \\epsilon$. Since the inverse EIT problem is highly ill conditioned we have to consider regularization.\n",
    "\n",
    "\n",
    "Because $|\\nabla\\sigma|^2$ is non-differentiable when $\\nabla\\sigma=0$, we use\n",
    "$$\n",
    "\\mathcal{R}_{TV}(\\sigma) = \\int_\\Omega \\sqrt{|\\nabla\\sigma|^2+\\eta}\\, d\\Omega,\n",
    "$$\n",
    "and the gradient:\n",
    "$$ \\delta_\\sigma\\mathcal{R}= -\\nabla\\cdot \\left(   \\frac{\\nabla\\sigma}{\\sqrt{|\\nabla \\sigma|^2+ \\eta}} \\right) $$\n",
    "with a small $\\eta$ to revent division by zero.\n",
    "This is a $L^2$ projection that requires us to sove the weak form.\n",
    "##### Weak formulation of TV Regularizer:\n",
    "$$ \\int_\\Omega wv \\,d\\Omega = \\int_\\Omega \\frac{\\nabla(\\sigma)}{\\sqrt{|\\nabla\\sigma|^2+\\eta}}\\cdot\\nabla(v)\\, d\\Omega \\quad \\forall v\\in FESpace$$\n"
   ]
  },
  {
   "cell_type": "markdown",
   "id": "cddf00a9",
   "metadata": {},
   "source": [
    "### Full reconstruction Algorithm (Conceptual)\n",
    "+ Preallocate Massmatrix M and L^2 projector (Cholesky factorization)\n",
    "+ Start with conductivity guess $\\sigma_0$ (In our case: $\\sigma_0(x) = 1.0$)\n",
    "+ Preallocate & initialize Conjugate Gradient(CG) solver for $u_1, ...,u_n.\\lambda_1,.., \\lambda_n,w$.\n",
    "+ Repeat till tolerance is reached or other stopping condition:\n",
    "    + From $\\sigma_t$ assemble stiffness matrix $K_{\\sigma_t}$\n",
    "    + for all $i = 1, ...,n$ (in parallel)\n",
    "        + Calculate $u_i$ (State equation) as well as the $\\mathcal{L}^2(\\partial\\Omega)$ error: $\\delta u_i$\n",
    "        + Calculate $\\lambda_i$ (Adjoint equation)\n",
    "        + Calculate $\\delta\\sigma_i$ (Functional derivative)\n",
    "    + Calculate TV Regularization gradient and error.\n",
    "    + Update $\\sigma_{t+1} = \\sigma_t +\\beta\\, \\delta_{TV}\\sigma + \\sum_{i=1}^n \\alpha_i\\,\\delta_i\\sigma $ (with Gauss-Newton with Levenberg-Marquardt)."
   ]
  },
  {
   "cell_type": "markdown",
   "id": "2c6b89dc",
   "metadata": {},
   "source": [
    "## Implementation\n",
    "### Preliminaries\n",
    "Obvious Imports:"
   ]
  },
  {
   "cell_type": "code",
   "execution_count": 2,
   "id": "7aa44a0b",
   "metadata": {},
   "outputs": [],
   "source": [
    "using Ferrite\n",
    "using SparseArrays\n",
    "using LinearAlgebra\n",
    "using Revise\n",
    "using Interpolations\n",
    "using Plots\n",
    "using Statistics\n",
    "using IterativeSolvers\n",
    "using LinearMaps"
   ]
  },
  {
   "cell_type": "markdown",
   "id": "f33323b7",
   "metadata": {},
   "source": [
    "For simplicity we will use a quadratic grid with quadrilateral elements. We are using Quadrilaterals for now:"
   ]
  },
  {
   "cell_type": "code",
   "execution_count": 3,
   "id": "0a9a883c",
   "metadata": {},
   "outputs": [
    {
     "data": {
      "text/plain": [
       "64"
      ]
     },
     "metadata": {},
     "output_type": "display_data"
    }
   ],
   "source": [
    "grid = generate_grid(Quadrilateral, (16, 16));\n",
    "dim = Ferrite.getspatialdim(grid)\n",
    "order = 1\n",
    "qr_order = 2\n",
    "\n",
    "ip = Lagrange{RefQuadrilateral, order}()\n",
    "qr = QuadratureRule{RefQuadrilateral}(qr_order)\n",
    "qr_face = FacetQuadratureRule{RefQuadrilateral}(qr_order)\n",
    "cellvalues = CellValues(qr, ip)\n",
    "facetvalues = FacetValues(qr_face, ip)\n",
    "\n",
    "dh = DofHandler(grid)\n",
    "add!(dh, :u, ip)\n",
    "close!(dh)\n",
    "\n",
    "\n",
    "\n",
    "∂Ω = union(getfacetset.((grid,), [\"left\", \"top\", \"right\", \"bottom\"])...)\n",
    "length(∂Ω)"
   ]
  },
  {
   "cell_type": "markdown",
   "id": "5e30d783",
   "metadata": {},
   "source": [
    "For later use we will assemble and cholesky decompose the mass matrix once."
   ]
  },
  {
   "cell_type": "code",
   "execution_count": 4,
   "id": "b4f950d7",
   "metadata": {},
   "outputs": [
    {
     "data": {
      "text/plain": [
       "(sparse([1, 2, 3, 4, 1, 2, 3, 4, 5, 6  …  270, 271, 272, 287, 288, 289, 271, 272, 288, 289], [1, 1, 1, 1, 2, 2, 2, 2, 2, 2  …  288, 288, 288, 288, 288, 288, 289, 289, 289, 289], [0.001736111111111111, 0.0008680555555555556, 0.00043402777777777775, 0.0008680555555555555, 0.0008680555555555556, 0.0034722222222222225, 0.001736111111111111, 0.00043402777777777775, 0.0008680555555555556, 0.00043402777777777775  …  0.00043402777777777775, 0.001736111111111111, 0.00043402777777777765, 0.0008680555555555553, 0.003472222222222221, 0.0008680555555555553, 0.00043402777777777765, 0.0008680555555555553, 0.0008680555555555553, 0.0017361111111111106], 289, 289), SparseArrays.CHOLMOD.Factor{Float64, Int64}\n",
       "type:    LLt\n",
       "method:  simplicial\n",
       "maxnnz:  3815\n",
       "nnz:     3815\n",
       "success: true\n",
       ")"
      ]
     },
     "metadata": {},
     "output_type": "display_data"
    }
   ],
   "source": [
    "# This is supposed to be: ∫(u*v)dΩ and it's Cholesky decomposition\n",
    "M, MC = assemble_M(cellvalues,dh)"
   ]
  },
  {
   "cell_type": "markdown",
   "id": "cc0369c0",
   "metadata": {},
   "source": [
    "Furthermore we want to know which entries of the force vector correspond to the boundary:\n",
    "We will get:\n",
    "- the count of nonzero entries in the force vector\n",
    "- the position of non zero entries\n",
    "- a function \"up\" to cast a vector of length of boundary dofs into the length of the force vector\n",
    "- a function \"down\" to cast a vector into the length of the dofs of the force vector that lay on the boundary.\n",
    "\n",
    "Note: depending on the grid and the method used this can be more complicated up and down function.\n",
    "I want to from the start take a very modular approach where one can plugin different methods, even Spectral Methods instead of FEM and the Code might be reusable. That is why in some cases up and down wouldn't be a simple function in vector indices but a full blown operator."
   ]
  },
  {
   "cell_type": "code",
   "execution_count": 5,
   "id": "1acc5da1",
   "metadata": {},
   "outputs": [],
   "source": [
    "nzc,nzpos, down, up = produce_nonzero_positions(facetvalues, dh,∂Ω)\n",
    "@assert nzc == length(∂Ω)  # This is not true in Gridap.jl"
   ]
  },
  {
   "cell_type": "code",
   "execution_count": 6,
   "id": "bb9909e0",
   "metadata": {},
   "outputs": [],
   "source": [
    "## Sanity check:\n",
    "# I have never questioned the assumption that up∘down == id and down∘up == id. Maybe I should check this.\n",
    "test_vec = [i for i in 1:nzc]\n",
    "@assert down(up(test_vec)) == test_vec\n",
    "@assert up(down(up(test_vec))) == up(test_vec)"
   ]
  },
  {
   "cell_type": "markdown",
   "id": "a704c0e9",
   "metadata": {},
   "source": [
    "### Data generation"
   ]
  },
  {
   "cell_type": "markdown",
   "id": "7724653f",
   "metadata": {},
   "source": [
    "Now we will make up some conductivity. As well as some current patterns:"
   ]
  },
  {
   "cell_type": "code",
   "execution_count": 7,
   "id": "5a32db90",
   "metadata": {},
   "outputs": [
    {
     "data": {
      "text/plain": [
       "#23 (generic function with 1 method)"
      ]
     },
     "metadata": {},
     "output_type": "display_data"
    }
   ],
   "source": [
    "conductivity  = (x) -> 1.1 + sin(x[1]) * cos(x[2])"
   ]
  },
  {
   "cell_type": "markdown",
   "id": "bcd5ee93",
   "metadata": {},
   "source": [
    "For later we want to project that function unto Q1 FE space for that we want to assemble the coefficients in the FESpace:"
   ]
  },
  {
   "cell_type": "code",
   "execution_count": 8,
   "id": "741f5446",
   "metadata": {},
   "outputs": [
    {
     "data": {
      "text/plain": [
       "289-element Vector{Float64}:\n",
       " 0.644152684736913\n",
       " 0.6841903492627199\n",
       " 0.6067266487628111\n",
       " 0.559230125001669\n",
       " 0.7307312974358627\n",
       " 0.6619379923052616\n",
       " 0.7830306178396268\n",
       " 0.7239804701487873\n",
       " 0.84027719579124\n",
       " 0.7918918601393378\n",
       " ⋮\n",
       " 1.099999999999999\n",
       " 1.1675409945091269\n",
       " 1.23402802933429\n",
       " 1.2984236218057983\n",
       " 1.3597228042087597\n",
       " 1.4169693821603724\n",
       " 1.4692687025641376\n",
       " 1.5158096507372794\n",
       " 1.5558473152630885"
      ]
     },
     "metadata": {},
     "output_type": "display_data"
    }
   ],
   "source": [
    "\n",
    "cond_vec = assemble_function_vector(cellvalues, dh, conductivity, M)"
   ]
  },
  {
   "cell_type": "code",
   "execution_count": 9,
   "id": "0aee32e6",
   "metadata": {},
   "outputs": [
    {
     "data": {
      "text/plain": [
       "289×289 SparseMatrixCSC{Float64, Int64} with 2401 stored entries:\n",
       "⎡⠻⣦⡀⠀⠐⣦⠀⠀⠀⠀⠀⠀⠀⠀⠀⠀⠀⠀⠀⠀⠀⠀⠀⠀⠀⠀⠀⠀⠀⠀⠀⠀⠀⠀⠀⠀⠀⠀⠀⠀⎤\n",
       "⎢⠀⠈⠻⣦⡀⠘⣧⠀⠀⠀⠀⠀⠀⠀⠀⠀⠀⠀⠀⠀⠀⠀⠀⠀⠀⠀⠀⠀⠀⠀⠀⠀⠀⠀⠀⠀⠀⠀⠀⠀⎥\n",
       "⎢⠰⣤⣀⠈⠻⣦⡘⢶⡀⠀⠀⠀⠀⠀⠀⠀⠀⠀⠀⠀⠀⠀⠀⠀⠀⠀⠀⠀⠀⠀⠀⠀⠀⠀⠀⠀⠀⠀⠀⠀⎥\n",
       "⎢⠀⠀⠉⠛⢲⣌⠻⣦⡙⢦⡀⠀⠀⠀⠀⠀⠀⠀⠀⠀⠀⠀⠀⠀⠀⠀⠀⠀⠀⠀⠀⠀⠀⠀⠀⠀⠀⠀⠀⠀⎥\n",
       "⎢⠀⠀⠀⠀⠀⠈⠳⣌⠻⢆⡙⢦⡀⠀⠀⠀⠀⠀⠀⠀⠀⠀⠀⠀⠀⠀⠀⠀⠀⠀⠀⠀⠀⠀⠀⠀⠀⠀⠀⠀⎥\n",
       "⎢⠀⠀⠀⠀⠀⠀⠀⠈⠳⣌⠻⣦⡙⢦⣀⠀⠀⠀⠀⠀⠀⠀⠀⠀⠀⠀⠀⠀⠀⠀⠀⠀⠀⠀⠀⠀⠀⠀⠀⠀⎥\n",
       "⎢⠀⠀⠀⠀⠀⠀⠀⠀⠀⠈⠳⣌⠻⣦⡙⢦⡀⠀⠀⠀⠀⠀⠀⠀⠀⠀⠀⠀⠀⠀⠀⠀⠀⠀⠀⠀⠀⠀⠀⠀⎥\n",
       "⎢⠀⠀⠀⠀⠀⠀⠀⠀⠀⠀⠀⠘⠳⣌⠻⣦⡙⢦⡀⠀⠀⠀⠀⠀⠀⠀⠀⠀⠀⠀⠀⠀⠀⠀⠀⠀⠀⠀⠀⠀⎥\n",
       "⎢⠀⠀⠀⠀⠀⠀⠀⠀⠀⠀⠀⠀⠀⠈⠳⣌⠱⣦⡙⢦⡀⠀⠀⠀⠀⠀⠀⠀⠀⠀⠀⠀⠀⠀⠀⠀⠀⠀⠀⠀⎥\n",
       "⎢⠀⠀⠀⠀⠀⠀⠀⠀⠀⠀⠀⠀⠀⠀⠀⠈⠳⣌⠻⣦⡙⢶⡀⠀⠀⠀⠀⠀⠀⠀⠀⠀⠀⠀⠀⠀⠀⠀⠀⠀⎥\n",
       "⎢⠀⠀⠀⠀⠀⠀⠀⠀⠀⠀⠀⠀⠀⠀⠀⠀⠀⠈⢳⣌⠻⣦⡙⢦⡀⠀⠀⠀⠀⠀⠀⠀⠀⠀⠀⠀⠀⠀⠀⠀⎥\n",
       "⎢⠀⠀⠀⠀⠀⠀⠀⠀⠀⠀⠀⠀⠀⠀⠀⠀⠀⠀⠀⠈⠳⣌⠻⢆⡙⢦⡀⠀⠀⠀⠀⠀⠀⠀⠀⠀⠀⠀⠀⠀⎥\n",
       "⎢⠀⠀⠀⠀⠀⠀⠀⠀⠀⠀⠀⠀⠀⠀⠀⠀⠀⠀⠀⠀⠀⠈⠳⣌⠻⣦⡙⢦⣀⠀⠀⠀⠀⠀⠀⠀⠀⠀⠀⠀⎥\n",
       "⎢⠀⠀⠀⠀⠀⠀⠀⠀⠀⠀⠀⠀⠀⠀⠀⠀⠀⠀⠀⠀⠀⠀⠀⠈⠳⣌⠻⣦⡙⢦⡀⠀⠀⠀⠀⠀⠀⠀⠀⠀⎥\n",
       "⎢⠀⠀⠀⠀⠀⠀⠀⠀⠀⠀⠀⠀⠀⠀⠀⠀⠀⠀⠀⠀⠀⠀⠀⠀⠀⠘⠳⣌⠻⣦⡙⢦⡀⠀⠀⠀⠀⠀⠀⠀⎥\n",
       "⎢⠀⠀⠀⠀⠀⠀⠀⠀⠀⠀⠀⠀⠀⠀⠀⠀⠀⠀⠀⠀⠀⠀⠀⠀⠀⠀⠀⠈⠳⣌⠱⣦⡙⢦⡀⠀⠀⠀⠀⠀⎥\n",
       "⎢⠀⠀⠀⠀⠀⠀⠀⠀⠀⠀⠀⠀⠀⠀⠀⠀⠀⠀⠀⠀⠀⠀⠀⠀⠀⠀⠀⠀⠀⠈⠳⣌⠻⣦⡙⢦⡀⠀⠀⠀⎥\n",
       "⎢⠀⠀⠀⠀⠀⠀⠀⠀⠀⠀⠀⠀⠀⠀⠀⠀⠀⠀⠀⠀⠀⠀⠀⠀⠀⠀⠀⠀⠀⠀⠀⠈⠳⣌⠻⣦⡙⢦⡀⠀⎥\n",
       "⎢⠀⠀⠀⠀⠀⠀⠀⠀⠀⠀⠀⠀⠀⠀⠀⠀⠀⠀⠀⠀⠀⠀⠀⠀⠀⠀⠀⠀⠀⠀⠀⠀⠀⠈⠳⣌⠻⢆⡙⠦⎥\n",
       "⎣⠀⠀⠀⠀⠀⠀⠀⠀⠀⠀⠀⠀⠀⠀⠀⠀⠀⠀⠀⠀⠀⠀⠀⠀⠀⠀⠀⠀⠀⠀⠀⠀⠀⠀⠀⠈⠳⡌⠻⣦⎦"
      ]
     },
     "metadata": {},
     "output_type": "display_data"
    }
   ],
   "source": [
    "# This function assembles the stiffness matrix from a given vector.\n",
    "# This is: ∫(γ * ∇(u)⋅∇(v))dΩ \n",
    "K_from_vec = assemble_K(cellvalues, dh,cond_vec)"
   ]
  },
  {
   "cell_type": "code",
   "execution_count": 10,
   "id": "bee77cb4",
   "metadata": {},
   "outputs": [
    {
     "data": {
      "text/plain": [
       "SparseArrays.CHOLMOD.Factor{Float64, Int64}\n",
       "type:    LDLt\n",
       "method:  simplicial\n",
       "maxnnz:  3815\n",
       "nnz:     3815\n",
       "success: true\n"
      ]
     },
     "metadata": {},
     "output_type": "display_data"
    }
   ],
   "source": [
    "# This is matrix assembly on a function. How do I do it if the conductivity is given as a coefficient vector for Q1 FE Space?\n",
    "# This is: ∫(γ * ∇(u)⋅∇(v))d\n",
    "K_true = assemble_K(cellvalues, dh, conductivity)\n",
    "K_true_LU = factorize(K_true)"
   ]
  },
  {
   "cell_type": "code",
   "execution_count": 11,
   "id": "eb7d5ea0",
   "metadata": {},
   "outputs": [
    {
     "name": "stdout",
     "output_type": "stream",
     "text": [
      "Smallest eigenvalue: -1.94652976991602e-16"
     ]
    }
   ],
   "source": [
    "# Sanity check: (positive semidefinite self adjoint stiffness matrix)\n",
    "@assert K_true == K_true'  # Not true in Gridap.jl\n",
    "if ndofs(dh) < 500\n",
    "    K_dense = Matrix(K_true)\n",
    "    eig_min = minimum(eigvals(K_dense))\n",
    "    @assert eig_min > -1e-14\n",
    "    print(\"Smallest eigenvalue: \", eig_min)\n",
    "end"
   ]
  },
  {
   "cell_type": "markdown",
   "id": "12b8ad31",
   "metadata": {},
   "source": [
    "Now we generate current patterns: We assume one current source and one current sink. Important is that it sums of to zero.\n",
    "We generate the right hand side force vectors $g_1, ... g_n$ as an Matrix G and calculate $f_1, ..., f_n$"
   ]
  },
  {
   "cell_type": "code",
   "execution_count": 12,
   "id": "c4ba150c",
   "metadata": {},
   "outputs": [
    {
     "data": {
      "text/plain": [
       "64×2016 Matrix{Float64}:\n",
       "  2.30292     2.26394      2.90952     3.30183    …   0.0163961   0.00897954\n",
       " -0.812527    0.109923     0.497171    0.924775       0.0163502   0.0089682\n",
       "  0.148901   -0.980469     0.710295    1.0545         0.0164435   0.00899124\n",
       " -0.109424    0.0647217   -0.997809    0.143253       0.0162173   0.00893539\n",
       " -0.0741391   0.016607    -0.249065   -1.11555        0.0160037   0.00888259\n",
       " -0.0512821   0.00063017  -0.162015   -0.350418   …   0.0157158   0.00881137\n",
       " -0.0422296  -0.00745448  -0.118149   -0.239163       0.0153609   0.00872349\n",
       " -0.0374468  -0.011809    -0.0976012  -0.181881       0.0149479   0.00862104\n",
       " -0.0347296  -0.0143707   -0.0861511  -0.153069       0.0144873   0.00850662\n",
       " -0.0330712  -0.0159639   -0.0793021  -0.13635        0.0139928   0.00838351\n",
       "  ⋮                                               ⋱               ⋮\n",
       " -0.0276973  -0.0213465   -0.0578673  -0.0872506  …   0.0356959   0.0136314\n",
       " -0.027882   -0.0211539   -0.0585805  -0.0887961      0.0401473   0.0146668\n",
       " -0.0280432  -0.0209861   -0.0592043  -0.0901519      0.0471485   0.0162623\n",
       " -0.0281789  -0.0208453   -0.0597302  -0.0912983      0.0589972   0.0189087\n",
       " -0.0282884  -0.0207317   -0.0601556  -0.0922276      0.0828941   0.0236485\n",
       " -0.0283722  -0.0206451   -0.060481   -0.0929401  …   0.12825     0.0349327\n",
       " -0.0284309  -0.0205845   -0.0607094  -0.0934407      0.494853    0.0522193\n",
       " -0.0284655  -0.0205488   -0.060844   -0.0937362     -0.173773    0.362673\n",
       " -0.0284768  -0.0205371   -0.0608882  -0.0938332     -1.13734    -0.911348"
      ]
     },
     "metadata": {},
     "output_type": "display_data"
    }
   ],
   "source": [
    "num_modes = Int64((nzc^2-nzc)//2)\n",
    "G_small = zeros(nzc,num_modes)\n",
    "G = zeros(ndofs(dh),num_modes)\n",
    "k = 1\n",
    "for i in 1:(nzc-1)\n",
    "    for j in i+1:nzc\n",
    "        G_small[i,k] = 1.0\n",
    "        G_small[j,k] = -1.0\n",
    "        G[:,k] = up(G_small[:,k])\n",
    "        k += 1\n",
    "    end\n",
    "end\n",
    "F_big = K_true_LU \\ G\n",
    "F = zeros(nzc,num_modes)\n",
    "k = 1\n",
    "for i in 1:(nzc-1)\n",
    "    for j in i+1:nzc\n",
    "        F[:,k] = down(F_big[:,k])\n",
    "        k += 1\n",
    "    end\n",
    "end\n",
    "col_means = mean(F, dims=1)\n",
    "F .-= col_means"
   ]
  },
  {
   "cell_type": "markdown",
   "id": "73781c70",
   "metadata": {},
   "source": [
    "To be realistic we will add some noise:\n",
    "We have to ensure that our noise has mean zero."
   ]
  },
  {
   "cell_type": "code",
   "execution_count": 13,
   "id": "be5718f6",
   "metadata": {},
   "outputs": [
    {
     "data": {
      "text/plain": [
       "mean_zero_noise (generic function with 1 method)"
      ]
     },
     "metadata": {},
     "output_type": "display_data"
    }
   ],
   "source": [
    "function mean_zero_noise(n::Int64, σ::Float64)\n",
    "    out = σ * randn(n)\n",
    "    mean = Statistics.mean(out)\n",
    "    out .- mean\n",
    "end"
   ]
  },
  {
   "cell_type": "markdown",
   "id": "bc589a66",
   "metadata": {},
   "source": [
    "To simplify things we can also do SVD:"
   ]
  },
  {
   "cell_type": "code",
   "execution_count": 14,
   "id": "ec45d7ba",
   "metadata": {},
   "outputs": [],
   "source": [
    "# reduce the number of modes according to used SVD modes\n",
    "#=\n",
    "F, Σ, G_small, Λ, num_modes = do_svd(F,G_small)\n",
    "# Apply singular Values:\n",
    "G = zeros(ndofs(dh),num_modes)\n",
    "F_big = copy(G)\n",
    "for i in 1:num_modes\n",
    "    G[:,i] = up(G_small[:,i])\n",
    "    F_big[:,i] = up(F[:,i])\n",
    "end\n",
    "# We can also plot the singular values\n",
    "plot(Σ, label = \"singular values\")\n",
    "=#"
   ]
  },
  {
   "cell_type": "code",
   "execution_count": 15,
   "id": "cfd9be04",
   "metadata": {},
   "outputs": [
    {
     "name": "stdout",
     "output_type": "stream",
     "text": [
      "1.0946230525858938\n"
     ]
    },
    {
     "ename": "AssertionError",
     "evalue": "AssertionError: norm_svd < 0.0001",
     "output_type": "error",
     "traceback": [
      "AssertionError: norm_svd < 0.0001\n",
      "\n",
      "Stacktrace:\n",
      " [1] top-level scope\n",
      "   @ ~/Code/Julia/FerriteStuff/Notebooks/Github/jl_notebook_cell_df34fa98e69747e1a8f8a730347b8e2f_Y145sZmlsZQ==.jl:4"
     ]
    }
   ],
   "source": [
    "# Do sanity check of where you did svd right.\n",
    "norm_svd = norm((K_true \\ G[:,1]) - F_big[:,1] )\n",
    "println(norm_svd)\n",
    "@assert norm_svd < 1e-4"
   ]
  },
  {
   "cell_type": "markdown",
   "id": "95c3a036",
   "metadata": {},
   "source": [
    "now that we have done SVD on the original choice of modes we have \n",
    "- Truncation of SVD modes, thus regularization\n",
    "- Averaging of noise over multiple measurements\n",
    "- Elimination of any unncessary number of nodes we choose before."
   ]
  },
  {
   "cell_type": "markdown",
   "id": "98d6dd1a",
   "metadata": {},
   "source": [
    "Here we define a struct where we save and preallocate all the necessary information for the solver step."
   ]
  },
  {
   "cell_type": "code",
   "execution_count": 16,
   "id": "5f965019",
   "metadata": {},
   "outputs": [
    {
     "name": "stdout",
     "output_type": "stream",
     "text": [
      "Norm of Matrix difference: 5.028543617854563e-5\n",
      "norm of difference of first SVD mode: 1.8672698863330528\n"
     ]
    }
   ],
   "source": [
    "# Implement a sanity check if the two matrices assembled from the function and the vector are roughly the same (use relatively coarse ≈ )\n",
    "Matrix_norm = norm(K_from_vec - K_true)\n",
    "println(\"Norm of Matrix difference: \",Matrix_norm)\n",
    "@assert Matrix_norm < 20.0\n",
    "\n",
    "g_test = G[:,1]\n",
    "f_test_true = K_true \\ g_test\n",
    "f_test_vec = K_from_vec \\g_test\n",
    "vector_norm = norm(f_test_true - f_test_vec)\n",
    "println(\"norm of difference of first SVD mode: \" ,vector_norm)\n",
    "@assert vector_norm < 13.0"
   ]
  },
  {
   "cell_type": "code",
   "execution_count": 17,
   "id": "059522f1",
   "metadata": {},
   "outputs": [],
   "source": [
    "mode_dict = Dict{Int64,EITMode}()\n",
    "for i in 1:num_modes\n",
    "    mode_dict[i] = EITMode(G[:,i],F[:,i])\n",
    "end"
   ]
  },
  {
   "cell_type": "markdown",
   "id": "be6c2f19",
   "metadata": {},
   "source": [
    "### Solving EIT"
   ]
  },
  {
   "cell_type": "markdown",
   "id": "e02cd183",
   "metadata": {},
   "source": [
    "We will now assume a starting conductivity guess $\\sigma_0(x) = 1.0 $"
   ]
  },
  {
   "cell_type": "code",
   "execution_count": 18,
   "id": "180dc966",
   "metadata": {},
   "outputs": [
    {
     "data": {
      "text/plain": [
       "#25 (generic function with 1 method)"
      ]
     },
     "metadata": {},
     "output_type": "display_data"
    }
   ],
   "source": [
    "σ₀ = (x) -> 1.0"
   ]
  },
  {
   "cell_type": "markdown",
   "id": "2ecc5166",
   "metadata": {},
   "source": [
    "We would prefer to save $\\sigma$ as a vector for use in FEM and also have a method to export each"
   ]
  },
  {
   "cell_type": "code",
   "execution_count": 19,
   "id": "831b2fad",
   "metadata": {},
   "outputs": [
    {
     "data": {
      "text/plain": [
       "289-element Vector{Float64}:\n",
       " 1.0\n",
       " 1.0000000000000004\n",
       " 0.9999999999999998\n",
       " 1.0\n",
       " 0.9999999999999992\n",
       " 1.0\n",
       " 1.0000000000000007\n",
       " 0.9999999999999992\n",
       " 0.9999999999999998\n",
       " 1.0000000000000002\n",
       " ⋮\n",
       " 0.9999999999999992\n",
       " 1.0000000000000007\n",
       " 0.9999999999999992\n",
       " 1.0000000000000004\n",
       " 1.0000000000000002\n",
       " 0.9999999999999999\n",
       " 1.0000000000000009\n",
       " 1.0000000000000002\n",
       " 1.0000000000000004"
      ]
     },
     "metadata": {},
     "output_type": "display_data"
    }
   ],
   "source": [
    "# Project function here: \n",
    "σ = assemble_function_vector(cellvalues,dh, σ₀, MC)\n"
   ]
  },
  {
   "cell_type": "markdown",
   "id": "37970b5d",
   "metadata": {},
   "source": [
    "A prerequisite is that we can calculate the bilinear map: $\\nabla(u)\\cdot\\nabla(\\lambda)$\n"
   ]
  },
  {
   "cell_type": "code",
   "execution_count": 20,
   "id": "4f9e1067",
   "metadata": {},
   "outputs": [],
   "source": [
    "# Assemble right-hand side for the projection of ∇(u) ⋅ ∇(λ) onto the FE space.\n",
    "# This computes rhs_i = ∫ (∇u ⋅ ∇λ) ϕ_i dΩ for each test function ϕ_i.\n",
    "# Assuming u and λ are scalar fields in the same FE space.\n",
    "# cellvalues should be CellScalarValues(qr, ip) where qr is QuadratureRule, ip is Interpolation.\n",
    "#function calculate_bilinear_map(a::AbstractVector, b::AbstractVector, cellvalues::CellValues, dh::DofHandler, M_cholesky)\n",
    "# Write some code which demonstrates this function:\n"
   ]
  },
  {
   "cell_type": "markdown",
   "id": "38df3130",
   "metadata": {},
   "source": [
    "Here we define which metric we want to use:\n",
    "In our case we will stick with the squared $L^2$ metric, but in theory one would receive more stable EIT reconstruction if instead one calculates Wasserstein distance, Spectral distances or similar."
   ]
  },
  {
   "cell_type": "code",
   "execution_count": 21,
   "id": "52b02f67",
   "metadata": {},
   "outputs": [
    {
     "name": "stderr",
     "output_type": "stream",
     "text": [
      "\u001b[33m\u001b[1m┌ \u001b[22m\u001b[39m\u001b[33m\u001b[1mWarning: \u001b[22m\u001b[39mUsing fallback BLAS replacements for ([\"dasum_64_\"]), performance may be degraded\n",
      "\u001b[33m\u001b[1m└ \u001b[22m\u001b[39m\u001b[90m@ Enzyme.Compiler ~/.julia/packages/Enzyme/sQTaL/src/compiler.jl:4430\u001b[39m\n"
     ]
    }
   ],
   "source": [
    "# Here we define the metric we will use:\n",
    "d = (x,y) -> norm(x-y)^2\n",
    "∂d = (x,y) -> 2*(x-y) \n",
    "# This allows us to plugin other metrics and differentiate with Enzyme:\n",
    "# define metric here:\n",
    "\n",
    "# define other metric here:\n",
    "#d = (x, y) -> ...\n",
    "# We can now use Enzyme or Zygote Autodiff library:\n",
    "using Enzyme\n",
    "makegradₓ(d) = (x, y) -> Enzyme.gradient(Reverse, Const(d), x, y)[1]\n",
    "∂ₓd = makegradₓ(d)\n",
    "# Sanity test, whether this is working:\n",
    "a = randn(10)\n",
    "b = randn(10)\n",
    "@assert norm(∂d(a,b) - ∂ₓd(a,b)) ≈ 0"
   ]
  },
  {
   "cell_type": "markdown",
   "id": "4186951d",
   "metadata": {},
   "source": [
    "With the given matrix and projector our we need to solve for every mode $(f_i,g_i)$ the adjoint-state-solution to get the gradient:\n",
    "\n",
    "$$ \\nabla_\\sigma d(K_\\sigma\\; g_i,f_i) $$\n",
    "with $d(\\cdot,\\cdot)$ being some pseudo metric through which we measure the error and $K_\\sigma$ the Forward EIT operator dependent on $\\sigma$\n",
    "Our implementation becomes:\n",
    "```julia\n",
    "function state_adjoint_step!(mode::EITMode, K_factorized, M, d,∂d ,down,up,dh::DofHandler, cellvalues::CellValues)\n",
    "    # We solve the state equation ∇⋅(σ∇uᵢ) = 0 : σ∂u/∂𝐧 = g\n",
    "    mode.u = K \\ mode.g\n",
    "    # Projection from down:Ω → ∂Ω\n",
    "    b = down(mode.u) \n",
    "    # Normalize: ∫(uᵢ)d∂Ω = 0\n",
    "    mean = Statistics.mean(b) \n",
    "    b .-= mean\n",
    "    mode.u .-= mean \n",
    "    # We solve the adjoint equation ∇⋅(σ∇λᵢ) = 0 : σ∂u/∂𝐧 = ∂ₓd(u,f)\n",
    "    mode.λ = K \\ up(∂d(b,mode.f)) \n",
    "    # Note: we have projection up: ∂Ω → Ω (fill in zeros)\n",
    "    # ∂ₓd is gradient of pseudo metric d(x,y)\n",
    "    mode.error = d(b,mode.f) # Error according to pseudo metric d(x,y)\n",
    "    # Calculate ∇(uᵢ)⋅∇(λᵢ) here: \n",
    "    mode.δσ = calculate_bilinear_map(mode.λ, mode.u, cellvalues, dh, M) \n",
    "end\n",
    "```\n",
    "For efficiency we will use a Conjugate Gradient (CG) solver in production."
   ]
  },
  {
   "cell_type": "code",
   "execution_count": 22,
   "id": "bd0183b5",
   "metadata": {},
   "outputs": [
    {
     "data": {
      "text/plain": [
       "#35 (generic function with 1 method)"
      ]
     },
     "metadata": {},
     "output_type": "display_data"
    }
   ],
   "source": [
    "# For comparison to adjoint-state-method implement gradient based on Autodiff here:\n",
    "# we need to define assemble an optimization functional:\n",
    "\n",
    "function assemble_optimization_functional(cellvalues::CellValues,dh::DofHandler,up,down,d)\n",
    "    return (σ,f,g) -> begin\n",
    "        K = assemble_K(cellvalues,dh,σ,1e-12)\n",
    "        # enforce main zero\n",
    "        f .-= Statistics.mean(f)\n",
    "        b = up(g)\n",
    "        b .-= Statistics.mean(b)\n",
    "        u = down(K \\ b)  # This is the problematic part for using Autodiff\n",
    "        #maybe enforce main zero again:\n",
    "        error = d(u,f)\n",
    "        return error\n",
    "    end\n",
    "end\n",
    "J_func = assemble_optimization_functional(cellvalues,dh,up,down,d)\n",
    "\n",
    "# now in the next step we need to use autodiff:\n",
    "\n",
    "makegrad_σ(J) = (σ, f, g) -> Enzyme.gradient(Reverse, Const(J), σ, f, g)[1]\n",
    "\n",
    "∂σJ = makegrad_σ(J_func)\n"
   ]
  },
  {
   "cell_type": "markdown",
   "id": "635ebfc8",
   "metadata": {},
   "source": [
    "Thus we have assembled the gradient for a mode using Enzyme Autodiff: \n",
    "Let's try whether it works."
   ]
  },
  {
   "cell_type": "code",
   "execution_count": 23,
   "id": "d0776d17",
   "metadata": {},
   "outputs": [],
   "source": [
    "# Don't try for now\n",
    "# ∂σJ(σ, mode_dict[1].f, down(mode_dict[1].g))"
   ]
  },
  {
   "cell_type": "markdown",
   "id": "03f532fc",
   "metadata": {},
   "source": [
    "No it doesn't\n",
    "\n",
    "It get's a little bit more complicated than I thought and I already asked in the forum."
   ]
  },
  {
   "cell_type": "markdown",
   "id": "fee83178",
   "metadata": {},
   "source": [
    "### Regularization\n",
    "#### Tikhonov Regularization\n",
    "For Tikhonov regularization we already have assembled:"
   ]
  },
  {
   "cell_type": "code",
   "execution_count": 24,
   "id": "31646fbc",
   "metadata": {},
   "outputs": [
    {
     "data": {
      "text/plain": [
       "(sparse([1, 2, 3, 4, 1, 2, 3, 4, 5, 6  …  270, 271, 272, 287, 288, 289, 271, 272, 288, 289], [1, 1, 1, 1, 2, 2, 2, 2, 2, 2  …  288, 288, 288, 288, 288, 288, 289, 289, 289, 289], [0.6666666666666663, -0.16666666666666646, -0.3333333333333332, -0.16666666666666663, -0.16666666666666646, 1.3333333333333326, -0.3333333333333331, -0.3333333333333332, -0.16666666666666652, -0.33333333333333315  …  -0.3333333333333333, -0.3333333333333333, -0.33333333333333315, -0.1666666666666666, 1.333333333333333, -0.16666666666666657, -0.33333333333333326, -0.16666666666666663, -0.16666666666666657, 0.6666666666666665], 289, 289), SparseArrays.CHOLMOD.Factor{Float64, Int64}\n",
       "type:    LLt\n",
       "method:  simplicial\n",
       "maxnnz:  3815\n",
       "nnz:     3815\n",
       "success: true\n",
       ")"
      ]
     },
     "metadata": {},
     "output_type": "display_data"
    }
   ],
   "source": [
    "# This is: ∫(∇(u)⋅∇(v))dΩ the stiffness matrix without specified coefficients. It is used for Tikhonov H¹ regularization. \n",
    "K_st , K_TK = assemble_K(cellvalues, dh)"
   ]
  },
  {
   "cell_type": "code",
   "execution_count": 25,
   "id": "7e57ed55",
   "metadata": {},
   "outputs": [
    {
     "data": {
      "text/plain": [
       "FerriteEITProblem(sparse([1, 2, 3, 4, 1, 2, 3, 4, 5, 6  …  270, 271, 272, 287, 288, 289, 271, 272, 288, 289], [1, 1, 1, 1, 2, 2, 2, 2, 2, 2  …  288, 288, 288, 288, 288, 288, 289, 289, 289, 289], [0.001736111111111111, 0.0008680555555555556, 0.00043402777777777775, 0.0008680555555555555, 0.0008680555555555556, 0.0034722222222222225, 0.001736111111111111, 0.00043402777777777775, 0.0008680555555555556, 0.00043402777777777775  …  0.00043402777777777775, 0.001736111111111111, 0.00043402777777777765, 0.0008680555555555553, 0.003472222222222221, 0.0008680555555555553, 0.00043402777777777765, 0.0008680555555555553, 0.0008680555555555553, 0.0017361111111111106], 289, 289), SparseArrays.CHOLMOD.Factor{Float64, Int64}\n",
       "type:    LLt\n",
       "method:  simplicial\n",
       "maxnnz:  3815\n",
       "nnz:     3815\n",
       "success: true\n",
       ", sparse([1, 2, 3, 4, 1, 2, 3, 4, 5, 6  …  270, 271, 272, 287, 288, 289, 271, 272, 288, 289], [1, 1, 1, 1, 2, 2, 2, 2, 2, 2  …  288, 288, 288, 288, 288, 288, 289, 289, 289, 289], [0.6666666666666663, -0.16666666666666646, -0.3333333333333332, -0.16666666666666663, -0.16666666666666646, 1.3333333333333326, -0.3333333333333331, -0.3333333333333332, -0.16666666666666652, -0.33333333333333315  …  -0.3333333333333333, -0.3333333333333333, -0.33333333333333315, -0.1666666666666666, 1.333333333333333, -0.16666666666666657, -0.33333333333333326, -0.16666666666666663, -0.16666666666666657, 0.6666666666666665], 289, 289), var\"#15#21\"{Vector{Int64}}(Core.Box([0.0, 0.0, 0.0, 0.0, 0.0, 0.0, 0.0, 0.0, 0.0, 0.0  …  0.0, 0.0, 0.0, 0.0, 0.0, 0.0, 0.0, 0.0, 1.0, -1.0]), [1, 2, 4, 5, 7, 9, 11, 13, 15, 17  …  280, 281, 282, 283, 284, 285, 286, 287, 288, 289]), var\"#14#20\"{Vector{Int64}}([1, 2, 4, 5, 7, 9, 11, 13, 15, 17  …  280, 281, 282, 283, 284, 285, 286, 287, 288, 289]), var\"#27#28\"(), var\"#29#30\"(), [1.0, 1.0000000000000004, 0.9999999999999998, 1.0, 0.9999999999999992, 1.0, 1.0000000000000007, 0.9999999999999992, 0.9999999999999998, 1.0000000000000002  …  1.0000000000000004, 0.9999999999999992, 1.0000000000000007, 0.9999999999999992, 1.0000000000000004, 1.0000000000000002, 0.9999999999999999, 1.0000000000000009, 1.0000000000000002, 1.0000000000000004], sparse([1, 2, 3, 4, 1, 2, 3, 4, 5, 6  …  270, 271, 272, 287, 288, 289, 271, 272, 288, 289], [1, 1, 1, 1, 2, 2, 2, 2, 2, 2  …  288, 288, 288, 288, 288, 288, 289, 289, 289, 289], [0.6666666666666664, -0.16666666666666652, -0.33333333333333326, -0.16666666666666666, -0.16666666666666652, 1.3333333333333326, -0.33333333333333315, -0.33333333333333326, -0.1666666666666665, -0.3333333333333331  …  -0.33333333333333337, -0.33333333333333337, -0.33333333333333315, -0.16666666666666669, 1.3333333333333333, -0.16666666666666663, -0.33333333333333326, -0.16666666666666663, -0.16666666666666663, 0.6666666666666665], 289, 289), SparseArrays.CHOLMOD.Factor{Float64, Int64}\n",
       "type:    LLt\n",
       "method:  simplicial\n",
       "maxnnz:  3815\n",
       "nnz:     3815\n",
       "success: true\n",
       ", CellValues{Ferrite.FunctionValues{1, Lagrange{RefQuadrilateral, 1}, Matrix{Float64}, Matrix{Vec{2, Float64}}, Matrix{Vec{2, Float64}}, Nothing, Nothing}, Ferrite.GeometryMapping{1, Lagrange{RefQuadrilateral, 1}, Matrix{Float64}, Matrix{Vec{2, Float64}}, Nothing}, QuadratureRule{RefQuadrilateral, Vector{Float64}, Vector{Vec{2, Float64}}}, Vector{Float64}}(Ferrite.FunctionValues{1, Lagrange{RefQuadrilateral, 1}, Matrix{Float64}, Matrix{Vec{2, Float64}}, Matrix{Vec{2, Float64}}, Nothing, Nothing}(Lagrange{RefQuadrilateral, 1}(), [0.6220084679281462 0.16666666666666669 0.16666666666666669 0.044658198738520456; 0.16666666666666669 0.6220084679281462 0.044658198738520456 0.16666666666666669; 0.044658198738520456 0.16666666666666669 0.16666666666666669 0.6220084679281462; 0.16666666666666669 0.044658198738520456 0.6220084679281462 0.16666666666666669], [0.6220084679281462 0.16666666666666669 0.16666666666666669 0.044658198738520456; 0.16666666666666669 0.6220084679281462 0.044658198738520456 0.16666666666666669; 0.044658198738520456 0.16666666666666669 0.16666666666666669 0.6220084679281462; 0.16666666666666669 0.044658198738520456 0.6220084679281462 0.16666666666666669], Vec{2, Float64}[[-6.309401076758501, -6.309401076758503] [-6.309401076758501, -1.6905989232414984] [-1.690598923241497, -6.309401076758503] [-1.690598923241497, -1.6905989232414975]; [6.309401076758501, -1.690598923241497] [6.309401076758501, -6.309401076758501] [1.690598923241497, -1.690598923241497] [1.690598923241497, -6.309401076758503]; [1.6905989232414966, 1.690598923241497] [1.6905989232414966, 6.309401076758503] [6.309401076758503, 1.690598923241497] [6.309401076758503, 6.309401076758505]; [-1.6905989232414966, 6.309401076758503] [-1.6905989232414966, 1.6905989232414966] [-6.309401076758503, 6.309401076758503] [-6.309401076758503, 1.6905989232414957]], Vec{2, Float64}[[-0.39433756729740643, -0.39433756729740643] [-0.39433756729740643, -0.10566243270259357] [-0.10566243270259357, -0.39433756729740643] [-0.10566243270259357, -0.10566243270259357]; [0.39433756729740643, -0.10566243270259357] [0.39433756729740643, -0.39433756729740643] [0.10566243270259357, -0.10566243270259357] [0.10566243270259357, -0.39433756729740643]; [0.10566243270259357, 0.10566243270259357] [0.10566243270259357, 0.39433756729740643] [0.39433756729740643, 0.10566243270259357] [0.39433756729740643, 0.39433756729740643]; [-0.10566243270259357, 0.39433756729740643] [-0.10566243270259357, 0.10566243270259357] [-0.39433756729740643, 0.39433756729740643] [-0.39433756729740643, 0.10566243270259357]], nothing, nothing), Ferrite.GeometryMapping{1, Lagrange{RefQuadrilateral, 1}, Matrix{Float64}, Matrix{Vec{2, Float64}}, Nothing}(Lagrange{RefQuadrilateral, 1}(), [0.6220084679281462 0.16666666666666669 0.16666666666666669 0.044658198738520456; 0.16666666666666669 0.6220084679281462 0.044658198738520456 0.16666666666666669; 0.044658198738520456 0.16666666666666669 0.16666666666666669 0.6220084679281462; 0.16666666666666669 0.044658198738520456 0.6220084679281462 0.16666666666666669], Vec{2, Float64}[[-0.39433756729740643, -0.39433756729740643] [-0.39433756729740643, -0.10566243270259357] [-0.10566243270259357, -0.39433756729740643] [-0.10566243270259357, -0.10566243270259357]; [0.39433756729740643, -0.10566243270259357] [0.39433756729740643, -0.39433756729740643] [0.10566243270259357, -0.10566243270259357] [0.10566243270259357, -0.39433756729740643]; [0.10566243270259357, 0.10566243270259357] [0.10566243270259357, 0.39433756729740643] [0.39433756729740643, 0.10566243270259357] [0.39433756729740643, 0.39433756729740643]; [-0.10566243270259357, 0.39433756729740643] [-0.10566243270259357, 0.10566243270259357] [-0.39433756729740643, 0.39433756729740643] [-0.39433756729740643, 0.10566243270259357]], nothing), QuadratureRule{RefQuadrilateral, Vector{Float64}, Vector{Vec{2, Float64}}}([0.9999999999999996, 0.9999999999999996, 0.9999999999999996, 0.9999999999999996], Vec{2, Float64}[[-0.5773502691896257, -0.5773502691896257], [0.5773502691896257, -0.5773502691896257], [-0.5773502691896257, 0.5773502691896257], [0.5773502691896257, 0.5773502691896257]]), [0.003906249999999999, 0.003906249999999999, 0.0039062499999999983, 0.0039062499999999983]), DofHandler{2, Grid{2, Quadrilateral, Float64}}(SubDofHandler{DofHandler{2, Grid{2, Quadrilateral, Float64}}}[SubDofHandler{DofHandler{2, Grid{2, Quadrilateral, Float64}}}(DofHandler{2, Grid{2, Quadrilateral, Float64}}(#= circular reference @-3 =#), OrderedCollections.OrderedSet{Int64}([1, 2, 3, 4, 5, 6, 7, 8, 9, 10  …  247, 248, 249, 250, 251, 252, 253, 254, 255, 256]), [:u], Interpolation[Lagrange{RefQuadrilateral, 1}()], Int64[], 4)], [:u], [1, 2, 3, 4, 2, 5, 6, 3, 5, 7  …  287, 286, 270, 271, 288, 287, 271, 272, 289, 288], [1, 5, 9, 13, 17, 21, 25, 29, 33, 37  …  985, 989, 993, 997, 1001, 1005, 1009, 1013, 1017, 1021], [1, 1, 1, 1, 1, 1, 1, 1, 1, 1  …  1, 1, 1, 1, 1, 1, 1, 1, 1, 1], true, Grid{2, Quadrilateral, Float64}(Quadrilateral[Quadrilateral((1, 2, 19, 18)), Quadrilateral((2, 3, 20, 19)), Quadrilateral((3, 4, 21, 20)), Quadrilateral((4, 5, 22, 21)), Quadrilateral((5, 6, 23, 22)), Quadrilateral((6, 7, 24, 23)), Quadrilateral((7, 8, 25, 24)), Quadrilateral((8, 9, 26, 25)), Quadrilateral((9, 10, 27, 26)), Quadrilateral((10, 11, 28, 27))  …  Quadrilateral((262, 263, 280, 279)), Quadrilateral((263, 264, 281, 280)), Quadrilateral((264, 265, 282, 281)), Quadrilateral((265, 266, 283, 282)), Quadrilateral((266, 267, 284, 283)), Quadrilateral((267, 268, 285, 284)), Quadrilateral((268, 269, 286, 285)), Quadrilateral((269, 270, 287, 286)), Quadrilateral((270, 271, 288, 287)), Quadrilateral((271, 272, 289, 288))], Node{2, Float64}[Node{2, Float64}([-1.0, -1.0]), Node{2, Float64}([-0.875, -1.0]), Node{2, Float64}([-0.75, -1.0]), Node{2, Float64}([-0.625, -1.0]), Node{2, Float64}([-0.5, -1.0]), Node{2, Float64}([-0.375, -1.0]), Node{2, Float64}([-0.25, -1.0]), Node{2, Float64}([-0.125, -1.0]), Node{2, Float64}([0.0, -1.0]), Node{2, Float64}([0.125, -1.0])  …  Node{2, Float64}([-0.125, 1.0]), Node{2, Float64}([0.0, 1.0]), Node{2, Float64}([0.125, 1.0]), Node{2, Float64}([0.25, 1.0]), Node{2, Float64}([0.375, 1.0]), Node{2, Float64}([0.5, 1.0]), Node{2, Float64}([0.625, 1.0]), Node{2, Float64}([0.75, 1.0]), Node{2, Float64}([0.875, 1.0]), Node{2, Float64}([1.0, 1.0])], Dict{String, OrderedCollections.OrderedSet{Int64}}(), Dict{String, OrderedCollections.OrderedSet{Int64}}(), Dict{String, OrderedCollections.OrderedSet{FacetIndex}}(\"left\" => OrderedCollections.OrderedSet{FacetIndex}([FacetIndex((1, 4)), FacetIndex((17, 4)), FacetIndex((33, 4)), FacetIndex((49, 4)), FacetIndex((65, 4)), FacetIndex((81, 4)), FacetIndex((97, 4)), FacetIndex((113, 4)), FacetIndex((129, 4)), FacetIndex((145, 4)), FacetIndex((161, 4)), FacetIndex((177, 4)), FacetIndex((193, 4)), FacetIndex((209, 4)), FacetIndex((225, 4)), FacetIndex((241, 4))]), \"bottom\" => OrderedCollections.OrderedSet{FacetIndex}([FacetIndex((1, 1)), FacetIndex((2, 1)), FacetIndex((3, 1)), FacetIndex((4, 1)), FacetIndex((5, 1)), FacetIndex((6, 1)), FacetIndex((7, 1)), FacetIndex((8, 1)), FacetIndex((9, 1)), FacetIndex((10, 1)), FacetIndex((11, 1)), FacetIndex((12, 1)), FacetIndex((13, 1)), FacetIndex((14, 1)), FacetIndex((15, 1)), FacetIndex((16, 1))]), \"right\" => OrderedCollections.OrderedSet{FacetIndex}([FacetIndex((16, 2)), FacetIndex((32, 2)), FacetIndex((48, 2)), FacetIndex((64, 2)), FacetIndex((80, 2)), FacetIndex((96, 2)), FacetIndex((112, 2)), FacetIndex((128, 2)), FacetIndex((144, 2)), FacetIndex((160, 2)), FacetIndex((176, 2)), FacetIndex((192, 2)), FacetIndex((208, 2)), FacetIndex((224, 2)), FacetIndex((240, 2)), FacetIndex((256, 2))]), \"top\" => OrderedCollections.OrderedSet{FacetIndex}([FacetIndex((241, 3)), FacetIndex((242, 3)), FacetIndex((243, 3)), FacetIndex((244, 3)), FacetIndex((245, 3)), FacetIndex((246, 3)), FacetIndex((247, 3)), FacetIndex((248, 3)), FacetIndex((249, 3)), FacetIndex((250, 3)), FacetIndex((251, 3)), FacetIndex((252, 3)), FacetIndex((253, 3)), FacetIndex((254, 3)), FacetIndex((255, 3)), FacetIndex((256, 3))])), Dict{String, OrderedCollections.OrderedSet{VertexIndex}}()), 289), 289)"
      ]
     },
     "metadata": {},
     "output_type": "display_data"
    }
   ],
   "source": [
    "mutable struct FerriteEITProblem\n",
    "    M # Massmatrix ∫(ϕᵢϕⱼ)dΩ as Sparse matrix\n",
    "    MC # Massmatrix Cholesky \n",
    "    KST # Stiffness matrix ∫(∇ϕᵢ⋅∇ϕⱼ)dΩ of the mesh\n",
    "    up # Projection to boundary (Can be an operator)\n",
    "    down # Projection from boundary to force vector\n",
    "    d # the metric we are using for the problem\n",
    "    ∂d # the metric d(x,y) differentiated after x\n",
    "    σ # The current guess of the conductivity\n",
    "    K # The current guess of the stiffnessmatrix ∫(σ*∇ϕᵢ⋅∇ϕⱼ)dΩ assembled from σ\n",
    "    Kfac # factorized version of guess of stiffness matrix\n",
    "    cellvalues::CellValues\n",
    "    dh::DofHandler\n",
    "    n::Int64 # ndofs(dh)\n",
    "end\n",
    "K_σ = assemble_K(cellvalues,dh,σ)\n",
    "\n",
    "data = FerriteEITProblem(M,MC,K_st,up,down, d, ∂d, σ, K_σ, factorize(K_σ),cellvalues,dh,ndofs(dh))"
   ]
  },
  {
   "cell_type": "markdown",
   "id": "5a17bfa8",
   "metadata": {},
   "source": [
    "#### TV regularization\n",
    "Additinal we need to assemble the TV regularizer. The required Mass matrix we already have asembled and ready to use. \n"
   ]
  },
  {
   "cell_type": "code",
   "execution_count": 26,
   "id": "58867593",
   "metadata": {},
   "outputs": [
    {
     "data": {
      "text/plain": [
       "([3.2219057382748446e-5, -5.5837278817624385e-5, 2.9253189530590552e-5, -1.8051404214503544e-5, 6.484513822018395e-5, -2.8222108224870155e-5, -8.610747062329395e-5, 7.147228209540172e-5, 2.456791931597707e-5, -5.1399905724473835e-5  …  -0.00010674461553114132, 0.00011792914925923239, -0.00012265048442922566, 0.00010670360584536778, -6.967845921681451e-5, -8.8930279044426e-6, 3.994279299669547e-5, -6.645346147552027e-5, -1.321517380557987e-5, -2.919033726277597e-5], 1.0000000000002386e-8)"
      ]
     },
     "metadata": {},
     "output_type": "display_data"
    }
   ],
   "source": [
    "tv = TV(ndofs(dh))\n",
    "calc_tv_gradient!(σ, tv, cellvalues, dh, M)"
   ]
  },
  {
   "cell_type": "markdown",
   "id": "bd9051f0",
   "metadata": {},
   "source": [
    "For finding suitable stepsizes we will use Gauss-Newton.\n",
    "Since we want to avoid implementing a dense Hessian Matrix we use SVD to invert the Matrix."
   ]
  },
  {
   "cell_type": "code",
   "execution_count": 27,
   "id": "37068654",
   "metadata": {},
   "outputs": [],
   "source": [
    "# Later I might want to do Split-Bregman\n",
    "\n",
    "#=\n",
    "using LinearAlgebra\n",
    "\n",
    "# Forward operator: F(γ) -> simulated boundary voltages\n",
    "function forward(γ)\n",
    "    # placeholder: replace with your FEM/EIT solver\n",
    "    return γ # dummy\n",
    "end\n",
    "\n",
    "# Residual: r(γ) = F(γ) - y\n",
    "function residual(γ, y)\n",
    "    return forward(γ) - y\n",
    "end\n",
    "\n",
    "# Gradient of data term (Jacobian): ∇_γ 0.5*||F(γ)-y||^2\n",
    "function grad_data(γ, y)\n",
    "    # placeholder: replace with actual Jacobian * residual\n",
    "    return residual(γ, y)\n",
    "end\n",
    "\n",
    "\n",
    "# That are the exact axoims the proximal operator has to fullfill?\n",
    "# Example proximal operator: soft-thresholding (for L1 norm)\n",
    "function prox_l1(x, λ)\n",
    "    return sign.(x) .* max.(abs.(x) .- λ, 0)\n",
    "end\n",
    "\n",
    "# Split Bregman iteration\n",
    "function split_bregman(γ0, y; λ=1.0, μ=1.0, niter=20, prox=prox_l1)\n",
    "    γ = copy(γ0)\n",
    "    d = zeros(size(γ0))\n",
    "    b = zeros(size(γ0))\n",
    "    \n",
    "    for k in 1:niter\n",
    "        # --- Update γ (data term + quadratic penalty) ---\n",
    "        # Solve: min 0.5||F(γ)-y||^2 + μ/2 ||∇γ - d - b||^2\n",
    "        # Here we do a simple gradient descent for illustration\n",
    "        g = grad_data(γ, y) + μ * (γ - d - b) # replace ∇γ with identity for simplicity\n",
    "        γ -= 0.1 * g # step size 0.1, tune for your problem\n",
    "        \n",
    "        # --- Update auxiliary variable d (prox of regularizer) ---\n",
    "        d = prox(γ + b, λ/μ)\n",
    "        \n",
    "        # --- Update Bregman variable ---\n",
    "        b += γ - d\n",
    "    end\n",
    "    \n",
    "    return γ\n",
    "end\n",
    "=#"
   ]
  },
  {
   "cell_type": "code",
   "execution_count": 28,
   "id": "3a7de0a4",
   "metadata": {},
   "outputs": [],
   "source": [
    "mutable struct OptParam\n",
    "    τ::Float64 # Stepsize for update σ += τ * δσ\n",
    "    maxiter::Int64 # Max iterations for CG solver\n",
    "    ϵ::Float64 # This is K + ϵI to ensure positive definiteness\n",
    "    num_modes::Int64 # number of modes for truncated SVD  \n",
    "    β_LM::Float64 # For Levenberg marquadt optimization\n",
    "    do_TV::Bool # Whether one does TV regularization or not.\n",
    "    β_TV::Float64 # For TV optimization\n",
    "end"
   ]
  },
  {
   "cell_type": "code",
   "execution_count": 29,
   "id": "e18a9668",
   "metadata": {},
   "outputs": [
    {
     "data": {
      "text/plain": [
       "OptParam(0.1, 500, 0.0, 2016, 0.001, false, 0.0)"
      ]
     },
     "metadata": {},
     "output_type": "display_data"
    }
   ],
   "source": [
    "opt = OptParam(0.1,500,0.0,num_modes,1e-3,false,0.0)"
   ]
  },
  {
   "cell_type": "code",
   "execution_count": null,
   "id": "ccb33081",
   "metadata": {},
   "outputs": [
    {
     "data": {
      "text/plain": [
       "gauss_newton_step! (generic function with 1 method)"
      ]
     },
     "metadata": {},
     "output_type": "display_data"
    }
   ],
   "source": [
    "# This function will not check for mismatches and assume everything is properly initialized:\n",
    "function gauss_newton_step!(data::FerriteEITProblem, modes::Dict{Int64,EITMode}, gn::GaussNewtonState, opt::OptParam)\n",
    "    # Assemble new matrix\n",
    "    data.K = assemble_K(data.cellvalues,data.dh,data.σ)\n",
    "    # Check if dimensionality of J and r fits modes. Else change:\n",
    "    gn.J = zeros(opt.num_modes,data.n)\n",
    "    gn.δ = zeros(opt.num_modes)\n",
    "    #=if do_TV  # Think about this later.\n",
    "        tv_task = Threads.@spawn begin\n",
    "            calc_tv_gradient!(σ,tv, dh,cellvalues,M)\n",
    "        end\n",
    "    end =#\n",
    "    # This is the calculation of the gradient \n",
    "    Threads.@threads for i in 1:opt.num_modes\n",
    "        state_adjoint_step_cg!(mode_dict[i], data.K, data.M,  data.d,data.∂d , data.down, data.up, data.dh, data.cellvalues)\n",
    "    end\n",
    "    # Now we will fetch the TV task:\n",
    "    #=if do_TV\n",
    "        fetch(tv_task) \n",
    "    end =#\n",
    "    for i in 1:opt.num_modes\n",
    "        gn.J[i,:] = modes[i].δσ\n",
    "        gn.r[i] = modes[i].error\n",
    "    end\n",
    "\n",
    "    δσ = gauss_newton_svd!(gn,  opt.β_LM)\n",
    "    #δσ = gauss_newton_cg!(gn,  opt.β_LM)\n",
    "    # update σ\n",
    "    data.σ .+= opt.τ * gn.δ\n",
    "    data.σ .= max.(data.σ ,1e-12) # Ensure positivity\n",
    "    \n",
    "    return gn.δ\n",
    "end\n",
    "    "
   ]
  },
  {
   "cell_type": "code",
   "execution_count": 44,
   "id": "04ab2e85",
   "metadata": {},
   "outputs": [
    {
     "data": {
      "text/plain": [
       "GaussNewtonState([0.0 0.0 … 0.0 0.0; 0.0 0.0 … 0.0 0.0; … ; 0.0 0.0 … 0.0 0.0; 0.0 0.0 … 0.0 0.0], [0.0, 0.0, 0.0, 0.0, 0.0, 0.0, 0.0, 0.0, 0.0, 0.0  …  0.0, 0.0, 0.0, 0.0, 0.0, 0.0, 0.0, 0.0, 0.0, 0.0], [0.0, 0.0, 0.0, 0.0, 0.0, 0.0, 0.0, 0.0, 0.0, 0.0  …  0.0, 0.0, 0.0, 0.0, 0.0, 0.0, 0.0, 0.0, 0.0, 0.0], 289×289 LinearMaps.WrappedMap{Float64} of\n",
       "  289×289 SparseMatrixCSC{Float64, Int64} with 289 stored entries)"
      ]
     },
     "metadata": {},
     "output_type": "display_data"
    }
   ],
   "source": [
    "gn = GaussNewtonState(data.n,num_modes)"
   ]
  },
  {
   "cell_type": "code",
   "execution_count": 57,
   "id": "8346918d",
   "metadata": {},
   "outputs": [
    {
     "data": {
      "text/plain": [
       "289-element Vector{Float64}:\n",
       " 1.0\n",
       " 1.0\n",
       " 1.0\n",
       " 1.0\n",
       " 1.0\n",
       " 1.0\n",
       " 1.0\n",
       " 1.0\n",
       " 1.0\n",
       " 1.0\n",
       " ⋮\n",
       " 1.0\n",
       " 1.0\n",
       " 1.0\n",
       " 1.0\n",
       " 1.0\n",
       " 1.0\n",
       " 1.0\n",
       " 1.0\n",
       " 1.0"
      ]
     },
     "metadata": {},
     "output_type": "display_data"
    }
   ],
   "source": [
    "data.σ = ones(data.n)\n",
    "σ =data.σ"
   ]
  },
  {
   "cell_type": "code",
   "execution_count": 58,
   "id": "73071081",
   "metadata": {},
   "outputs": [
    {
     "name": "stdout",
     "output_type": "stream",
     "text": [
      "With error: 7.989185663754735\n",
      "With H^1 error: 0.5060961398090454\n"
     ]
    }
   ],
   "source": [
    "σ_prev = copy(σ)\n",
    "error  = norm(cond_vec - σ)\n",
    "println(\"With error: \", error)\n",
    "error2  = norm(K_st*(cond_vec - σ))\n",
    "println(\"With H^1 error: \", error2)"
   ]
  },
  {
   "cell_type": "code",
   "execution_count": 59,
   "id": "f9be99a6",
   "metadata": {},
   "outputs": [
    {
     "data": {
      "text/plain": [
       "289-element Vector{Float64}:\n",
       "  0.00504570245295008\n",
       " -0.005542665008123588\n",
       "  0.006204541493810228\n",
       " -0.0047721942176189875\n",
       "  0.011267463009947822\n",
       "  0.0008872198120938958\n",
       " -0.0059519701975351835\n",
       " -0.0032224770131105544\n",
       "  0.007065428083576123\n",
       " -0.010523697031429378\n",
       "  ⋮\n",
       " -0.0005363853272242968\n",
       " -0.016262748408030596\n",
       "  0.002378838349287434\n",
       " -0.012553975954965612\n",
       "  0.0053178512479288755\n",
       " -0.01077457267320507\n",
       "  0.006814251881955283\n",
       " -0.009884557803597965\n",
       "  0.0034531734368712227"
      ]
     },
     "metadata": {},
     "output_type": "display_data"
    }
   ],
   "source": [
    "gauss_newton_step!(data, mode_dict, gn, opt)"
   ]
  },
  {
   "cell_type": "code",
   "execution_count": 60,
   "id": "edba164c",
   "metadata": {},
   "outputs": [],
   "source": [
    "# Sanity check whether "
   ]
  },
  {
   "cell_type": "markdown",
   "id": "917dc572",
   "metadata": {},
   "source": [
    "Now that we have all the pieces we can assemble the full optimization step:"
   ]
  },
  {
   "cell_type": "code",
   "execution_count": 61,
   "id": "a09d8951",
   "metadata": {},
   "outputs": [
    {
     "name": "stdout",
     "output_type": "stream",
     "text": [
      "With error: 8.201328446772981\n"
     ]
    }
   ],
   "source": [
    "σ_prev = copy(σ)\n",
    "error  = norm(cond_vec - σ)\n",
    "println(\"With error: \", error)"
   ]
  },
  {
   "cell_type": "markdown",
   "id": "5fe0b5dd",
   "metadata": {},
   "source": [
    "Let's run this optimization loop a few times:"
   ]
  },
  {
   "cell_type": "code",
   "execution_count": 62,
   "id": "19c54cea",
   "metadata": {},
   "outputs": [
    {
     "name": "stdout",
     "output_type": "stream",
     "text": [
      "Step 1 \n",
      "With error: 8.199784681122164\n",
      "With H^1 error: 5.876264464331892\n",
      "And ideal step multiplier: 0.16132294334005978\n",
      "Step 2 \n",
      "With error: 8.199146081211454\n",
      "With H^1 error: 5.930727323143733\n",
      "And ideal step multiplier: 0.08601206971562363\n",
      "Step 3 \n",
      "With error: 8.199329616478284\n",
      "With H^1 error: 5.995343418225846\n",
      "And ideal step multiplier: 0.0173154884385892\n",
      "Step 4 \n",
      "With error: 8.20025125518894\n",
      "With H^1 error: 6.068597124155227\n",
      "And ideal step multiplier: -0.04461227822007013\n",
      "Step 5 \n",
      "With error: 8.201831238788502\n",
      "With H^1 error: 6.149067004228405\n",
      "And ideal step multiplier: -0.10005870968532432\n",
      "Step 6 \n",
      "With error: 8.203996759231927\n",
      "With H^1 error: 6.23547560982002\n",
      "And ideal step multiplier: -0.14954709151200665\n",
      "Step 7 \n",
      "With error: 8.206682837180335\n",
      "With H^1 error: 6.3267061175156805\n",
      "And ideal step multiplier: -0.19368885448416986\n",
      "Step 8 \n",
      "With error: 8.209832185985476\n",
      "With H^1 error: 6.421799263902432\n",
      "And ideal step multiplier: -0.23309710925500535\n",
      "Step 9 \n",
      "With error: 8.213394611266802\n",
      "With H^1 error: 6.5199405876233\n",
      "And ideal step multiplier: -0.2683446905104494\n",
      "Step 10 \n",
      "With error: 8.217326260637053\n",
      "With H^1 error: 6.620444079217789\n",
      "And ideal step multiplier: -0.29994861659823147\n",
      "Step 11 \n",
      "With error: 8.221588875498771\n",
      "With H^1 error: 6.722735451006882\n",
      "And ideal step multiplier: -0.3283679272494\n",
      "Step 12 \n",
      "With error: 8.226149104919273\n",
      "With H^1 error: 6.826336493630676\n",
      "And ideal step multiplier: -0.3540072543763286\n",
      "Step 13 \n",
      "With error: 8.230977896976167\n",
      "With H^1 error: 6.9308510601214355\n",
      "And ideal step multiplier: -0.3772222495430049\n",
      "Step 14 \n",
      "With error: 8.236049964503275\n",
      "With H^1 error: 7.0359527749472415\n",
      "And ideal step multiplier: -0.3983251513921343\n",
      "Step 15 \n",
      "With error: 8.241343316032905\n",
      "With H^1 error: 7.141374373142199\n",
      "And ideal step multiplier: -0.4175898385662051\n",
      "Step 16 \n",
      "With error: 8.246838842536402\n",
      "With H^1 error: 7.246898509585082\n",
      "And ideal step multiplier: -0.435256251653924\n",
      "Step 17 \n",
      "With error: 8.252519951451209\n",
      "With H^1 error: 7.352349860340806\n",
      "And ideal step multiplier: -0.4515341943277617\n",
      "Step 18 \n",
      "With error: 8.258372241028797\n",
      "With H^1 error: 7.457588345639667\n",
      "And ideal step multiplier: -0.46660660353600447\n",
      "Step 19 \n",
      "With error: 8.264383209497\n",
      "With H^1 error: 7.562503321331543\n",
      "And ideal step multiplier: -0.480632387852436\n",
      "Step 20 \n",
      "With error: 8.270541994564438\n",
      "With H^1 error: 7.667008601431033\n",
      "And ideal step multiplier: -0.49374890748001854\n"
     ]
    }
   ],
   "source": [
    "#opt.num_modes = 20 # Truncate with SVD\n",
    "for i in 1:20\n",
    "    println(\"Step \", i, \" \")\n",
    "    result, time, bytes, gctime, memallocs = @timed begin\n",
    "        δσ = gauss_newton_step!(data, mode_dict, gn, opt)\n",
    "        #δσ, _ = cheat_step!(MC, cond_vec, σ, mode_dict, 10, tv,  d,∂d ,down,up,dh, cellvalues, false)\n",
    "    end\n",
    "    #println(\"Time: \", time, \" seconds, Bytes: \", bytes, \", GC time: \", gctime, \", Memory allocations: \", memallocs)\n",
    "    error  = norm(cond_vec - σ)\n",
    "    println(\"With error: \", error)\n",
    "    error2  = norm(K_st*(cond_vec - σ))\n",
    "    println(\"With H^1 error: \", error2)\n",
    "    step_param = dot((σ_prev - cond_vec), δσ )\n",
    "    σ_prev = copy(σ)\n",
    "    println(\"And ideal step multiplier: \",step_param)\n",
    "end"
   ]
  },
  {
   "cell_type": "markdown",
   "id": "8f53f1be",
   "metadata": {},
   "source": [
    "Let's try some Tikhonov Regularization:"
   ]
  },
  {
   "cell_type": "code",
   "execution_count": 63,
   "id": "89c5da5f",
   "metadata": {},
   "outputs": [
    {
     "data": {
      "text/plain": [
       "289×289 LinearMaps.WrappedMap{Float64} of\n",
       "  289×289 SparseMatrixCSC{Float64, Int64} with 2401 stored entries"
      ]
     },
     "metadata": {},
     "output_type": "display_data"
    }
   ],
   "source": [
    "gn.M = LinearMap(0.5*I + 0.2*M + 0.3*K_st)"
   ]
  },
  {
   "cell_type": "code",
   "execution_count": null,
   "id": "091c743e",
   "metadata": {},
   "outputs": [
    {
     "name": "stdout",
     "output_type": "stream",
     "text": [
      "Step 1 With error: 8.276839139552864\n",
      "With H^1 error: 7.771038191628173\n",
      "And ideal step multiplier: -0.5060741524972211\n",
      "Step 2 With error: 8.283266383298173\n",
      "With H^1 error: 7.874542632360551\n",
      "And ideal step multiplier: -0.5177086869312296\n",
      "Step 3 With error: 8.289816471542332\n",
      "With H^1 error: 7.977485865345138\n",
      "And ideal step multiplier: -0.5287374056080553\n",
      "Step 4 With error: 8.296482988123616\n",
      "With H^1 error: 8.079842551592483\n",
      "And ideal step multiplier: -0.5392311516158116\n",
      "Step 5 "
     ]
    }
   ],
   "source": [
    "#opt.num_modes = 20 # Truncate with SVD\n",
    "for i in 1:20\n",
    "    print(\"Step \", i, \" \")\n",
    "    result, time, bytes, gctime, memallocs = @timed begin\n",
    "        δσ = gauss_newton_step!(data, mode_dict, gn, opt)\n",
    "        #δσ, _ = cheat_step!(MC, cond_vec, σ, mode_dict, 10, tv,  d,∂d ,down,up,dh, cellvalues, false)\n",
    "    end\n",
    "    #println(\"Time: \", time, \" seconds, Bytes: \", bytes, \", GC time: \", gctime, \", Memory allocations: \", memallocs)\n",
    "    error  = norm(cond_vec - σ)\n",
    "    println(\"With error: \", error)\n",
    "    error2  = norm(K_st*(cond_vec - σ))\n",
    "    println(\"With H^1 error: \", error2)\n",
    "    step_param = dot((σ_prev - cond_vec), δσ )\n",
    "    σ_prev = copy(σ)\n",
    "    println(\"And ideal step multiplier: \",step_param)\n",
    "end"
   ]
  },
  {
   "cell_type": "markdown",
   "id": "88120a7f",
   "metadata": {},
   "source": [
    "## Plotting (To be done)\n"
   ]
  },
  {
   "cell_type": "code",
   "execution_count": null,
   "id": "e2fe38d7",
   "metadata": {},
   "outputs": [],
   "source": [
    "# project is to grid and plot with Plots.jl\n",
    "# I wanna use Plots.jl and not Makie.jl or similar because lateron i want to implement a NN on the grid as a regularizer using Lux.jl"
   ]
  },
  {
   "cell_type": "code",
   "execution_count": null,
   "id": "b5cdeaee",
   "metadata": {},
   "outputs": [],
   "source": [
    "# Project to dictionary (coordinate,value)\n",
    "#PointEvalHandler(grid, points::AbstractVector{Vec{dim,T}})\n",
    "# Put values from dictionary into Array."
   ]
  },
  {
   "cell_type": "markdown",
   "id": "627081da",
   "metadata": {},
   "source": [
    "This is our original and final reconstruction:"
   ]
  },
  {
   "cell_type": "code",
   "execution_count": null,
   "id": "afe42f43",
   "metadata": {},
   "outputs": [],
   "source": [
    "# Plot reconstruction and original with Plots.jl here"
   ]
  },
  {
   "cell_type": "code",
   "execution_count": null,
   "id": "62aa3d5c",
   "metadata": {},
   "outputs": [],
   "source": []
  }
 ],
 "metadata": {
  "kernelspec": {
   "display_name": "Julia 1.11.6",
   "language": "julia",
   "name": "julia-1.11"
  },
  "language_info": {
   "file_extension": ".jl",
   "mimetype": "application/julia",
   "name": "julia",
   "version": "1.11.6"
  }
 },
 "nbformat": 4,
 "nbformat_minor": 5
}
