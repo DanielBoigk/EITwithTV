{
 "cells": [
  {
   "cell_type": "code",
   "execution_count": null,
   "id": "03a2562f",
   "metadata": {},
   "outputs": [
    {
     "name": "stderr",
     "output_type": "stream",
     "text": [
      "\u001b[32m\u001b[1m  Activating\u001b[22m\u001b[39m project at `~/Code/Julia/AI/Tested/Envs/EnvFerrite`\n"
     ]
    }
   ],
   "source": [
    "using Pkg\n",
    "Pkg.activate(\"EnvFerrite\")"
   ]
  },
  {
   "cell_type": "markdown",
   "id": "dce44614",
   "metadata": {},
   "source": [
    "# Electrical Impedance Tomography with TV Regularization"
   ]
  },
  {
   "cell_type": "markdown",
   "id": "3f621f58",
   "metadata": {},
   "source": [
    "## Introduction\n",
    "\n",
    "In this example we give a basic implementation of of the real valued Calderon problem relevant to Electrical Impedance Tomography. We will generate data and afterwards solve the inverse problem with a numerical solver and implement TV regularization.  "
   ]
  },
  {
   "cell_type": "markdown",
   "id": "cabc6c5a",
   "metadata": {},
   "source": [
    "### Forward EIT:\n",
    "Given a conductivity $\\gamma: \\Omega\\subset\\mathbb{R}^N \\rightarrow \\mathbb{R}^N_{+}$ our solution $u\\in H^1(\\Omega,\\mathbb{R}^N)$ has to confirm to the equation:\n",
    "\n",
    "\n",
    "$$ \\nabla \\cdot(\\gamma\\nabla u) = 0 \\quad \\forall x \\in \\Omega $$\n",
    "\n",
    "For that equation we will choose a set of electrical current patterns \n",
    "\n",
    "$$ g_1, ..., g_n \\in H^{-\\frac{1}{2}}(\\partial \\Omega, \\mathbb{R}) $$\n",
    "\n",
    "such that:  \n",
    "\n",
    "$$ \\int_{\\partial\\Omega}g_i \\, d\\partial\\Omega = 0 $$\n",
    "\n",
    "to inject into the material via Neumann boundary conditions:\n",
    "\n",
    "$$ \\gamma\\frac{\\partial u_i}{\\partial \\bold{n}} =g_i \\quad \\forall x \\in \\partial\\Omega $$\n",
    "\n",
    "In order to get the corresponding voltages \n",
    "$$ f_1, ..., f_n \\in H^{-\\frac{1}{2}}(\\partial \\Omega, \\mathbb{R}) $$\n",
    "we will measure the corresponding voltage as:\n",
    "$$ f_i := u_i|_{\\partial\\Omega} $$\n",
    "\n",
    "with those boundary pairs $ (f_1,g_1), ... , (f_n,g_n) $ we now have an approximation of the Dirichlet to Neumann map:\n",
    "$$ \\Lambda_\\gamma: H^{-\\frac{1}{2}}(\\partial \\Omega)\\rightarrow H^{-\\frac{1}{2}}(\\partial \\Omega) $$\n",
    "This is called forward EIT since we just approximated the map:\n",
    "$$ \\gamma \\rightarrow  \\Lambda_\\gamma $$\n",
    "\n",
    "However real Electrical Impedance Tomography requires us to solve an **inverse Problem** where we have to reconstruct:\n",
    "$$ \\Lambda_\\gamma \\rightarrow  \\gamma $$\n",
    "for our approximation of $\\Lambda_\\gamma$ given by voltage-current boundary pairs $(f_i,g_i)$."
   ]
  },
  {
   "cell_type": "markdown",
   "id": "015f0406",
   "metadata": {},
   "source": [
    "### Weak formulation\n",
    "Given the strong formulation:\n",
    "$$ \\nabla \\cdot(\\gamma\\nabla u) = 0 \\quad \\text{with Neumann BC:}\\quad \\gamma\\frac{\\partial u}{\\partial \\bold{n}} = g $$\n",
    "\n",
    "The weak formulation is:\n",
    "$$ \\int\\limits_\\Omega \\gamma \\nabla(u)\\cdot\\nabla(v) \\, d \\Omega = \\int\\limits_{\\partial\\Omega} g \\,v \\,d\\partial\\Omega  \\quad \\forall v\\in H^1(\\Omega)$$"
   ]
  },
  {
   "cell_type": "markdown",
   "id": "7de196c6",
   "metadata": {},
   "source": [
    "### Inverse EIT\n",
    "We will use $\\gamma$ to refer to the true underlying conductivity and $\\sigma$ for our current conductivity guess.\n",
    "We will choose the simplest minimization functional for optimization:\n",
    "$$ J_i(u_i,\\sigma) = \\| f_i- u_i\\|^2_{\\mathcal{L}^2(\\partial\\Omega)} = \\int_{\\partial\\Omega}(f_i-u_i)^2 \\,d\\partial\\Omega $$\n",
    "Such that our problem becomes:\n",
    "$$ \\underset{\\sigma}{\\min} \\sum\\limits_{i=1}^n J_i(u_i,\\sigma) $$\n",
    "such that:\n",
    "$$ \\nabla u_i\\cdot(\\sigma\\nabla) = 0\\quad  \\text{and Neumann BC}\\quad \\sigma\\frac{\\partial u_i}{\\partial n} = g_i \\quad \\forall i\\in\\{1, ...,n\\}$$\n",
    "Given the problem our lagrangian becomes:\n",
    "$$ \\mathcal{L}(\\sigma, u, \\lambda) = \\sum\\limits_{i=1}^n\\left( J_i(u_i,\\sigma) + \\langle \\lambda_i, \\nabla\\cdot(\\sigma\\nabla u_i) \\rangle_{\\mathcal{L}^2(\\Omega)}   \\right) $$\n",
    "\n",
    "from this we will use [Adjoint state methods](https://en.wikipedia.org/wiki/Adjoint_state_method#General_case) to calculate the gradient.\n",
    "Without stating any of the steps of the derivation we end up with:\n",
    "- State Equation (Variation with $\\delta_\\lambda$)\n",
    "$$ \\nabla \\cdot(\\sigma\\nabla u_i) = 0\\quad  \\text{with Neumann BC}\\quad \\sigma\\frac{\\partial u_i}{\\partial n} = g_i$$\n",
    "\n",
    "- Adjoint Equation (Variation with $\\delta_u$)\n",
    "$$ \\nabla \\cdot(\\sigma\\nabla\\lambda_i) = 0\\quad  \\text{with Neumann BC}\\quad \\sigma\\frac{\\partial \\lambda_i}{\\partial n} = 2(u_i-f_i)$$\n",
    "- Functional Derivative (Variation with $\\delta_\\sigma$)\n",
    "$$ \\delta_i\\sigma = -\\nabla u_i \\cdot \\nabla \\lambda_i"
   ]
  },
  {
   "cell_type": "markdown",
   "id": "4a63d6ec",
   "metadata": {},
   "source": [
    "#### Total Variation (TV) regularization\n",
    "for real world examples and numerical stability we have to assume that our system contains some noise, like $f = f_{true} + \\epsilon$. Since the inverse EIT problem is highly ill conditioned we have to consider regularization.\n",
    "\n",
    "\n",
    "Because $|\\nabla\\sigma|$ is non-differentiable when $\\nabla\\sigma=0$, we use\n",
    "$$\n",
    "\\mathcal{R}_{TV}(\\sigma) = \\int_\\Omega \\sqrt{|\\nabla\\sigma|^2+\\eta}\\, d\\Omega,\n",
    "$$\n",
    "and the gradient:\n",
    "$$ \\delta_\\sigma\\mathcal{R}= -\\nabla\\cdot \\left(   \\frac{\\nabla\\sigma}{\\sqrt{|\\nabla \\sigma|^2+ \\eta}} \\right) $$\n",
    "with a small $\\eta$ to revent division by zero.\n",
    "This is a $L^2$ projection that requires us to sove the weak form.\n",
    "##### Weak formulation of TV Regularizer:\n",
    "$$ \\int_\\Omega wv \\,d\\Omega = \\int_\\Omega \\frac{\\nabla(\\sigma)}{\\sqrt{|\\nabla\\sigma|^2+\\eta}}\\cdot\\nabla(v)\\, d\\Omega \\quad \\forall v\\in FESpace$$\n"
   ]
  },
  {
   "cell_type": "markdown",
   "id": "cddf00a9",
   "metadata": {},
   "source": [
    "### Full reconstruction Algorithm (Conceptual)\n",
    "+ Preallocate Massmatrix M and L^2 projector (Cholesky factorization)\n",
    "+ Start with conductivity guess $\\sigma_0$ (In our case: $\\sigma_0(x) = 1.0$)\n",
    "+ Preallocate & initialize Conjugate Gradient(CG) solver for $u_1, ...,u_n.\\lambda_1,.., \\lambda_n,w$.\n",
    "+ Repeat till tolerance is reached or other stopping condition:\n",
    "    + From $\\sigma_t$ assemble $K_{\\sigma_t}$\n",
    "    + for all $i = 1, ...,n$ (in parallel)\n",
    "        + Calculate $u_i$ (State equation) as well as the $\\mathcal{L}^2(\\partial\\Omega)$ error: $\\delta u_i$\n",
    "        + Calculate $\\lambda_i$ (Adjoint equation)\n",
    "        + Calculate $\\delta\\sigma_i$ (Functional derivative)\n",
    "    + Calculate TV Regularization gradient and error.\n",
    "    + Update $\\sigma_{t+1} = \\sigma_t +\\beta\\, \\delta_{TV}\\sigma + \\sum_{i=1}^n \\alpha_i\\,\\delta_i\\sigma $ (with Gauss-Newton with Levenberg-Marquardt)."
   ]
  },
  {
   "cell_type": "markdown",
   "id": "2c6b89dc",
   "metadata": {},
   "source": [
    "## Implementation\n",
    "### Preliminaries\n",
    "Obvious Imports:"
   ]
  },
  {
   "cell_type": "code",
   "execution_count": 19,
   "id": "7aa44a0b",
   "metadata": {},
   "outputs": [],
   "source": [
    "using Ferrite\n",
    "using SparseArrays\n",
    "using LinearAlgebra\n",
    "using Revise\n",
    "using Interpolations\n",
    "using Plots\n",
    "using Statistics"
   ]
  },
  {
   "cell_type": "markdown",
   "id": "f33323b7",
   "metadata": {},
   "source": [
    "For simplicity we will use a quadratic grid with quadrilateral elements. We are using Quadrilaterals for now:"
   ]
  },
  {
   "cell_type": "code",
   "execution_count": 20,
   "id": "0a9a883c",
   "metadata": {},
   "outputs": [
    {
     "data": {
      "text/plain": [
       "32"
      ]
     },
     "metadata": {},
     "output_type": "display_data"
    }
   ],
   "source": [
    "grid = generate_grid(Quadrilateral, (8, 8));\n",
    "dim = Ferrite.getspatialdim(grid)\n",
    "order = 1\n",
    "\n",
    "\n",
    "ip = Lagrange{RefQuadrilateral, order}()\n",
    "qr = QuadratureRule{RefQuadrilateral}(2)\n",
    "qr_face = FacetQuadratureRule{RefQuadrilateral}(2)\n",
    "cellvalues = CellValues(qr, ip)\n",
    "facetvalues = FacetValues(qr_face, ip)\n",
    "\n",
    "\n",
    "dh = DofHandler(grid)\n",
    "add!(dh, :u, ip)\n",
    "close!(dh)\n",
    "\n",
    "proj = L2Projector(ip,grid)\n",
    "\n",
    "∂Ω = union(getfacetset.((grid,), [\"left\", \"top\", \"right\", \"bottom\"])...)\n",
    "length(∂Ω)"
   ]
  },
  {
   "cell_type": "markdown",
   "id": "5e30d783",
   "metadata": {},
   "source": [
    "For later use we will assemble and cholesky decompose the mass matrix $M=\\int_\\Omega \\phi_i\\phi_j \\,d\\Omega$ once."
   ]
  },
  {
   "cell_type": "code",
   "execution_count": 46,
   "id": "b4f950d7",
   "metadata": {},
   "outputs": [
    {
     "data": {
      "text/plain": [
       "SparseArrays.CHOLMOD.Factor{Float64, Int64}\n",
       "type:    LLt\n",
       "method:  simplicial\n",
       "maxnnz:  706\n",
       "nnz:     706\n",
       "success: true\n"
      ]
     },
     "metadata": {},
     "output_type": "display_data"
    }
   ],
   "source": [
    "# This is supposed to be: ∫(u*v)dΩ\n",
    "function assemble_M(cellvalues::CellValues,dh::DofHandler)\n",
    "    M = allocate_matrix(dh)\n",
    "    n_basefuncs = getnbasefunctions(cellvalues)\n",
    "    Me = zeros(n_basefuncs, n_basefuncs)\n",
    "    assembler = start_assemble(M)\n",
    "    for cell in CellIterator(dh)\n",
    "        reinit!(cellvalues, cell)\n",
    "        fill!(Me, 0)\n",
    "        for q_point in 1:getnquadpoints(cellvalues)\n",
    "            dΩ = getdetJdV(cellvalues, q_point)      \n",
    "            for i in 1:n_basefuncs\n",
    "                φᵢ = shape_value(cellvalues, q_point, i)\n",
    "                for j in 1:n_basefuncs\n",
    "                    φⱼ = shape_value(cellvalues, q_point, j)\n",
    "                    Me[i,j] += φᵢ * φⱼ * dΩ\n",
    "                end\n",
    "            end\n",
    "        end\n",
    "        assemble!(assembler, celldofs(cell), Me)\n",
    "    end\n",
    "    return M\n",
    "end   \n",
    "\n",
    "M = assemble_M(cellvalues,dh)\n",
    "MC = cholesky(M)"
   ]
  },
  {
   "cell_type": "markdown",
   "id": "cc0369c0",
   "metadata": {},
   "source": [
    "Furthermore we want to know which entries of the force vector correspond to the boundary:\n",
    "We will get:\n",
    "- the count of nonzero entries in the force vector\n",
    "- the position of non zero entries\n",
    "- a function \"up\" to cast a vector of length of boundary dofs into the length of the force vector\n",
    "- a function \"down\" to cast a vector into the length of the dofs of the force vector that lay on the boundary."
   ]
  },
  {
   "cell_type": "code",
   "execution_count": 48,
   "id": "1acc5da1",
   "metadata": {},
   "outputs": [],
   "source": [
    "function produce_nonzero_positions(v, atol=1e-8, rtol=1e-5)\n",
    "    approx_zero(x; atol=atol, rtol=rtol) = isapprox(x, 0; atol=atol, rtol=rtol)\n",
    "    non_zero_count = count(x -> !approx_zero(x), v)\n",
    "    non_zero_positions = zeros(Int, non_zero_count)\n",
    "    non_zero_indices = findall(x -> !approx_zero(x), v)\n",
    "    g_down = (x) -> x[non_zero_indices]\n",
    "    g_up = (x) -> begin\n",
    "        v = zeros(eltype(x), length(v))\n",
    "        v[non_zero_indices] = x\n",
    "        return v\n",
    "    end\n",
    "    return non_zero_count, non_zero_positions, g_down, g_up\n",
    "end\n",
    "function produce_nonzero_positions(facetvalues::FacetValues, dh::DofHandler, ∂Ω)\n",
    "    f = zeros(ndofs(dh))\n",
    "        for facet in FacetIterator(dh, ∂Ω)\n",
    "        fe = zeros(ndofs_per_cell(dh))\n",
    "        reinit!(facetvalues, facet)\n",
    "        for q_point in 1:getnquadpoints(facetvalues)\n",
    "            dΓ = getdetJdV(facetvalues, q_point)            \n",
    "            for i in 1:getnbasefunctions(facetvalues)\n",
    "                δu = shape_value(facetvalues, q_point, i)\n",
    "                fe[i] += δu * dΓ\n",
    "            end\n",
    "        end\n",
    "        assemble!(f, celldofs(facet), fe)\n",
    "    end\n",
    "     nzc, nzpos, g_down, g_up = produce_nonzero_positions(f)\n",
    "     return  nzc, nzpos, g_down, g_up, f\n",
    "end\n",
    "\n",
    "nzc,nzpos, down, up = produce_nonzero_positions(facetvalues, dh,∂Ω)\n",
    "@assert nzc == length(∂Ω)  # This is not true in Gridap.jl"
   ]
  },
  {
   "cell_type": "code",
   "execution_count": null,
   "id": "bb9909e0",
   "metadata": {},
   "outputs": [],
   "source": [
    "## Sanity check:\n",
    "# I have never questioned the assumption that up∘down == id and down∘up == id. Maybe I should check this.\n",
    "test_vec = [i for i in 1:nzc]\n",
    "@assert down(up(test_vec)) == test_vec\n",
    "@assert up(down(up(test_vec))) == up(test_vec)"
   ]
  },
  {
   "cell_type": "markdown",
   "id": "a704c0e9",
   "metadata": {},
   "source": [
    "### Data generation"
   ]
  },
  {
   "cell_type": "markdown",
   "id": "7724653f",
   "metadata": {},
   "source": [
    "Now we will make up some conductivity. As well as some current patterns:"
   ]
  },
  {
   "cell_type": "code",
   "execution_count": 24,
   "id": "5a32db90",
   "metadata": {},
   "outputs": [
    {
     "data": {
      "text/plain": [
       "#40 (generic function with 1 method)"
      ]
     },
     "metadata": {},
     "output_type": "display_data"
    }
   ],
   "source": [
    "conductivity  = (x) -> 1.1 + sin(x[1]) * cos(x[2])"
   ]
  },
  {
   "cell_type": "markdown",
   "id": "bcd5ee93",
   "metadata": {},
   "source": [
    "For later we want to project that function unto Q1 FE space for that we want to "
   ]
  },
  {
   "cell_type": "code",
   "execution_count": null,
   "id": "0aee32e6",
   "metadata": {},
   "outputs": [],
   "source": []
  },
  {
   "cell_type": "code",
   "execution_count": null,
   "id": "bee77cb4",
   "metadata": {},
   "outputs": [
    {
     "data": {
      "text/plain": [
       "SparseArrays.UMFPACK.UmfpackLU{Float64, Int64}\n",
       "L factor:\n",
       "81×81 SparseMatrixCSC{Float64, Int64} with 706 stored entries:\n",
       "⎡⢑⣄⠀⠀⠀⠀⠀⠀⠀⠀⠀⠀⠀⠀⠀⠀⠀⠀⠀⠀⠀⠀⠀⠀⠀⠀⠀⠀⠀⠀⠀⠀⠀⠀⠀⠀⠀⠀⠀⠀⎤\n",
       "⎢⠀⠀⠑⣄⠀⠀⠀⠀⠀⠀⠀⠀⠀⠀⠀⠀⠀⠀⠀⠀⠀⠀⠀⠀⠀⠀⠀⠀⠀⠀⠀⠀⠀⠀⠀⠀⠀⠀⠀⠀⎥\n",
       "⎢⠀⠀⠐⠈⠓⢄⠀⠀⠀⠀⠀⠀⠀⠀⠀⠀⠀⠀⠀⠀⠀⠀⠀⠀⠀⠀⠀⠀⠀⠀⠀⠀⠀⠀⠀⠀⠀⠀⠀⠀⎥\n",
       "⎢⠀⠀⠀⠀⠀⠀⢑⣄⠀⠀⠀⠀⠀⠀⠀⠀⠀⠀⠀⠀⠀⠀⠀⠀⠀⠀⠀⠀⠀⠀⠀⠀⠀⠀⠀⠀⠀⠀⠀⠀⎥\n",
       "⎢⠀⠀⠀⠀⠀⠀⠀⠀⢳⣄⠀⠀⠀⠀⠀⠀⠀⠀⠀⠀⠀⠀⠀⠀⠀⠀⠀⠀⠀⠀⠀⠀⠀⠀⠀⠀⠀⠀⠀⠀⎥\n",
       "⎢⠀⠀⠀⠀⠀⠀⡄⠿⠛⢻⣷⣄⠀⠀⠀⠀⠀⠀⠀⠀⠀⠀⠀⠀⠀⠀⠀⠀⠀⠀⠀⠀⠀⠀⠀⠀⠀⠀⠀⠀⎥\n",
       "⎢⠀⠀⠀⠀⠀⠀⠟⠙⠀⠀⠛⠿⠷⢄⠀⠀⠀⠀⠀⠀⠀⠀⠀⠀⠀⠀⠀⠀⠀⠀⠀⠀⠀⠀⠀⠀⠀⠀⠀⠀⎥\n",
       "⎢⠀⠀⠀⠀⠀⠀⠀⠀⠀⠀⠀⠀⠀⢀⣳⣄⠀⠀⠀⠀⠀⠀⠀⠀⠀⠀⠀⠀⠀⠀⠀⠀⠀⠀⠀⠀⠀⠀⠀⠀⎥\n",
       "⎢⠀⠀⠀⠀⠀⠀⠀⠀⠀⠀⠀⠀⠀⠨⠙⠻⣷⣄⠀⠀⠀⠀⠀⠀⠀⠀⠀⠀⠀⠀⠀⠀⠀⠀⠀⠀⠀⠀⠀⠀⎥\n",
       "⎢⠀⠀⠀⠀⠀⠀⠀⠀⠀⠀⠀⠀⠀⠀⠀⠀⠀⠀⢑⣄⠀⠀⠀⠀⠀⠀⠀⠀⠀⠀⠀⠀⠀⠀⠀⠀⠀⠀⠀⠀⎥\n",
       "⎢⠀⠀⠀⠀⠀⠀⠀⠀⠀⠀⠀⠀⠀⠀⠀⠀⠀⠀⠀⠈⠷⣄⠀⠀⠀⠀⠀⠀⠀⠀⠀⠀⠀⠀⠀⠀⠀⠀⠀⠀⎥\n",
       "⎢⠀⠀⠀⠀⠀⠀⠀⠀⠀⠀⠀⠀⠀⠀⠀⠀⠀⠀⣸⣸⠛⢿⣷⣄⠀⠀⠀⠀⠀⠀⠀⠀⠀⠀⠀⠀⠀⠀⠀⠀⎥\n",
       "⎢⠀⠀⠀⠀⠀⠀⠀⠀⠀⠀⠀⠀⠀⢠⠀⢠⣤⣤⡃⣶⠀⠈⣿⣿⣷⣄⠀⠀⠀⠀⠀⠀⠀⠀⠀⠀⠀⠀⠀⠀⎥\n",
       "⎢⠀⠀⠀⠀⠀⠀⠰⠰⠀⠀⠶⠶⢶⡆⠀⠀⠀⠉⠁⠀⠰⣶⣶⣾⣿⣿⣷⣄⠀⠀⠀⠀⠀⠀⠀⠀⠀⠀⠀⠀⎥\n",
       "⎢⠀⠀⠀⠀⠀⣸⡄⠀⠀⠀⠀⣤⣤⡅⠀⠀⠀⠀⠃⠀⠀⠈⠉⠙⠛⠛⢻⣿⣷⣄⠀⠀⠀⠀⠀⠀⠀⠀⠀⠀⎥\n",
       "⎢⠀⠀⢠⠀⢠⠗⠁⠀⠀⣬⣭⣭⣭⡅⠀⠀⠀⠀⠀⠀⠀⠀⠀⠀⠀⠀⢨⣭⣿⣿⣷⣄⠀⠀⠀⠀⠀⠀⠀⠀⎥\n",
       "⎢⠀⠀⡮⢀⣬⠇⠀⠀⠀⠀⠀⠀⠀⠀⠀⠀⠀⠀⠀⠀⠀⠀⠀⠀⠀⠀⠀⠀⠀⠸⠿⣿⣷⣄⠀⠀⠀⠀⠀⠀⎥\n",
       "⎢⢧⢠⠀⠀⠀⠈⠀⠀⠀⠀⠀⠀⠀⠀⠀⣤⣴⣾⠁⠀⠀⠀⠀⠈⠉⣿⣿⣿⣿⣿⣿⣿⣿⣿⣷⣄⠀⠀⠀⠀⎥\n",
       "⎢⣗⣐⡄⠀⠀⠬⠀⠀⠀⠀⠀⠀⠀⠀⠀⠀⠀⠀⠀⠀⠀⠀⠀⠀⠀⠀⠀⠀⠭⠭⠭⠭⢭⣭⣿⣿⣷⣄⠀⠀⎥\n",
       "⎣⡀⠿⡃⠶⠶⠀⠀⠀⠀⠀⠀⠀⠀⠀⠀⠀⠀⠀⠀⠀⠀⠀⠀⠀⠀⠀⠀⠀⠀⠀⠀⠶⢾⣿⣿⣿⣿⣿⣷⣄⎦\n",
       "U factor:\n",
       "81×81 SparseMatrixCSC{Float64, Int64} with 706 stored entries:\n",
       "⎡⠑⢴⠀⠀⠀⠀⠀⠀⠀⠀⠀⠀⠀⠀⠀⠀⠀⠀⠀⠀⠀⠀⠀⠀⠀⠀⠀⠀⠀⠀⠀⠀⠀⠀⠉⣓⢙⢹⣤⡌⎤\n",
       "⎢⠀⠀⠑⢤⡐⠀⠀⠀⠀⠀⠀⠀⠀⠀⠀⠀⠀⠀⠀⠀⠀⠀⠀⠀⠀⠀⠀⠀⠀⠀⠀⠒⠊⢋⠀⠀⠀⠉⢩⡌⎥\n",
       "⎢⠀⠀⠀⠀⠙⢄⠀⠀⠀⠀⠀⠀⠀⠀⠀⠀⠀⠀⠀⠀⠀⠀⠀⠀⠀⠀⠀⠀⣀⣠⢤⠖⠦⠟⡀⠀⡀⡄⠘⠃⎥\n",
       "⎢⠀⠀⠀⠀⠀⠀⠑⢴⠀⠀⣤⡍⣟⠁⠀⠀⠀⠀⠀⠀⠀⠀⠀⠀⠀⠀⢐⡂⠀⠉⠁⠀⠀⠀⠀⠀⠀⠀⠀⠀⎥\n",
       "⎢⠀⠀⠀⠀⠀⠀⠀⠀⠙⢶⣿⣀⠀⠀⠀⠀⠀⠀⠀⠀⠀⠀⠀⠀⠀⠀⠀⠀⠀⠀⡀⣤⠀⠀⠀⠀⠀⠀⠀⠀⎥\n",
       "⎢⠀⠀⠀⠀⠀⠀⠀⠀⠀⠀⠙⢿⣿⡄⠀⠀⠀⠀⠀⠀⠀⠀⠀⠀⠀⠀⢸⡇⠀⣤⡇⣿⠀⠀⠀⠀⠀⠀⠀⠀⎥\n",
       "⎢⠀⠀⠀⠀⠀⠀⠀⠀⠀⠀⠀⠀⠙⢇⠀⢀⡀⡀⠀⠀⠀⠀⠀⠀⠀⣀⠸⠷⠄⠿⠇⠿⠀⠀⠀⠀⠀⠀⠀⠀⎥\n",
       "⎢⠀⠀⠀⠀⠀⠀⠀⠀⠀⠀⠀⠀⠀⠀⠙⢾⣷⡀⠀⠀⠀⠀⠀⠀⠀⣀⠀⠀⠀⠀⠀⠀⠀⠀⠀⣤⠀⠀⠀⠀⎥\n",
       "⎢⠀⠀⠀⠀⠀⠀⠀⠀⠀⠀⠀⠀⠀⠀⠀⠀⠙⢿⠀⠀⠀⠀⠀⠀⠀⣿⡄⠀⠀⠀⠀⠀⠀⠀⣰⣿⠀⠀⠀⠀⎥\n",
       "⎢⠀⠀⠀⠀⠀⠀⠀⠀⠀⠀⠀⠀⠀⠀⠀⠀⠀⠀⠑⢴⡀⠀⣒⣺⢩⣬⠁⠀⠉⠀⠀⠀⠀⠀⠁⠀⠀⠀⠀⠀⎥\n",
       "⎢⠀⠀⠀⠀⠀⠀⠀⠀⠀⠀⠀⠀⠀⠀⠀⠀⠀⠀⠀⠀⠙⢧⣿⣄⡀⠀⢰⣦⡀⠀⠀⠀⠀⠀⠀⠀⠀⠀⠀⠀⎥\n",
       "⎢⠀⠀⠀⠀⠀⠀⠀⠀⠀⠀⠀⠀⠀⠀⠀⠀⠀⠀⠀⠀⠀⠀⠙⢿⣿⣿⣸⣿⣇⠀⠀⠀⠀⠀⡀⠀⠀⠀⠀⠀⎥\n",
       "⎢⠀⠀⠀⠀⠀⠀⠀⠀⠀⠀⠀⠀⠀⠀⠀⠀⠀⠀⠀⠀⠀⠀⠀⠀⠙⢿⣿⣿⣿⠀⠀⠀⠀⠀⣧⣤⠀⠀⠀⠀⎥\n",
       "⎢⠀⠀⠀⠀⠀⠀⠀⠀⠀⠀⠀⠀⠀⠀⠀⠀⠀⠀⠀⠀⠀⠀⠀⠀⠀⠀⠙⢿⣿⣶⡆⣶⠀⠀⣿⣿⠀⠀⠀⠀⎥\n",
       "⎢⠀⠀⠀⠀⠀⠀⠀⠀⠀⠀⠀⠀⠀⠀⠀⠀⠀⠀⠀⠀⠀⠀⠀⠀⠀⠀⠀⠀⠙⢿⣿⣿⣀⡀⣿⣿⡇⡇⠀⠀⎥\n",
       "⎢⠀⠀⠀⠀⠀⠀⠀⠀⠀⠀⠀⠀⠀⠀⠀⠀⠀⠀⠀⠀⠀⠀⠀⠀⠀⠀⠀⠀⠀⠀⠙⢿⣿⣧⣿⣿⡇⡇⢠⡄⎥\n",
       "⎢⠀⠀⠀⠀⠀⠀⠀⠀⠀⠀⠀⠀⠀⠀⠀⠀⠀⠀⠀⠀⠀⠀⠀⠀⠀⠀⠀⠀⠀⠀⠀⠀⠙⢿⣿⣿⡇⣷⣾⣷⎥\n",
       "⎢⠀⠀⠀⠀⠀⠀⠀⠀⠀⠀⠀⠀⠀⠀⠀⠀⠀⠀⠀⠀⠀⠀⠀⠀⠀⠀⠀⠀⠀⠀⠀⠀⠀⠀⠙⢿⣿⣿⣿⣿⎥\n",
       "⎢⠀⠀⠀⠀⠀⠀⠀⠀⠀⠀⠀⠀⠀⠀⠀⠀⠀⠀⠀⠀⠀⠀⠀⠀⠀⠀⠀⠀⠀⠀⠀⠀⠀⠀⠀⠀⠙⢿⣿⣿⎥\n",
       "⎣⠀⠀⠀⠀⠀⠀⠀⠀⠀⠀⠀⠀⠀⠀⠀⠀⠀⠀⠀⠀⠀⠀⠀⠀⠀⠀⠀⠀⠀⠀⠀⠀⠀⠀⠀⠀⠀⠀⠙⢿⎦"
      ]
     },
     "metadata": {},
     "output_type": "display_data"
    }
   ],
   "source": [
    "# This is matrix assembly on a function. How do I do it if the conductivity is given as a coefficient vector for Q1 FE Space?\n",
    "# Hopefully this is: ∫(γ * ∇(u)⋅∇(v))dΩ \n",
    "function assemble_K(cellvalues::CellValues, dh::DofHandler, γ)\n",
    "    K = allocate_matrix(dh)\n",
    "    n_basefuncs = getnbasefunctions(cellvalues)\n",
    "    Ke = zeros(n_basefuncs, n_basefuncs)\n",
    "    assembler = start_assemble(K)\n",
    "    for cell in CellIterator(dh)\n",
    "        fill!(Ke, 0)\n",
    "        reinit!(cellvalues, cell)\n",
    "        for q_point in 1:getnquadpoints(cellvalues)\n",
    "            dΩ = getdetJdV(cellvalues, q_point)\n",
    "            x = spatial_coordinate(cellvalues, q_point, getcoordinates(cell))\n",
    "            σ = γ(x)\n",
    "            for i in 1:n_basefuncs\n",
    "                ∇v = shape_gradient(cellvalues, q_point, i)\n",
    "                for j in 1:n_basefuncs\n",
    "                    ∇u = shape_gradient(cellvalues, q_point, j)\n",
    "                    Ke[i, j] += σ * (∇v ⋅ ∇u) * dΩ\n",
    "                end\n",
    "            end\n",
    "        end\n",
    "        assemble!(assembler, celldofs(cell), Ke)\n",
    "    end\n",
    "    return K\n",
    "end\n",
    "\n",
    "K_true = assemble_K(cellvalues, dh, conductivity)\n",
    "K_true_LU = lu(K_true)"
   ]
  },
  {
   "cell_type": "code",
   "execution_count": null,
   "id": "eb7d5ea0",
   "metadata": {},
   "outputs": [
    {
     "name": "stdout",
     "output_type": "stream",
     "text": [
      "Smallest eigenvalue: 3.3523479732911227e-16"
     ]
    }
   ],
   "source": [
    "# Sanity check: (positive semidefinite self adjoint stiffness matrix)\n",
    "@assert K_true == K_true'  # Not true in Gridap.jl\n",
    "if ndofs(dh) < 500\n",
    "    K_dense = Matrix(K_true)\n",
    "    eig_min = minimum(eigvals(K_dense))\n",
    "    @assert eig_min > -1e-14\n",
    "    print(\"Smallest eigenvalue: \", eig_min)\n",
    "end"
   ]
  },
  {
   "cell_type": "markdown",
   "id": "12b8ad31",
   "metadata": {},
   "source": [
    "Now we generate current patterns: We assume one current source and one current sink. Important is that it sums of to zero.\n",
    "We generate the right hand side force vectors $g_1, ... g_n$ as an Matrix G and calculate $f_1, ..., f_n$"
   ]
  },
  {
   "cell_type": "code",
   "execution_count": 40,
   "id": "c4ba150c",
   "metadata": {},
   "outputs": [
    {
     "data": {
      "text/plain": [
       "32×496 Matrix{Float64}:\n",
       "  2.32497     2.27176      2.89245     3.215      …   0.0274139    0.0164393\n",
       " -0.792099    0.0752264    0.439181    0.792236       0.0266438    0.0162511\n",
       "  0.128441   -1.11418      0.657677    0.936319       0.0282413    0.0166403\n",
       " -0.128301    0.03698     -0.923476    0.0480102      0.0245431    0.0157351\n",
       " -0.0977949  -0.00692614  -0.274538   -0.992689       0.0214174    0.0149599\n",
       " -0.0787741  -0.020312    -0.204378   -0.379069   …   0.017663     0.0140179\n",
       " -0.0719427  -0.0265053   -0.171662   -0.297249       0.0137988    0.0130367\n",
       " -0.0687715  -0.0294105   -0.15824    -0.259487       0.010433     0.0121731\n",
       " -0.0673683  -0.0307354   -0.152367   -0.244533       0.00814983   0.0115828\n",
       " -0.0669699  -0.031115    -0.150722   -0.240394       0.00735265   0.0113759\n",
       "  ⋮                                               ⋱                ⋮\n",
       " -0.0529963  -0.0460781   -0.0980639  -0.127309       0.0716257    0.0266552\n",
       " -0.052503   -0.0466583   -0.0963249  -0.12396        0.069824     0.0262569\n",
       " -0.054242   -0.0446223   -0.102473   -0.135851   …   0.0773414    0.0279015\n",
       " -0.0558522  -0.0427646   -0.108217   -0.147101       0.0889171    0.0303961\n",
       " -0.0574635  -0.0409371   -0.114024   -0.158649       0.113879     0.0351457\n",
       " -0.0588251  -0.0394225   -0.118989   -0.168693       0.161334     0.0467771\n",
       " -0.0598128  -0.0383437   -0.122633   -0.176189       0.552709     0.0642763\n",
       " -0.0603947  -0.0377173   -0.124799   -0.180706   …  -0.153031     0.381823\n",
       " -0.0605829  -0.0375163   -0.125503   -0.182185      -1.1108      -0.893491"
      ]
     },
     "metadata": {},
     "output_type": "display_data"
    }
   ],
   "source": [
    "num_modes = Int64((nzc^2-nzc)//2)\n",
    "G_small = zeros(nzc,num_modes)\n",
    "G = zeros(ndofs(dh),num_modes)\n",
    "k = 1\n",
    "for i in 1:(nzc-1)\n",
    "    for j in i+1:nzc\n",
    "        G_small[i,k] = 1.0\n",
    "        G_small[j,k] = -1.0\n",
    "        G[:,k] = up(G_small[:,k])\n",
    "        k += 1\n",
    "    end\n",
    "end\n",
    "F_big = K_true_LU \\ G\n",
    "F = zeros(nzc,num_modes)\n",
    "k = 1\n",
    "for i in 1:(nzc-1)\n",
    "    for j in i+1:nzc\n",
    "        F[:,k] = down(F_big[:,k])\n",
    "        k += 1\n",
    "    end\n",
    "end\n",
    "col_means = mean(F, dims=1)\n",
    "F .-= col_means"
   ]
  },
  {
   "cell_type": "markdown",
   "id": "73781c70",
   "metadata": {},
   "source": [
    "To be realistic we will add some noise:\n",
    "We have to ensure that our noise has mean zero."
   ]
  },
  {
   "cell_type": "code",
   "execution_count": 28,
   "id": "be5718f6",
   "metadata": {},
   "outputs": [
    {
     "data": {
      "text/plain": [
       "mean_zero_noise (generic function with 1 method)"
      ]
     },
     "metadata": {},
     "output_type": "display_data"
    }
   ],
   "source": [
    "function mean_zero_noise(n::Int64, σ::Float64)\n",
    "    out = σ * randn(n)\n",
    "    mean = Statistics.mean(out)\n",
    "    out .- mean\n",
    "end"
   ]
  },
  {
   "cell_type": "markdown",
   "id": "bc589a66",
   "metadata": {},
   "source": [
    "To simplify things we can also do SVD:"
   ]
  },
  {
   "cell_type": "code",
   "execution_count": 39,
   "id": "ec45d7ba",
   "metadata": {},
   "outputs": [],
   "source": [
    "# Implement SVD here later"
   ]
  },
  {
   "cell_type": "markdown",
   "id": "98d6dd1a",
   "metadata": {},
   "source": [
    "Here we define a struct where we save and preallocate all the necessary information for the solver step."
   ]
  },
  {
   "cell_type": "code",
   "execution_count": 29,
   "id": "059522f1",
   "metadata": {},
   "outputs": [],
   "source": [
    "mutable struct EITMode\n",
    "    u::AbstractVector\n",
    "    λ::AbstractVector\n",
    "    δσ::AbstractVector\n",
    "    f::AbstractVector\n",
    "    g::AbstractVector\n",
    "    error::Float64\n",
    "    length::Int64\n",
    "    m::Int64\n",
    "end\n",
    "function EITMode(g::AbstractVector, f::AbstractVector)\n",
    "    L = length(g)\n",
    "    M = length(f)\n",
    "    zerosL = zeros(L)\n",
    "    return EITMode(zerosL, zerosL, zerosL, f, g, 0.0, L, M)\n",
    "end\n",
    "mode_dict = Dict()\n",
    "for i in 1:num_modes\n",
    "    mode_dict[i] = EITMode(G[:,i],F[:,i])\n",
    "end"
   ]
  },
  {
   "cell_type": "markdown",
   "id": "be6c2f19",
   "metadata": {},
   "source": [
    "### Solving EIT"
   ]
  },
  {
   "cell_type": "markdown",
   "id": "e02cd183",
   "metadata": {},
   "source": [
    "We will now assume a starting conductivity guess $\\sigma_0(x) = 1.0 $"
   ]
  },
  {
   "cell_type": "code",
   "execution_count": 30,
   "id": "180dc966",
   "metadata": {},
   "outputs": [
    {
     "data": {
      "text/plain": [
       "#42 (generic function with 1 method)"
      ]
     },
     "metadata": {},
     "output_type": "display_data"
    }
   ],
   "source": [
    "σ₀ = (x) -> 1.0"
   ]
  },
  {
   "cell_type": "markdown",
   "id": "2ecc5166",
   "metadata": {},
   "source": [
    "We would prefer to save $\\sigma$ as a vector for use in FEM and also have a method to export each"
   ]
  },
  {
   "cell_type": "markdown",
   "id": "4186951d",
   "metadata": {},
   "source": [
    "With the given matrix and projector our we need to optimize for every mode $(f_i,g_i)$:"
   ]
  },
  {
   "cell_type": "code",
   "execution_count": 43,
   "id": "7c6ff8ec",
   "metadata": {},
   "outputs": [
    {
     "data": {
      "text/plain": [
       "state_adjoint_step! (generic function with 2 methods)"
      ]
     },
     "metadata": {},
     "output_type": "display_data"
    }
   ],
   "source": [
    "function state_adjoint_step!(mode::EITMode, K::AbstractMatrix, maxiter=500)\n",
    "    cg!(mode.u,K, mode.g; maxiter = maxiter)\n",
    "    b = down(mode.u)\n",
    "    b = 2*(b - mode.f)\n",
    "    b .-= Statistics.mean(b)\n",
    "    cg!(mode.λ, K, up(b); maxiter = maxiter)\n",
    "    mode.error = norm(b)^2\n",
    "    # add calculation of ∇(u)⋅∇(λ) here once figured out\n",
    "    \n",
    "    # Check whether this needs + or - as a sign.\n",
    "end"
   ]
  },
  {
   "cell_type": "markdown",
   "id": "5a17bfa8",
   "metadata": {},
   "source": [
    "Additinal we need to assemble the TV regularizer. The required Mass matrix we already have asembled and ready to use. \n"
   ]
  },
  {
   "cell_type": "code",
   "execution_count": null,
   "id": "58867593",
   "metadata": {},
   "outputs": [
    {
     "data": {
      "text/plain": [
       "calc_tv_step! (generic function with 2 methods)"
      ]
     },
     "metadata": {},
     "output_type": "display_data"
    }
   ],
   "source": [
    "mutable struct TV\n",
    "    δ::AbstractArray # Is supposed to hold the error\n",
    "    rhs::AbstractArray # \n",
    "    err_vec::AbstractArray\n",
    "    error::Float64\n",
    "end\n",
    "function TV(n::Int64)\n",
    "    TV(zeros(n),zeros(n),zeros(n),0.0)\n",
    "end\n",
    "function calc_tv_step!(σ::AbstractVector{Float64},tv::TV, dh::DofHandler,cellvalues::CellValues,M::AbstractMatrix, η=1e-8)\n",
    "    n = ndofs(dh)\n",
    "    rhs = TV.rhs\n",
    "\n",
    "    a = TV.err_vec\n",
    "    TV.rhs = zeros(n)\n",
    "\n",
    "    for cell in CellIterator(dh)\n",
    "        reinit!(cellvalues, cell)\n",
    "        dofs = celldofs(cell)\n",
    "        σe = σ[dofs]\n",
    "\n",
    "        re = zeros(length(dofs))\n",
    "        for q_point in 1:getnquadpoints(cellvalues)\n",
    "            dΩ = getdetJdV(cellvalues, q_point)\n",
    "\n",
    "            ∇ϕ = shape_gradient(cellvalues, q_point)\n",
    "            ∇σ = ∇ϕ * σe\n",
    "            a = 1 / sqrt(dot(∇σ, ∇σ) + η)\n",
    "            for (i, ϕi) in enumerate(shape_function_values(cellvalues, q_point))\n",
    "                ∇ϕi = ∇ϕ[:, i]\n",
    "                re[i] += a * dot(∇σ, ∇ϕi) * dΩ\n",
    "            end\n",
    "        end\n",
    "        assemble!(r, dofs, re)\n",
    "    end\n",
    "\n",
    "    TV.δ = M \\ r  \n",
    "    return w\n",
    "end"
   ]
  },
  {
   "cell_type": "code",
   "execution_count": null,
   "id": "67000b9f",
   "metadata": {},
   "outputs": [
    {
     "data": {
      "text/plain": [
       "gauss_newton (generic function with 2 methods)"
      ]
     },
     "metadata": {},
     "output_type": "display_data"
    }
   ],
   "source": [
    "function gauss_newton(J::Matrix{Float64}, r::Vector{Float64}; λ::Float64=1e-3)\n",
    "    U, Σ, V = svd(J, full=false)\n",
    "    n = length(Σ)\n",
    "    Σ_damped = zeros(n)\n",
    "    for i in 1:n\n",
    "        Σ_damped[i] = Σ[i] / (Σ[i]^2 + λ) # Levenberg-Marquardt regularization\n",
    "    end\n",
    "    V * (Σ_damped .* (U' * r))\n",
    "end"
   ]
  },
  {
   "cell_type": "markdown",
   "id": "917dc572",
   "metadata": {},
   "source": [
    "Now that we have all the pieces we can assemble the full optimization step:"
   ]
  },
  {
   "cell_type": "code",
   "execution_count": null,
   "id": "7e857dcd",
   "metadata": {},
   "outputs": [
    {
     "data": {
      "text/plain": [
       "full_step! (generic function with 1 method)"
      ]
     },
     "metadata": {},
     "output_type": "display_data"
    }
   ],
   "source": [
    "function full_step!()\n",
    "    # Assemble Matrix:\n",
    "    K = assemble_K(cell_values,dh,σ)\n",
    "\n",
    "    J = zeros(num_modes,ndofs(dh))\n",
    "    r = zeros(num_modes+1)\n",
    "    # Launch TV regularizer:\n",
    "    tv_task = Threads.@spawn begin\n",
    "        calc_TV_step!(σ,tv, dh,cellvalues,M)\n",
    "    end\n",
    "    # solve adjoint state method\n",
    "    Threads.@threads for i in 1:num_modes\n",
    "        state_adjoint_step!(mode_dict[i], K)\n",
    "    end\n",
    "    # Fetch TV regularization\n",
    "    fetch(tv_task)\n",
    "\n",
    "    # Fetch gradients & errors\n",
    "    for i in num_modes\n",
    "        J[i,:] = mode_dict[i].δσ\n",
    "        r[i] = mode_dict[i].error\n",
    "    end\n",
    "    J[num_modes+1,:] = tv.δ\n",
    "    r[num_modes+1] = β * tv.error \n",
    "    \n",
    "    # calculate steps with Gauss-Newton\n",
    "    δσ = gauss_newton(J, r, λ=1e-3)\n",
    "    # update σ\n",
    "    σ = max.(σ+δσ ,1e-12) # Ensure positivity\n",
    "end"
   ]
  },
  {
   "cell_type": "markdown",
   "id": "5fe0b5dd",
   "metadata": {},
   "source": [
    "Let's run this optimization loop a few times:"
   ]
  },
  {
   "cell_type": "code",
   "execution_count": null,
   "id": "2df26d5b",
   "metadata": {},
   "outputs": [],
   "source": [
    "for i in 1:100\n",
    "    "
   ]
  },
  {
   "cell_type": "markdown",
   "id": "88120a7f",
   "metadata": {},
   "source": [
    "## Plotting\n"
   ]
  },
  {
   "cell_type": "code",
   "execution_count": 44,
   "id": "e2fe38d7",
   "metadata": {},
   "outputs": [],
   "source": [
    "# project is to grid and plot with Plots.jl"
   ]
  },
  {
   "cell_type": "code",
   "execution_count": null,
   "id": "b5cdeaee",
   "metadata": {},
   "outputs": [],
   "source": []
  }
 ],
 "metadata": {
  "kernelspec": {
   "display_name": "Julia 1.11.6",
   "language": "julia",
   "name": "julia-1.11"
  },
  "language_info": {
   "file_extension": ".jl",
   "mimetype": "application/julia",
   "name": "julia",
   "version": "1.11.6"
  }
 },
 "nbformat": 4,
 "nbformat_minor": 5
}
