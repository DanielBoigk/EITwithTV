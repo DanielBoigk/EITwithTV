{
 "cells": [
  {
   "cell_type": "code",
   "execution_count": 1,
   "id": "03a2562f",
   "metadata": {},
   "outputs": [
    {
     "name": "stderr",
     "output_type": "stream",
     "text": [
      "\u001b[32m\u001b[1m  Activating\u001b[22m\u001b[39m project at `~/Code/Julia/FerriteStuff/Notebooks/Github/EnvFerrite`\n"
     ]
    }
   ],
   "source": [
    "using Pkg\n",
    "Pkg.activate(\"EnvFerrite\")"
   ]
  },
  {
   "cell_type": "markdown",
   "id": "dce44614",
   "metadata": {},
   "source": [
    "# Electrical Impedance Tomography with TV Regularization"
   ]
  },
  {
   "cell_type": "markdown",
   "id": "3f621f58",
   "metadata": {},
   "source": [
    "## Introduction\n",
    "\n",
    "In this example we give a basic implementation of of the real valued Calderon problem relevant to Electrical Impedance Tomography. We will generate data and afterwards solve the inverse problem with a numerical solver and implement TV regularization.  "
   ]
  },
  {
   "cell_type": "markdown",
   "id": "cabc6c5a",
   "metadata": {},
   "source": [
    "### Forward EIT:\n",
    "Given a conductivity $\\gamma: \\Omega\\subset\\mathbb{R}^2 \\rightarrow \\mathbb{R}_{+}$ our solution $u\\in H^1(\\Omega,\\mathbb{R}^2)$ (2D case) has to confirm to the equation:\n",
    "\n",
    "\n",
    "$$ \\nabla \\cdot(\\gamma\\nabla u) = 0 \\quad \\forall x \\in \\Omega $$\n",
    "\n",
    "For that equation we will choose a set of electrical current patterns \n",
    "\n",
    "$$ g_1, ..., g_n \\in H^{-\\frac{1}{2}}(\\partial \\Omega, \\mathbb{R}) $$\n",
    "\n",
    "such that:  \n",
    "\n",
    "$$ \\int_{\\partial\\Omega}g_i \\, d\\partial\\Omega = 0 $$\n",
    "\n",
    "to inject into the material via Neumann boundary conditions:\n",
    "\n",
    "$$ \\gamma\\frac{\\partial u_i}{\\partial n} =g_i \\quad \\forall x \\in \\partial\\Omega $$\n",
    "\n",
    "In order to get the corresponding voltages \n",
    "$$ f_1, ..., f_n \\in H^{\\frac{1}{2}}(\\partial \\Omega, \\mathbb{R}) $$\n",
    "we will measure the corresponding voltage as:\n",
    "$$ f_i := u_i|_{\\partial\\Omega} $$\n",
    "\n",
    "with those boundary pairs $ (f_1,g_1), ... , (f_n,g_n) $ we now have an approximation of the Dirichlet to Neumann map:\n",
    "$$ \\Lambda_\\gamma: H^{\\frac{1}{2}}(\\partial \\Omega)\\rightarrow H^{-\\frac{1}{2}}(\\partial \\Omega) $$\n",
    "This is called forward EIT since we just approximated the map:\n",
    "$$ \\gamma \\rightarrow  \\Lambda_\\gamma $$\n",
    "\n",
    "However real Electrical Impedance Tomography requires us to solve an **inverse Problem** where we have to reconstruct:\n",
    "$$ \\Lambda_\\gamma \\rightarrow  \\gamma $$\n",
    "for our approximation of $\\Lambda_\\gamma$ given by voltage-current boundary pairs $(f_i,g_i)$."
   ]
  },
  {
   "cell_type": "markdown",
   "id": "015f0406",
   "metadata": {},
   "source": [
    "### Weak formulation\n",
    "Given the strong formulation:\n",
    "$$ \\nabla \\cdot(\\gamma\\nabla u) = 0 \\quad \\text{with Neumann BC:}\\quad \\gamma\\frac{\\partial u}{\\partial n} = g $$\n",
    "\n",
    "The weak formulation is:\n",
    "$$ \\int\\limits_\\Omega \\gamma \\nabla(u)\\cdot\\nabla(v) \\, d \\Omega = \\int\\limits_{\\partial\\Omega} g \\,v \\,d\\partial\\Omega  \\quad \\forall v\\in H^1(\\Omega)$$"
   ]
  },
  {
   "cell_type": "markdown",
   "id": "7de196c6",
   "metadata": {},
   "source": [
    "### Inverse EIT\n",
    "We will use $\\gamma$ to refer to the true underlying conductivity and $\\sigma$ for our current conductivity guess.\n",
    "We will choose the simplest minimization functional for optimization:\n",
    "$$ J_i(u_i,\\sigma) = \\| f_i- u_i\\|^2_{\\mathcal{L}^2(\\partial\\Omega)} = \\int_{\\partial\\Omega}(f_i-u_i)^2 \\,d\\partial\\Omega $$\n",
    "Such that our problem becomes:\n",
    "$$ \\underset{\\sigma}{\\min} \\sum\\limits_{i=1}^n J_i(u_i,\\sigma) $$\n",
    "such that:\n",
    "$$ \\nabla u_i\\cdot(\\sigma\\nabla u_i) = 0\\quad  \\text{and Neumann BC}\\quad \\sigma\\frac{\\partial u_i}{\\partial n} = g_i \\quad \\forall i\\in\\{1, ...,n\\}$$\n",
    "Given the problem our lagrangian becomes:\n",
    "$$ \\mathcal{L}(\\sigma, u, \\lambda) = \\sum\\limits_{i=1}^n\\left( J_i(u_i,\\sigma) + \\langle \\lambda_i, \\nabla\\cdot(\\sigma\\nabla u_i) \\rangle_{\\mathcal{L}^2(\\Omega)}   \\right) $$\n",
    "\n",
    "from this we will use [Adjoint state methods](https://en.wikipedia.org/wiki/Adjoint_state_method#General_case) to calculate the gradient.\n",
    "Without stating any of the steps of the derivation we end up with:\n",
    "- State Equation (Variation with $\\delta_\\lambda$)\n",
    "$$ \\nabla \\cdot(\\sigma\\nabla u_i) = 0\\quad  \\text{with Neumann BC}\\quad \\sigma\\frac{\\partial u_i}{\\partial n} = g_i$$\n",
    "\n",
    "- Adjoint Equation (Variation with $\\delta_u$)\n",
    "$$ \\nabla \\cdot(\\sigma\\nabla\\lambda_i) = 0\\quad  \\text{with Neumann BC}\\quad \\sigma\\frac{\\partial \\lambda_i}{\\partial n} = 2(u_i-f_i)$$\n",
    "- Functional Derivative (Variation with $\\delta_\\sigma$)\n",
    "$$ \\delta_i\\sigma = -\\nabla u_i \\cdot \\nabla \\lambda_i $$"
   ]
  },
  {
   "cell_type": "markdown",
   "id": "4a63d6ec",
   "metadata": {},
   "source": [
    "#### Total Variation (TV) regularization\n",
    "for real world examples and numerical stability we have to assume that our system contains some noise, like $f = f_{true} + \\epsilon$. Since the inverse EIT problem is highly ill conditioned we have to consider regularization.\n",
    "\n",
    "\n",
    "Because $|\\nabla\\sigma|^2$ is non-differentiable when $\\nabla\\sigma=0$, we use\n",
    "$$\n",
    "\\mathcal{R}_{TV}(\\sigma) = \\int_\\Omega \\sqrt{|\\nabla\\sigma|^2+\\eta}\\, d\\Omega,\n",
    "$$\n",
    "and the gradient:\n",
    "$$ \\delta_\\sigma\\mathcal{R}= -\\nabla\\cdot \\left(   \\frac{\\nabla\\sigma}{\\sqrt{|\\nabla \\sigma|^2+ \\eta}} \\right) $$\n",
    "with a small $\\eta$ to revent division by zero.\n",
    "This is a $L^2$ projection that requires us to sove the weak form.\n",
    "##### Weak formulation of TV Regularizer:\n",
    "$$ \\int_\\Omega wv \\,d\\Omega = \\int_\\Omega \\frac{\\nabla(\\sigma)}{\\sqrt{|\\nabla\\sigma|^2+\\eta}}\\cdot\\nabla(v)\\, d\\Omega \\quad \\forall v\\in FESpace$$\n"
   ]
  },
  {
   "cell_type": "markdown",
   "id": "cddf00a9",
   "metadata": {},
   "source": [
    "### Full reconstruction Algorithm (Conceptual)\n",
    "+ Preallocate Massmatrix M and L^2 projector (Cholesky factorization)\n",
    "+ Start with conductivity guess $\\sigma_0$ (In our case: $\\sigma_0(x) = 1.0$)\n",
    "+ Preallocate & initialize Conjugate Gradient(CG) solver for $u_1, ...,u_n.\\lambda_1,.., \\lambda_n,w$.\n",
    "+ Repeat till tolerance is reached or other stopping condition:\n",
    "    + From $\\sigma_t$ assemble stiffness matrix $K_{\\sigma_t}$\n",
    "    + for all $i = 1, ...,n$ (in parallel)\n",
    "        + Calculate $u_i$ (State equation) as well as the $\\mathcal{L}^2(\\partial\\Omega)$ error: $\\delta u_i$\n",
    "        + Calculate $\\lambda_i$ (Adjoint equation)\n",
    "        + Calculate $\\delta\\sigma_i$ (Functional derivative)\n",
    "    + Calculate TV Regularization gradient and error.\n",
    "    + Update $\\sigma_{t+1} = \\sigma_t +\\beta\\, \\delta_{TV}\\sigma + \\sum_{i=1}^n \\alpha_i\\,\\delta_i\\sigma $ (with Gauss-Newton with Levenberg-Marquardt)."
   ]
  },
  {
   "cell_type": "markdown",
   "id": "2c6b89dc",
   "metadata": {},
   "source": [
    "## Implementation\n",
    "### Preliminaries\n",
    "Obvious Imports:"
   ]
  },
  {
   "cell_type": "code",
   "execution_count": 2,
   "id": "7aa44a0b",
   "metadata": {},
   "outputs": [],
   "source": [
    "using Ferrite\n",
    "using SparseArrays\n",
    "using LinearAlgebra\n",
    "using Revise\n",
    "using Interpolations\n",
    "using Plots\n",
    "using Statistics\n",
    "using IterativeSolvers"
   ]
  },
  {
   "cell_type": "markdown",
   "id": "f33323b7",
   "metadata": {},
   "source": [
    "For simplicity we will use a quadratic grid with quadrilateral elements. We are using Quadrilaterals for now:"
   ]
  },
  {
   "cell_type": "code",
   "execution_count": 3,
   "id": "0a9a883c",
   "metadata": {},
   "outputs": [
    {
     "data": {
      "text/plain": [
       "24"
      ]
     },
     "metadata": {},
     "output_type": "display_data"
    }
   ],
   "source": [
    "grid = generate_grid(Quadrilateral, (6, 6));\n",
    "dim = Ferrite.getspatialdim(grid)\n",
    "order = 1\n",
    "\n",
    "ip = Lagrange{RefQuadrilateral, order}()\n",
    "qr = QuadratureRule{RefQuadrilateral}(2)\n",
    "qr_face = FacetQuadratureRule{RefQuadrilateral}(2)\n",
    "cellvalues = CellValues(qr, ip)\n",
    "facetvalues = FacetValues(qr_face, ip)\n",
    "\n",
    "dh = DofHandler(grid)\n",
    "add!(dh, :u, ip)\n",
    "close!(dh)\n",
    "\n",
    "\n",
    "\n",
    "∂Ω = union(getfacetset.((grid,), [\"left\", \"top\", \"right\", \"bottom\"])...)\n",
    "length(∂Ω)"
   ]
  },
  {
   "cell_type": "markdown",
   "id": "5e30d783",
   "metadata": {},
   "source": [
    "For later use we will assemble and cholesky decompose the mass matrix once."
   ]
  },
  {
   "cell_type": "code",
   "execution_count": 4,
   "id": "b4f950d7",
   "metadata": {},
   "outputs": [
    {
     "data": {
      "text/plain": [
       "(sparse([1, 2, 3, 4, 1, 2, 3, 4, 5, 6  …  40, 41, 42, 47, 48, 49, 41, 42, 48, 49], [1, 1, 1, 1, 2, 2, 2, 2, 2, 2  …  48, 48, 48, 48, 48, 48, 49, 49, 49, 49], [0.012345679012345663, 0.006172839506172831, 0.003086419753086416, 0.006172839506172832, 0.006172839506172831, 0.024691358024691336, 0.012345679012345666, 0.003086419753086416, 0.006172839506172834, 0.0030864197530864174  …  0.00308641975308642, 0.012345679012345671, 0.0030864197530864165, 0.006172839506172841, 0.024691358024691343, 0.006172839506172832, 0.0030864197530864165, 0.006172839506172833, 0.006172839506172832, 0.012345679012345664], 49, 49), SparseArrays.CHOLMOD.Factor{Float64, Int64}\n",
       "type:    LLt\n",
       "method:  simplicial\n",
       "maxnnz:  344\n",
       "nnz:     344\n",
       "success: true\n",
       ")"
      ]
     },
     "metadata": {},
     "output_type": "display_data"
    }
   ],
   "source": [
    "# This is supposed to be: ∫(u*v)dΩ\n",
    "function assemble_M(cellvalues::CellValues,dh::DofHandler)\n",
    "    M = allocate_matrix(dh)\n",
    "    n_basefuncs = getnbasefunctions(cellvalues)\n",
    "    Me = zeros(n_basefuncs, n_basefuncs)\n",
    "    assembler = start_assemble(M)\n",
    "    for cell in CellIterator(dh)\n",
    "        fill!(Me, 0)\n",
    "        reinit!(cellvalues, cell)\n",
    "        for q_point in 1:getnquadpoints(cellvalues)\n",
    "            dΩ = getdetJdV(cellvalues, q_point)      \n",
    "            for i in 1:n_basefuncs\n",
    "                φᵢ = shape_value(cellvalues, q_point, i)\n",
    "                for j in 1:n_basefuncs\n",
    "                    φⱼ = shape_value(cellvalues, q_point, j)\n",
    "                    Me[i,j] += φᵢ * φⱼ * dΩ\n",
    "                end\n",
    "            end\n",
    "        end\n",
    "        assemble!(assembler, celldofs(cell), Me)\n",
    "    end\n",
    "    return M, cholesky(M)\n",
    "end   \n",
    "\n",
    "M, MC = assemble_M(cellvalues,dh)"
   ]
  },
  {
   "cell_type": "markdown",
   "id": "cc0369c0",
   "metadata": {},
   "source": [
    "Furthermore we want to know which entries of the force vector correspond to the boundary:\n",
    "We will get:\n",
    "- the count of nonzero entries in the force vector\n",
    "- the position of non zero entries\n",
    "- a function \"up\" to cast a vector of length of boundary dofs into the length of the force vector\n",
    "- a function \"down\" to cast a vector into the length of the dofs of the force vector that lay on the boundary."
   ]
  },
  {
   "cell_type": "code",
   "execution_count": 5,
   "id": "1acc5da1",
   "metadata": {},
   "outputs": [],
   "source": [
    "function produce_nonzero_positions(v, atol=1e-8, rtol=1e-5)\n",
    "    approx_zero(x; atol=atol, rtol=rtol) = isapprox(x, 0; atol=atol, rtol=rtol)\n",
    "    non_zero_count = count(x -> !approx_zero(x), v)\n",
    "    non_zero_positions = zeros(Int, non_zero_count)\n",
    "    non_zero_indices = findall(x -> !approx_zero(x), v)\n",
    "    g_down = (x) -> x[non_zero_indices]\n",
    "    g_up = (x) -> begin\n",
    "        v = zeros(eltype(x), length(v))\n",
    "        v[non_zero_indices] = x\n",
    "        return v\n",
    "    end\n",
    "    return non_zero_count, non_zero_positions, g_down, g_up\n",
    "end\n",
    "function produce_nonzero_positions(facetvalues::FacetValues, dh::DofHandler, ∂Ω)\n",
    "    f = zeros(ndofs(dh))\n",
    "        for facet in FacetIterator(dh, ∂Ω)\n",
    "        fe = zeros(ndofs_per_cell(dh))\n",
    "        reinit!(facetvalues, facet)\n",
    "        for q_point in 1:getnquadpoints(facetvalues)\n",
    "            dΓ = getdetJdV(facetvalues, q_point)            \n",
    "            for i in 1:getnbasefunctions(facetvalues)\n",
    "                δu = shape_value(facetvalues, q_point, i)\n",
    "                fe[i] += δu * dΓ\n",
    "            end\n",
    "        end\n",
    "        assemble!(f, celldofs(facet), fe)\n",
    "    end\n",
    "     nzc, nzpos, g_down, g_up = produce_nonzero_positions(f)\n",
    "     return  nzc, nzpos, g_down, g_up, f\n",
    "end\n",
    "\n",
    "nzc,nzpos, down, up = produce_nonzero_positions(facetvalues, dh,∂Ω)\n",
    "@assert nzc == length(∂Ω)  # This is not true in Gridap.jl"
   ]
  },
  {
   "cell_type": "code",
   "execution_count": 6,
   "id": "bb9909e0",
   "metadata": {},
   "outputs": [],
   "source": [
    "## Sanity check:\n",
    "# I have never questioned the assumption that up∘down == id and down∘up == id. Maybe I should check this.\n",
    "test_vec = [i for i in 1:nzc]\n",
    "@assert down(up(test_vec)) == test_vec\n",
    "@assert up(down(up(test_vec))) == up(test_vec)"
   ]
  },
  {
   "cell_type": "markdown",
   "id": "a704c0e9",
   "metadata": {},
   "source": [
    "### Data generation"
   ]
  },
  {
   "cell_type": "markdown",
   "id": "7724653f",
   "metadata": {},
   "source": [
    "Now we will make up some conductivity. As well as some current patterns:"
   ]
  },
  {
   "cell_type": "code",
   "execution_count": 7,
   "id": "5a32db90",
   "metadata": {},
   "outputs": [
    {
     "data": {
      "text/plain": [
       "#22 (generic function with 1 method)"
      ]
     },
     "metadata": {},
     "output_type": "display_data"
    }
   ],
   "source": [
    "conductivity  = (x) -> 1.1 + sin(x[1]) * cos(x[2])"
   ]
  },
  {
   "cell_type": "markdown",
   "id": "bcd5ee93",
   "metadata": {},
   "source": [
    "For later we want to project that function unto Q1 FE space for that we want to "
   ]
  },
  {
   "cell_type": "markdown",
   "id": "13e3731d",
   "metadata": {},
   "source": [
    "<span style=\"color:red\">\n",
    "I am somewhat clueless on how to actually project the function conductivity unto a vector living in the FE space.\n",
    "The example as stated in the documentation https://ferrite-fem.github.io/Ferrite.jl/stable/reference/export/#Projection-of-quadrature-point-data seems to not work. \n",
    "Below I try to assemble a function projector as described in the domentation. it fails for now.\n",
    "</span>"
   ]
  },
  {
   "cell_type": "code",
   "execution_count": 8,
   "id": "741f5446",
   "metadata": {},
   "outputs": [
    {
     "name": "stdout",
     "output_type": "stream",
     "text": [
      "Vec{2, Float64}[[-1.0, -1.0], [-0.6666666666666667, -1.0], [-0.6666666666666667, -0.6666666666666669], [-1.0, -0.6666666666666667]]\n",
      "Vec{2, Float64}[[-0.6666666666666667, -1.0], [-0.3333333333333334, -1.0], [-0.3333333333333334, -0.6666666666666667], [-0.6666666666666667, -0.6666666666666669]]\n",
      "Vec{2, Float64}[[-0.3333333333333334, -1.0], [0.0, -1.0], [0.0, -0.6666666666666667], [-0.3333333333333334, -0.6666666666666667]]\n",
      "Vec{2, Float64}[[0.0, -1.0], [0.33333333333333326, -1.0], [0.33333333333333326, -0.6666666666666667], [0.0, -0.6666666666666667]]\n",
      "Vec{2, Float64}[[0.33333333333333326, -1.0], [0.6666666666666667, -1.0], [0.6666666666666667, -0.6666666666666667], [0.33333333333333326, -0.6666666666666667]]\n",
      "Vec{2, Float64}[[0.6666666666666667, -1.0], [1.0, -1.0], [1.0, -0.6666666666666667], [0.6666666666666667, -0.6666666666666667]]\n",
      "Vec{2, Float64}[[-1.0, -0.6666666666666667], [-0.6666666666666667, -0.6666666666666669], [-0.6666666666666667, -0.3333333333333334], [-1.0, -0.3333333333333334]]\n",
      "Vec{2, Float64}[[-0.6666666666666667, -0.6666666666666669], [-0.3333333333333334, -0.6666666666666667], [-0.3333333333333334, -0.3333333333333335], [-0.6666666666666667, -0.3333333333333334]]\n",
      "Vec{2, Float64}[[-0.3333333333333334, -0.6666666666666667], [0.0, -0.6666666666666667], [0.0, -0.3333333333333334], [-0.3333333333333334, -0.3333333333333335]]\n",
      "Vec{2, Float64}[[0.0, -0.6666666666666667], [0.33333333333333326, -0.6666666666666667], [0.33333333333333326, -0.3333333333333334], [0.0, -0.3333333333333334]]\n",
      "Vec{2, Float64}[[0.33333333333333326, -0.6666666666666667], [0.6666666666666667, -0.6666666666666667], [0.6666666666666667, -0.3333333333333334], [0.33333333333333326, -0.3333333333333334]]\n",
      "Vec{2, Float64}[[0.6666666666666667, -0.6666666666666667], [1.0, -0.6666666666666667], [1.0, -0.3333333333333334], [0.6666666666666667, -0.3333333333333334]]\n",
      "Vec{2, Float64}[[-1.0, -0.3333333333333334], [-0.6666666666666667, -0.3333333333333334], [-0.6666666666666667, 0.0], [-1.0, 0.0]]\n",
      "Vec{2, Float64}[[-0.6666666666666667, -0.3333333333333334], [-0.3333333333333334, -0.3333333333333335], [-0.3333333333333334, 0.0], [-0.6666666666666667, 0.0]]\n",
      "Vec{2, Float64}[[-0.3333333333333334, -0.3333333333333335], [0.0, -0.3333333333333334], [0.0, 0.0], [-0.3333333333333334, 0.0]]\n",
      "Vec{2, Float64}[[0.0, -0.3333333333333334], [0.33333333333333326, -0.3333333333333334], [0.33333333333333326, 0.0], [0.0, 0.0]]\n",
      "Vec{2, Float64}[[0.33333333333333326, -0.3333333333333334], [0.6666666666666667, -0.3333333333333334], [0.6666666666666667, 0.0], [0.33333333333333326, 0.0]]\n",
      "Vec{2, Float64}[[0.6666666666666667, -0.3333333333333334], [1.0, -0.3333333333333334], [1.0, 0.0], [0.6666666666666667, 0.0]]\n",
      "Vec{2, Float64}[[-1.0, 0.0], [-0.6666666666666667, 0.0], [-0.6666666666666667, 0.33333333333333326], [-1.0, 0.33333333333333326]]\n",
      "Vec{2, Float64}[[-0.6666666666666667, 0.0], [-0.3333333333333334, 0.0], [-0.3333333333333334, 0.33333333333333326], [-0.6666666666666667, 0.33333333333333326]]\n",
      "Vec{2, Float64}[[-0.3333333333333334, 0.0], [0.0, 0.0], [0.0, 0.33333333333333326], [-0.3333333333333334, 0.33333333333333326]]\n",
      "Vec{2, Float64}[[0.0, 0.0], [0.33333333333333326, 0.0], [0.33333333333333326, 0.33333333333333326], [0.0, 0.33333333333333326]]\n",
      "Vec{2, Float64}[[0.33333333333333326, 0.0], [0.6666666666666667, 0.0], [0.6666666666666667, 0.33333333333333326], [0.33333333333333326, 0.33333333333333326]]\n",
      "Vec{2, Float64}[[0.6666666666666667, 0.0], [1.0, 0.0], [1.0, 0.33333333333333326], [0.6666666666666667, 0.33333333333333326]]\n",
      "Vec{2, Float64}[[-1.0, 0.33333333333333326], [-0.6666666666666667, 0.33333333333333326], [-0.6666666666666667, 0.6666666666666669], [-1.0, 0.6666666666666667]]\n",
      "Vec{2, Float64}[[-0.6666666666666667, 0.33333333333333326], [-0.3333333333333334, 0.33333333333333326], [-0.3333333333333334, 0.6666666666666667], [-0.6666666666666667, 0.6666666666666669]]\n",
      "Vec{2, Float64}[[-0.3333333333333334, 0.33333333333333326], [0.0, 0.33333333333333326], [0.0, 0.6666666666666667], [-0.3333333333333334, 0.6666666666666667]]\n",
      "Vec{2, Float64}[[0.0, 0.33333333333333326], [0.33333333333333326, 0.33333333333333326], [0.33333333333333326, 0.6666666666666667], [0.0, 0.6666666666666667]]\n",
      "Vec{2, Float64}[[0.33333333333333326, 0.33333333333333326], [0.6666666666666667, 0.33333333333333326], [0.6666666666666667, 0.6666666666666667], [0.33333333333333326, 0.6666666666666667]]\n",
      "Vec{2, Float64}[[0.6666666666666667, 0.33333333333333326], [1.0, 0.33333333333333326], [1.0, 0.6666666666666667], [0.6666666666666667, 0.6666666666666667]]\n",
      "Vec{2, Float64}[[-1.0, 0.6666666666666667], [-0.6666666666666667, 0.6666666666666669], [-0.6666666666666667, 1.0], [-1.0, 1.0]]\n",
      "Vec{2, Float64}[[-0.6666666666666667, 0.6666666666666669], [-0.3333333333333334, 0.6666666666666667], [-0.3333333333333334, 1.0], [-0.6666666666666667, 1.0]]\n",
      "Vec{2, Float64}[[-0.3333333333333334, 0.6666666666666667], [0.0, 0.6666666666666667], [0.0, 1.0], [-0.3333333333333334, 1.0]]\n",
      "Vec{2, Float64}[[0.0, 0.6666666666666667], [0.33333333333333326, 0.6666666666666667], [0.33333333333333326, 1.0], [0.0, 1.0]]\n",
      "Vec{2, Float64}[[0.33333333333333326, 0.6666666666666667], [0.6666666666666667, 0.6666666666666667], [0.6666666666666667, 1.0], [0.33333333333333326, 1.0]]\n",
      "Vec{2, Float64}[[0.6666666666666667, 0.6666666666666667], [1.0, 0.6666666666666667], [1.0, 1.0], [0.6666666666666667, 1.0]]\n"
     ]
    },
    {
     "data": {
      "text/plain": [
       "49-element Vector{Float64}:\n",
       " 0.636600296812608\n",
       " 0.7592846200040305\n",
       " 0.6049646371557323\n",
       " 0.4267129877964103\n",
       " 0.9197560099956572\n",
       " 0.8381182235056315\n",
       " 1.1000000000000003\n",
       " 1.100000000000001\n",
       " 1.280243990004341\n",
       " 1.3618817764943685\n",
       " ⋮\n",
       " 1.5950353628442684\n",
       " 1.77328701220359\n",
       " 0.7592846200040311\n",
       " 0.6366002968126072\n",
       " 0.9197560099956579\n",
       " 1.0999999999999996\n",
       " 1.280243990004343\n",
       " 1.4407153799959687\n",
       " 1.5633997031873925"
      ]
     },
     "metadata": {},
     "output_type": "display_data"
    }
   ],
   "source": [
    "function assemble_function_vector(cellvalues::CellValues, dh::DofHandler, f, M)\n",
    "    F = zeros(ndofs(dh))\n",
    "    n_basefuncs = getnbasefunctions(cellvalues)\n",
    "    Fe = zeros(n_basefuncs)\n",
    "    cdofs = zeros(Int, n_basefuncs)\n",
    "\n",
    "    for cell in CellIterator(dh)\n",
    "        fill!(Fe, 0.0)\n",
    "        reinit!(cellvalues, cell)\n",
    "        coords = getcoordinates(cell)\n",
    "        println(coords)\n",
    "        cdofs = celldofs(cell)\n",
    "        for q in 1:getnquadpoints(cellvalues)\n",
    "            x_q = spatial_coordinate(cellvalues, q, coords)\n",
    "            f_val = f(x_q)\n",
    "            dΩ = getdetJdV(cellvalues, q)\n",
    "\n",
    "            for i in 1:n_basefuncs\n",
    "                Fe[i] += f_val * shape_value(cellvalues, q, i) * dΩ\n",
    "            end\n",
    "        end\n",
    "\n",
    "        \n",
    "        # Assemble local vector into global vector\n",
    "  \n",
    "        assemble!(F, cdofs,Fe)\n",
    "    end\n",
    "    return M \\ F\n",
    "\n",
    "end\n",
    "\n",
    "cond_vec = assemble_function_vector(cellvalues, dh, conductivity, M)"
   ]
  },
  {
   "cell_type": "code",
   "execution_count": null,
   "id": "0aee32e6",
   "metadata": {},
   "outputs": [
    {
     "data": {
      "text/plain": [
       "49×49 SparseMatrixCSC{Float64, Int64} with 361 stored entries:\n",
       "⎡⣿⣿⠶⠀⠀⠀⠀⣤⠄⠀⠀⠀⠀⠀⠀⠀⠀⠀⠀⠀⠀⠀⠀⠀⠀⎤\n",
       "⎢⠘⠃⣿⣿⣤⠀⠀⠂⣒⡀⠀⠀⠀⠀⠀⠀⠀⠀⠀⠀⠀⠀⠀⠀⠀⎥\n",
       "⎢⠀⠀⠀⠛⣿⣿⣤⠀⠐⣒⡀⠀⠀⠀⠀⠀⠀⠀⠀⠀⠀⠀⠀⠀⠀⎥\n",
       "⎢⠀⣤⠠⠀⠀⠛⠛⣤⠄⠐⢢⡤⠀⠀⠀⠀⠀⠀⠀⠀⠀⠀⠀⠀⠀⎥\n",
       "⎢⠀⠁⠘⠸⢰⢠⢀⠁⠻⣦⡈⠘⢷⣄⠀⠀⠀⠀⠀⠀⠀⠀⠀⠀⠀⎥\n",
       "⎢⠀⠀⠀⠀⠀⠈⠈⡶⣂⠈⢱⢖⡀⠉⡶⣂⠀⠀⠀⠀⠀⠀⠀⠀⠀⎥\n",
       "⎢⠀⠀⠀⠀⠀⠀⠀⠀⠙⢷⡄⠈⠻⣦⠀⠙⢷⡄⠀⠀⠀⠀⠀⠀⠀⎥\n",
       "⎢⠀⠀⠀⠀⠀⠀⠀⠀⠀⠀⠸⢫⣄⠀⠟⣥⡀⠸⢫⣄⠀⠀⠀⠀⠀⎥\n",
       "⎢⠀⠀⠀⠀⠀⠀⠀⠀⠀⠀⠀⠀⠙⠷⣀⡈⠻⢆⣀⠙⠷⣀⡀⠀⠀⎥\n",
       "⎢⠀⠀⠀⠀⠀⠀⠀⠀⠀⠀⠀⠀⠀⠀⠋⢶⣄⠘⠱⣦⡀⠋⢶⣄⠀⎥\n",
       "⎢⠀⠀⠀⠀⠀⠀⠀⠀⠀⠀⠀⠀⠀⠀⠀⠀⠙⢣⡤⠈⠛⣤⠄⠙⠃⎥\n",
       "⎢⠀⠀⠀⠀⠀⠀⠀⠀⠀⠀⠀⠀⠀⠀⠀⠀⠀⠈⠘⢷⣄⠁⠻⣦⡀⎥\n",
       "⎣⠀⠀⠀⠀⠀⠀⠀⠀⠀⠀⠀⠀⠀⠀⠀⠀⠀⠀⠀⠀⠉⠀⠀⠈⠁⎦"
      ]
     },
     "metadata": {},
     "output_type": "display_data"
    }
   ],
   "source": [
    "# This function assembles the stiffness matrix from a given vector.\n",
    "# Hopefully this is: ∫(γ * ∇(u)⋅∇(v))dΩ \n",
    "function assemble_K(cellvalues::CellValues, dh::DofHandler, γ::AbstractVector)\n",
    "    K = allocate_matrix(dh)\n",
    "    n_basefuncs = getnbasefunctions(cellvalues)\n",
    "    Ke = zeros(n_basefuncs, n_basefuncs)\n",
    "    assembler = start_assemble(K)\n",
    "    for cell in CellIterator(dh)\n",
    "        fill!(Ke, 0)\n",
    "        reinit!(cellvalues, cell)\n",
    "        for q_point in 1:getnquadpoints(cellvalues)\n",
    "            dΩ = getdetJdV(cellvalues, q_point)\n",
    "            γe = γ[celldofs(cell)] # (Edit) Could be done more efficiently by copying into preallocated array\n",
    "            σ = function_value(cellvalues, q_point, γe)\n",
    "            for i in 1:n_basefuncs\n",
    "                ∇v = shape_gradient(cellvalues, q_point, i)\n",
    "                #u = shape_value(cellvalues, q_point, i)\n",
    "                for j in 1:n_basefuncs\n",
    "                    ∇u = shape_gradient(cellvalues, q_point, j)\n",
    "                    Ke[i, j] += σ* (∇v ⋅ ∇u) * dΩ\n",
    "                end\n",
    "            end\n",
    "        end\n",
    "        assemble!(assembler, celldofs(cell), Ke)\n",
    "    end\n",
    "    return K\n",
    "end\n",
    "\n",
    "K_from_vec = assemble_K(cellvalues, dh,cond_vec)"
   ]
  },
  {
   "cell_type": "code",
   "execution_count": 10,
   "id": "bee77cb4",
   "metadata": {},
   "outputs": [
    {
     "data": {
      "text/plain": [
       "SparseArrays.UMFPACK.UmfpackLU{Float64, Int64}\n",
       "L factor:\n",
       "49×49 SparseMatrixCSC{Float64, Int64} with 344 stored entries:\n",
       "⎡⠵⢄⠀⠀⠀⠀⠀⠀⠀⠀⠀⠀⠀⠀⠀⠀⠀⠀⠀⠀⠀⠀⠀⠀⠀⎤\n",
       "⎢⠀⠈⠷⢄⠀⠀⠀⠀⠀⠀⠀⠀⠀⠀⠀⠀⠀⠀⠀⠀⠀⠀⠀⠀⠀⎥\n",
       "⎢⠀⠀⠀⠀⢳⣄⠀⠀⠀⠀⠀⠀⠀⠀⠀⠀⠀⠀⠀⠀⠀⠀⠀⠀⠀⎥\n",
       "⎢⠀⠀⠀⠀⠀⠀⠱⣄⠀⠀⠀⠀⠀⠀⠀⠀⠀⠀⠀⠀⠀⠀⠀⠀⠀⎥\n",
       "⎢⠀⠀⠀⠀⠀⠀⡛⠿⣷⣄⠀⠀⠀⠀⠀⠀⠀⠀⠀⠀⠀⠀⠀⠀⠀⎥\n",
       "⎢⠀⠀⠀⠀⠀⠀⠀⠀⠈⠉⠑⣄⠀⠀⠀⠀⠀⠀⠀⠀⠀⠀⠀⠀⠀⎥\n",
       "⎢⠀⠀⠀⠀⠀⠀⠀⠀⠀⠀⠰⢾⣷⣄⠀⠀⠀⠀⠀⠀⠀⠀⠀⠀⠀⎥\n",
       "⎢⠀⠀⠀⠀⠀⠀⠀⢠⣤⣤⡌⠀⣬⣿⣷⣄⠀⠀⠀⠀⠀⠀⠀⠀⠀⎥\n",
       "⎢⠀⠀⠀⢀⠀⢶⠀⠀⠀⠉⠱⠀⠰⠾⠿⠿⢷⣄⠀⠀⠀⠀⠀⠀⠀⎥\n",
       "⎢⡄⣤⣤⡜⠀⠈⠀⠀⠀⠀⠂⠀⠀⠀⠙⠛⠛⠛⠓⣄⠀⠀⠀⠀⠀⎥\n",
       "⎢⢳⡇⠀⠹⣀⣠⠀⠀⠀⠀⠀⠀⠀⠀⠀⠀⢠⣼⣿⣿⣷⣄⠀⠀⠀⎥\n",
       "⎢⠈⠁⠰⣆⠉⠉⠆⠀⠶⢶⡆⠀⠀⠀⠀⣶⣾⣿⣿⣿⣿⣿⣷⣄⠀⎥\n",
       "⎣⠀⠀⠀⠉⠀⠀⠀⠀⠀⠀⠀⠀⠀⠀⠀⠀⠀⠈⠉⠉⠉⠉⠉⠉⠁⎦\n",
       "U factor:\n",
       "49×49 SparseMatrixCSC{Float64, Int64} with 344 stored entries:\n",
       "⎡⠑⢇⡀⠀⠀⠀⠀⠀⠀⠀⠀⠀⠀⠀⠀⠀⠀⠀⠀⣭⠽⠶⠆⠀⠀⎤\n",
       "⎢⠀⠀⠙⢇⠀⠀⠀⠀⠀⠀⠀⠀⠀⠀⠀⠀⠀⢀⣀⠿⣄⡀⠰⢦⡄⎥\n",
       "⎢⠀⠀⠀⠀⠙⢶⠀⠀⠀⠀⠀⠀⠀⠀⠀⠀⢠⣄⡀⠀⠀⣸⡇⠀⠀⎥\n",
       "⎢⠀⠀⠀⠀⠀⠀⠑⢦⣿⡌⠀⠀⠀⠀⠀⣀⠀⠀⠀⠀⠀⠀⠈⠁⠀⎥\n",
       "⎢⠀⠀⠀⠀⠀⠀⠀⠀⠙⢿⡆⠀⠀⠀⠀⣿⡄⠀⠀⠀⠀⠀⢸⣇⠀⎥\n",
       "⎢⠀⠀⠀⠀⠀⠀⠀⠀⠀⠀⠑⢤⣰⣆⠂⠉⠑⠂⠈⠀⠀⠀⠈⠉⠀⎥\n",
       "⎢⠀⠀⠀⠀⠀⠀⠀⠀⠀⠀⠀⠀⠙⢿⣦⣿⣰⡆⠀⠀⠀⠀⠀⠀⠀⎥\n",
       "⎢⠀⠀⠀⠀⠀⠀⠀⠀⠀⠀⠀⠀⠀⠀⠙⢿⣿⡇⣷⠀⠀⠀⢠⣤⠀⎥\n",
       "⎢⠀⠀⠀⠀⠀⠀⠀⠀⠀⠀⠀⠀⠀⠀⠀⠀⠙⢷⣿⠀⣀⣶⣾⣿⡀⎥\n",
       "⎢⠀⠀⠀⠀⠀⠀⠀⠀⠀⠀⠀⠀⠀⠀⠀⠀⠀⠀⠙⢤⣿⣿⣿⣿⡇⎥\n",
       "⎢⠀⠀⠀⠀⠀⠀⠀⠀⠀⠀⠀⠀⠀⠀⠀⠀⠀⠀⠀⠀⠙⢿⣿⣿⡇⎥\n",
       "⎢⠀⠀⠀⠀⠀⠀⠀⠀⠀⠀⠀⠀⠀⠀⠀⠀⠀⠀⠀⠀⠀⠀⠙⢿⡇⎥\n",
       "⎣⠀⠀⠀⠀⠀⠀⠀⠀⠀⠀⠀⠀⠀⠀⠀⠀⠀⠀⠀⠀⠀⠀⠀⠀⠁⎦"
      ]
     },
     "metadata": {},
     "output_type": "display_data"
    }
   ],
   "source": [
    "# This is matrix assembly on a function. How do I do it if the conductivity is given as a coefficient vector for Q1 FE Space?\n",
    "# Hopefully this is: ∫(γ * ∇(u)⋅∇(v))dΩ \n",
    "function assemble_K(cellvalues::CellValues, dh::DofHandler, γ)\n",
    "    K = allocate_matrix(dh)\n",
    "    n_basefuncs = getnbasefunctions(cellvalues)\n",
    "    Ke = zeros(n_basefuncs, n_basefuncs)\n",
    "    assembler = start_assemble(K)\n",
    "    for cell in CellIterator(dh)\n",
    "        fill!(Ke, 0)\n",
    "        reinit!(cellvalues, cell)\n",
    "        for q in 1:getnquadpoints(cellvalues)\n",
    "            dΩ = getdetJdV(cellvalues, q)\n",
    "            x = spatial_coordinate(cellvalues, q, getcoordinates(cell))\n",
    "            σ = γ(x)\n",
    "            for i in 1:n_basefuncs\n",
    "                ∇v = shape_gradient(cellvalues, q, i)\n",
    "                for j in 1:n_basefuncs\n",
    "                    ∇u = shape_gradient(cellvalues, q, j)\n",
    "                    Ke[i, j] += σ * (∇v ⋅ ∇u) * dΩ\n",
    "                end\n",
    "            end\n",
    "        end\n",
    "        assemble!(assembler, celldofs(cell), Ke)\n",
    "    end\n",
    "    return K\n",
    "end\n",
    "\n",
    "K_true = assemble_K(cellvalues, dh, conductivity)\n",
    "K_true_LU = lu(K_true)"
   ]
  },
  {
   "cell_type": "code",
   "execution_count": 11,
   "id": "eb7d5ea0",
   "metadata": {},
   "outputs": [
    {
     "name": "stdout",
     "output_type": "stream",
     "text": [
      "Smallest eigenvalue: -4.18205629053751e-16"
     ]
    }
   ],
   "source": [
    "# Sanity check: (positive semidefinite self adjoint stiffness matrix)\n",
    "@assert K_true == K_true'  # Not true in Gridap.jl\n",
    "if ndofs(dh) < 500\n",
    "    K_dense = Matrix(K_true)\n",
    "    eig_min = minimum(eigvals(K_dense))\n",
    "    @assert eig_min > -1e-14\n",
    "    print(\"Smallest eigenvalue: \", eig_min)\n",
    "end"
   ]
  },
  {
   "cell_type": "markdown",
   "id": "12b8ad31",
   "metadata": {},
   "source": [
    "Now we generate current patterns: We assume one current source and one current sink. Important is that it sums of to zero.\n",
    "We generate the right hand side force vectors $g_1, ... g_n$ as an Matrix G and calculate $f_1, ..., f_n$"
   ]
  },
  {
   "cell_type": "code",
   "execution_count": 12,
   "id": "c4ba150c",
   "metadata": {},
   "outputs": [
    {
     "data": {
      "text/plain": [
       "24×276 Matrix{Float64}:\n",
       "  2.32357     2.27301     2.84635    3.11468    …   0.0315516     0.0206735\n",
       " -0.778222    0.0544728   0.379085   0.67472        0.0290574     0.0200595\n",
       "  0.105038   -1.18908     0.594049   0.821915       0.0343652     0.0213559\n",
       " -0.143693    0.0207049  -0.883317  -0.0301557      0.0227147     0.0184754\n",
       " -0.116386   -0.0197557  -0.298483  -0.940736       0.0142851     0.0163294\n",
       " -0.100137   -0.0310713  -0.23988   -0.413997   …   0.00590317    0.0141512\n",
       " -0.0951501  -0.0355859  -0.215654  -0.353677      -0.000208784   0.0125401\n",
       " -0.0938456  -0.0367458  -0.210128  -0.336535      -0.00240451    0.0119555\n",
       " -0.0928123  -0.0377007  -0.205694  -0.324858      -0.00487321    0.0112946\n",
       "  0.0325847  -0.176756    0.162399   0.306009       0.0449049     0.0238275\n",
       "  ⋮                                             ⋱                 ⋮\n",
       " -0.0668455  -0.0669617  -0.111387  -0.1282     …   0.105921      0.0371156\n",
       " -0.082988   -0.0473062  -0.166484  -0.230807      -0.224877     -0.0301428\n",
       " -0.0700009  -0.0628528  -0.121811  -0.146737       0.117887      0.0395801\n",
       " -0.0686136  -0.0646209  -0.117211  -0.138488       0.111595      0.0382756\n",
       " -0.0732134  -0.0587968  -0.132566  -0.16624        0.141348      0.0438013\n",
       " -0.0768632  -0.054333   -0.144963  -0.189183   …   0.189057      0.0554169\n",
       " -0.0798867  -0.0507645  -0.155441  -0.209081       0.601506      0.0727412\n",
       " -0.0817668  -0.0486332  -0.16208   -0.222003      -0.143114      0.396003\n",
       " -0.0823809  -0.0479508  -0.164278  -0.226347      -1.09984      -0.883983"
      ]
     },
     "metadata": {},
     "output_type": "display_data"
    }
   ],
   "source": [
    "num_modes = Int64((nzc^2-nzc)//2)\n",
    "G_small = zeros(nzc,num_modes)\n",
    "G = zeros(ndofs(dh),num_modes)\n",
    "k = 1\n",
    "for i in 1:(nzc-1)\n",
    "    for j in i+1:nzc\n",
    "        G_small[i,k] = 1.0\n",
    "        G_small[j,k] = -1.0\n",
    "        G[:,k] = up(G_small[:,k])\n",
    "        k += 1\n",
    "    end\n",
    "end\n",
    "F_big = K_true_LU \\ G\n",
    "F = zeros(nzc,num_modes)\n",
    "k = 1\n",
    "for i in 1:(nzc-1)\n",
    "    for j in i+1:nzc\n",
    "        F[:,k] = down(F_big[:,k])\n",
    "        k += 1\n",
    "    end\n",
    "end\n",
    "col_means = mean(F, dims=1)\n",
    "F .-= col_means"
   ]
  },
  {
   "cell_type": "markdown",
   "id": "73781c70",
   "metadata": {},
   "source": [
    "To be realistic we will add some noise:\n",
    "We have to ensure that our noise has mean zero."
   ]
  },
  {
   "cell_type": "code",
   "execution_count": 13,
   "id": "be5718f6",
   "metadata": {},
   "outputs": [
    {
     "data": {
      "text/plain": [
       "mean_zero_noise (generic function with 1 method)"
      ]
     },
     "metadata": {},
     "output_type": "display_data"
    }
   ],
   "source": [
    "function mean_zero_noise(n::Int64, σ::Float64)\n",
    "    out = σ * randn(n)\n",
    "    mean = Statistics.mean(out)\n",
    "    out .- mean\n",
    "end"
   ]
  },
  {
   "cell_type": "markdown",
   "id": "bc589a66",
   "metadata": {},
   "source": [
    "To simplify things we can also do SVD:"
   ]
  },
  {
   "cell_type": "code",
   "execution_count": 14,
   "id": "ec45d7ba",
   "metadata": {},
   "outputs": [],
   "source": [
    "# Implement SVD here later\n",
    "# reduce the number of modes according to used SVD modes\n",
    "function do_svd(F,G)\n",
    "    Λ = F * G'\n",
    "    num_modes = (size(Λ, 1) - 1)\n",
    "    V,Σ,U = svd(Λ)\n",
    "    U = U[:,1:num_modes]\n",
    "    V = V[:,1:num_modes]\n",
    "    col_means = mean(U, dims=1)\n",
    "    U .-= col_means\n",
    "    col_means = mean(V, dims=1)\n",
    "    V .-= col_means\n",
    "    # Not unimportant:\n",
    "    V = V * diagm(Σ[1:num_modes]) \n",
    "    return V, Σ, U, Λ, num_modes\n",
    "end\n",
    "F, Σ, G_small, Λ, num_modes = do_svd(F,G_small)\n",
    "# Apply singular Values:\n",
    "G = zeros(ndofs(dh),num_modes)\n",
    "F_big = copy(G)\n",
    "for i in 1:num_modes\n",
    "    G[:,i] = up(G_small[:,i])\n",
    "    F_big[:,i] = up(F[:,i])\n",
    "end"
   ]
  },
  {
   "cell_type": "markdown",
   "id": "95c3a036",
   "metadata": {},
   "source": [
    "now that we have done SVD on the original choice of modes we have \n",
    "- Truncation of SVD modes, thus regularization\n",
    "- Averaging of noise over multiple measurements\n",
    "- Elimination of any unncessary number of nodes we choose before."
   ]
  },
  {
   "cell_type": "markdown",
   "id": "98d6dd1a",
   "metadata": {},
   "source": [
    "Here we define a struct where we save and preallocate all the necessary information for the solver step."
   ]
  },
  {
   "cell_type": "code",
   "execution_count": null,
   "id": "5f965019",
   "metadata": {},
   "outputs": [
    {
     "name": "stdout",
     "output_type": "stream",
     "text": [
      "Norm of Matrix difference: 10.449909767217584\n",
      "norm of difference of first SVD mode: 9.231159780743125\n"
     ]
    }
   ],
   "source": [
    "# Implement a sanity check if the two matrices assembled from the function and the vector are roughly the same (use relatively coarse ≈ )\n",
    "Matrix_norm = norm(K_from_vec - K_true)\n",
    "println(\"Norm of Matrix difference: \",Matrix_norm)\n",
    "@assert Matrix_norm < 20.0\n",
    "\n",
    "g_test = G[:,1]\n",
    "f_test_true = K_true \\ g_test\n",
    "f_test_vec = K_from_vec \\g_test\n",
    "vector_norm = norm(f_test_true - f_test_vec)\n",
    "println(\"norm of difference of first SVD mode: \" ,vector_norm)\n",
    "@assert vector_norm < 10.0"
   ]
  },
  {
   "cell_type": "code",
   "execution_count": 16,
   "id": "059522f1",
   "metadata": {},
   "outputs": [],
   "source": [
    "mutable struct EITMode\n",
    "    u::AbstractVector\n",
    "    λ::AbstractVector\n",
    "    δσ::AbstractVector\n",
    "    f::AbstractVector\n",
    "    g::AbstractVector\n",
    "    rhs::AbstractVector\n",
    "    error::Float64\n",
    "    length::Int64\n",
    "    m::Int64\n",
    "end\n",
    "function EITMode(g::AbstractVector, f::AbstractVector)\n",
    "    L = length(g)\n",
    "    M = length(f)\n",
    "    return EITMode(zeros(L), zeros(L), zeros(L), f, g, zeros(L), 0.0, L, M)\n",
    "end\n",
    "mode_dict = Dict{Int64,EITMode}()\n",
    "for i in 1:num_modes\n",
    "    mode_dict[i] = EITMode(G[:,i],F[:,i])\n",
    "end"
   ]
  },
  {
   "cell_type": "markdown",
   "id": "be6c2f19",
   "metadata": {},
   "source": [
    "### Solving EIT"
   ]
  },
  {
   "cell_type": "markdown",
   "id": "e02cd183",
   "metadata": {},
   "source": [
    "We will now assume a starting conductivity guess $\\sigma_0(x) = 1.0 $"
   ]
  },
  {
   "cell_type": "code",
   "execution_count": 17,
   "id": "180dc966",
   "metadata": {},
   "outputs": [
    {
     "data": {
      "text/plain": [
       "#24 (generic function with 1 method)"
      ]
     },
     "metadata": {},
     "output_type": "display_data"
    }
   ],
   "source": [
    "σ₀ = (x) -> 1.0"
   ]
  },
  {
   "cell_type": "markdown",
   "id": "2ecc5166",
   "metadata": {},
   "source": [
    "We would prefer to save $\\sigma$ as a vector for use in FEM and also have a method to export each"
   ]
  },
  {
   "cell_type": "code",
   "execution_count": 18,
   "id": "831b2fad",
   "metadata": {},
   "outputs": [
    {
     "data": {
      "text/plain": [
       "49-element Vector{Float64}:\n",
       " 1.0\n",
       " 1.0\n",
       " 1.0\n",
       " 1.0\n",
       " 1.0\n",
       " 1.0\n",
       " 1.0\n",
       " 1.0\n",
       " 1.0\n",
       " 1.0\n",
       " ⋮\n",
       " 1.0\n",
       " 1.0\n",
       " 1.0\n",
       " 1.0\n",
       " 1.0\n",
       " 1.0\n",
       " 1.0\n",
       " 1.0\n",
       " 1.0"
      ]
     },
     "metadata": {},
     "output_type": "display_data"
    }
   ],
   "source": [
    "# Project function here: \n",
    "#return vector.\n",
    "σ = ones(ndofs(dh))"
   ]
  },
  {
   "cell_type": "markdown",
   "id": "37970b5d",
   "metadata": {},
   "source": [
    "A prerequisite is that we can calculate the bilinear map: $\\nabla(u)\\cdot\\nabla(\\lambda)$\n"
   ]
  },
  {
   "cell_type": "markdown",
   "id": "67fbd78f",
   "metadata": {},
   "source": [
    "<span style=\"color:red\">\n",
    "Here is where I struggle:\n",
    "</span>"
   ]
  },
  {
   "cell_type": "code",
   "execution_count": 19,
   "id": "7285d285",
   "metadata": {},
   "outputs": [
    {
     "data": {
      "text/plain": [
       "calculate_bilinear_map_rhs! (generic function with 1 method)"
      ]
     },
     "metadata": {},
     "output_type": "display_data"
    }
   ],
   "source": [
    "function calculate_bilinear_map_rhs(a::AbstractVector, b::AbstractVector, cellvalues::CellValues, dh::DofHandler)\n",
    "    n = ndofs(dh)\n",
    "    r = zeros(n)\n",
    "    n_basefuncs = getnbasefunctions(cellvalues)\n",
    "    \n",
    "    # Get the type for the gradient, e.g., Vec{2, Float64} for 2D\n",
    "    # This is often available from the cellvalues or interpolation\n",
    "    first_grad = shape_gradient(cellvalues, 1, 1)\n",
    "    grad_type = typeof(first_grad)\n",
    "\n",
    "    for cell in CellIterator(dh)\n",
    "        reinit!(cellvalues, cell)\n",
    "        dofs = celldofs(cell)\n",
    "        ae = a[dofs]  # Local nodal values for λ\n",
    "        be = b[dofs]  # Local nodal values for u\n",
    "        re = zeros(length(dofs))\n",
    "\n",
    "        for q in 1:getnquadpoints(cellvalues)\n",
    "            dΩ = getdetJdV(cellvalues, q)\n",
    "            \n",
    "            # --- Step 1: Calculate the full gradients at quadrature point q ---\n",
    "            grad_a_at_q = zero(grad_type)\n",
    "            grad_b_at_q = zero(grad_type)\n",
    "            for i in 1:n_basefuncs\n",
    "                ∇ϕᵢ = shape_gradient(cellvalues, q, i)\n",
    "                grad_a_at_q += ae[i] * ∇ϕᵢ\n",
    "                grad_b_at_q += be[i] * ∇ϕᵢ\n",
    "            end\n",
    "            \n",
    "            # --- Step 2: Compute the dot product ---\n",
    "            dot_product = grad_a_at_q ⋅ grad_b_at_q\n",
    "            \n",
    "            # --- Step 3: Project the result onto each test function ---\n",
    "            for k in 1:n_basefuncs\n",
    "                ϕₖ = shape_value(cellvalues, q, k)\n",
    "                re[k] += dot_product * ϕₖ * dΩ\n",
    "            end                    \n",
    "        end\n",
    "        assemble!(r, celldofs(cell), re)\n",
    "    end\n",
    "    return r\n",
    "end\n",
    "\n",
    "function calculate_bilinear_map_rhs!(mode::EITMode, cellvalues::CellValues, dh::DofHandler)\n",
    "    a = mode.u\n",
    "    b = mode.λ\n",
    "    mode.rhs = calculate_bilinear_map_rhs(a,b,cellvalues,dh)\n",
    "end"
   ]
  },
  {
   "cell_type": "code",
   "execution_count": 20,
   "id": "5eabe947",
   "metadata": {},
   "outputs": [],
   "source": []
  },
  {
   "cell_type": "code",
   "execution_count": 21,
   "id": "4f9e1067",
   "metadata": {},
   "outputs": [
    {
     "data": {
      "text/plain": [
       "calculate_bilinear_map! (generic function with 1 method)"
      ]
     },
     "metadata": {},
     "output_type": "display_data"
    }
   ],
   "source": [
    "# Assemble right-hand side for the projection of ∇(u) ⋅ ∇(λ) onto the FE space.\n",
    "# This computes rhs_i = ∫ (∇u ⋅ ∇λ) ϕ_i dΩ for each test function ϕ_i.\n",
    "# Assuming u and λ are scalar fields in the same FE space.\n",
    "# cellvalues should be CellScalarValues(qr, ip) where qr is QuadratureRule, ip is Interpolation.\n",
    "function calculate_bilinear_form_rhs!(mode::EITMode, dh::DofHandler, cellvalues::CellValues)\n",
    "    n = ndofs(dh)\n",
    "    mode.rhs = zeros(n)  # Assuming mode.rhs is a field to store the RHS vector\n",
    "\n",
    "    a = mode.λ  # Assuming λ is a vector of nodal values for the entire domain\n",
    "    b = mode.u  # Assuming u is a vector of nodal values for the entire domain\n",
    "\n",
    "    n_basefuncs = getnbasefunctions(cellvalues)\n",
    "    for cell in CellIterator(dh)\n",
    "        reinit!(cellvalues, cell)\n",
    "        dofs = celldofs(cell)\n",
    "        ae = a[dofs]  # Local nodal values for λ\n",
    "        be = b[dofs]  # Local nodal values for u\n",
    "\n",
    "        re = zeros(length(dofs))\n",
    "        \n",
    "\n",
    "        # Quadrature loop\n",
    "        for q in 1:getnquadpoints(cellvalues)\n",
    "            dΩ = getdetJdV(cellvalues, q)\n",
    "\n",
    "            # Compute ∇λ and ∇u at the quadrature point using built-in functions\n",
    "            ∇a_q = [ ae[i] * shape_gradient(cellvalues, q, i) for i in 1:n_basefuncs]\n",
    "            ∇b_q = [be[i] * shape_gradient(cellvalues, q, i) for i in 1:n_basefuncs]\n",
    "            \n",
    "            qval = dot(∇a_q, ∇b_q)\n",
    "\n",
    "            # Loop over test functions\n",
    "            for i in 1:n_basefuncs\n",
    "                ϕ_i = shape_value(cellvalues, q, i)\n",
    "                re[i] += qval * ϕ_i * dΩ\n",
    "            end\n",
    "        end\n",
    "\n",
    "        assemble!(mode.rhs, dofs, re)\n",
    "    end\n",
    "end\n",
    "\n",
    "# To compute the projection δ such that M δ = rhs, where M is the mass matrix.\n",
    "# Assuming M is pre-assembled (e.g., as a sparse matrix).\n",
    "# You can assemble M separately using a similar loop for ∫ ϕ_i ϕ_j dΩ.\n",
    "# Then solve using \\ (which uses Cholesky for symmetric positive definite matrices if applicable).\n",
    "function calculate_bilinear_map!(mode, dh::DofHandler,cellvalues::CellValues, M)\n",
    "    mode.δσ = calculate_bilinear_map_rhs!(mode, cellvalues, dh)\n",
    "    #mode.δσ = M \\ mode.rhs\n",
    "end"
   ]
  },
  {
   "cell_type": "markdown",
   "id": "4186951d",
   "metadata": {},
   "source": [
    "With the given matrix and projector our we need to optimize for every mode $(f_i,g_i)$:"
   ]
  },
  {
   "cell_type": "code",
   "execution_count": 22,
   "id": "7c6ff8ec",
   "metadata": {},
   "outputs": [
    {
     "data": {
      "text/plain": [
       "state_adjoint_step! (generic function with 2 methods)"
      ]
     },
     "metadata": {},
     "output_type": "display_data"
    }
   ],
   "source": [
    "function state_adjoint_step!(mode::EITMode, K::AbstractMatrix, M, dh::DofHandler, cellvalues::CellValues, maxiter=500)\n",
    "    cg!(mode.u,K, mode.g; maxiter = maxiter)\n",
    "    b = down(mode.u)\n",
    "    b = 2*(b - mode.f)\n",
    "    b .-= Statistics.mean(b)\n",
    "    cg!(mode.λ, K, up(b); maxiter = maxiter)\n",
    "    mode.error = norm(b)^2\n",
    "    # add calculation of ∇(u)⋅∇(λ) here once figured out\n",
    "    calculate_bilinear_map!(mode, dh, cellvalues, M)    \n",
    "    # Check whether this needs + or - as a sign.\n",
    "end"
   ]
  },
  {
   "cell_type": "markdown",
   "id": "5a17bfa8",
   "metadata": {},
   "source": [
    "Additinal we need to assemble the TV regularizer. The required Mass matrix we already have asembled and ready to use. \n"
   ]
  },
  {
   "cell_type": "code",
   "execution_count": 23,
   "id": "58867593",
   "metadata": {},
   "outputs": [
    {
     "data": {
      "text/plain": [
       "TV([0.0, 0.0, 0.0, 0.0, 0.0, 0.0, 0.0, 0.0, 0.0, 0.0  …  0.0, 0.0, 0.0, 0.0, 0.0, 0.0, 0.0, 0.0, 0.0, 0.0], [0.0, 0.0, 0.0, 0.0, 0.0, 0.0, 0.0, 0.0, 0.0, 0.0  …  0.0, 0.0, 0.0, 0.0, 0.0, 0.0, 0.0, 0.0, 0.0, 0.0], [0.0, 0.0, 0.0, 0.0, 0.0, 0.0, 0.0, 0.0, 0.0, 0.0  …  0.0, 0.0, 0.0, 0.0, 0.0, 0.0, 0.0, 0.0, 0.0, 0.0], 0.0)"
      ]
     },
     "metadata": {},
     "output_type": "display_data"
    }
   ],
   "source": [
    "mutable struct TV\n",
    "    δ::AbstractArray # Is supposed to hold the error\n",
    "    rhs::AbstractArray # \n",
    "    err_vec::AbstractArray\n",
    "    error::Float64\n",
    "end\n",
    "function TV(n::Int64)\n",
    "    TV(zeros(n),zeros(n),zeros(n),0.0)\n",
    "end\n",
    "\n",
    "function calc_tv_step!(σ::AbstractVector{Float64}, tv::TV, dh::DofHandler, cellvalues::CellValues, M, η=1e-8)\n",
    "    n = ndofs(dh)\n",
    "    r = tv.rhs\n",
    "    r = zeros(n)\n",
    "    tv_error = 0.0\n",
    "\n",
    "    for cell in CellIterator(dh)\n",
    "        reinit!(cellvalues, cell)\n",
    "        dofs = celldofs(cell)\n",
    "        σe = σ[dofs]\n",
    "\n",
    "        re = zeros(length(dofs))\n",
    "        # quadrature loop\n",
    "        for q in 1:getnquadpoints(cellvalues)\n",
    "            dΩ = getdetJdV(cellvalues, q)\n",
    "            ∇ϕ = shape_gradient(cellvalues, q)   # size (dim, ndofs)\n",
    "            ∇σ = ∇ϕ * σe                        # vector of length dim\n",
    "            a = 1 / sqrt(dot(∇σ, ∇σ) + η)\n",
    "            tv_error += sqrt(dot(∇σ, ∇σ) + η) * dΩ\n",
    "\n",
    "            ϕvals = shape_function_values(cellvalues, q)\n",
    "            for i in 1:length(dofs)\n",
    "                ∇ϕi = ∇ϕ[:, i]\n",
    "                re[i] += a * dot(∇σ, ∇ϕi) * dΩ\n",
    "            end\n",
    "        end\n",
    "        assemble!(r, dofs, re)\n",
    "    end\n",
    "\n",
    "    tv.δ = M \\ r          \n",
    "    tv.error = tv_error\n",
    "end\n",
    "tv = TV(ndofs(dh))"
   ]
  },
  {
   "cell_type": "markdown",
   "id": "bd9051f0",
   "metadata": {},
   "source": [
    "For finding suitable stepsizes we will use Gauss-Newton.\n",
    "Since we want to avoid implementing a dense Hessian Matrix we use SVD to invert the Matrix."
   ]
  },
  {
   "cell_type": "code",
   "execution_count": 24,
   "id": "67000b9f",
   "metadata": {},
   "outputs": [
    {
     "data": {
      "text/plain": [
       "gauss_newton (generic function with 1 method)"
      ]
     },
     "metadata": {},
     "output_type": "display_data"
    }
   ],
   "source": [
    "function gauss_newton(J::Matrix{Float64}, r::Vector{Float64}; λ::Float64=1e-3)\n",
    "    U, Σ, V = svd(J, full=false)\n",
    "    n = length(Σ)\n",
    "    Σ_damped = zeros(n)\n",
    "    for i in 1:n\n",
    "        Σ_damped[i] = Σ[i] / (Σ[i]^2 + λ) # Levenberg-Marquardt regularization\n",
    "    end\n",
    "    V * (Σ_damped .* (U' * r))\n",
    "end\n",
    "# Note: If we do SVD further up on the boundary pairs that we selected we can use truncated SVD to approximate/regularize the boundary operator Λ. Due to that (i.e. a highly reduced number of boundary pairs) SVD in Gauss-newton might become an efficient option. Else I want to avoid assembling a huge dense Hessian Matrix."
   ]
  },
  {
   "cell_type": "markdown",
   "id": "917dc572",
   "metadata": {},
   "source": [
    "Now that we have all the pieces we can assemble the full optimization step:"
   ]
  },
  {
   "cell_type": "code",
   "execution_count": 25,
   "id": "7e857dcd",
   "metadata": {},
   "outputs": [
    {
     "data": {
      "text/plain": [
       "full_step! (generic function with 3 methods)"
      ]
     },
     "metadata": {},
     "output_type": "display_data"
    }
   ],
   "source": [
    "# note: If you want to use truncated SVD as regularization one can pass a smaller number than num_modes\n",
    "function full_step!(M,σ::AbstractVector ,modes::Dict{Int64,EITMode}, num_modes::Int64,tv::TV, dh::DofHandler, cellvalues::CellValues, do_TV::Bool =true, β::Float64 = 1e-5)\n",
    "    # Assemble Matrix: (from vector)\n",
    "    K = assemble_K(cellvalues,dh,σ)\n",
    "    if do_TV\n",
    "        J = zeros(num_modes+1,ndofs(dh))\n",
    "        r = zeros(num_modes+1)\n",
    "        # Launch TV regularizer:\n",
    "        tv_task = Threads.@spawn begin\n",
    "            calc_TV_step!(σ,tv, dh,cellvalues,M)\n",
    "        end\n",
    "    else\n",
    "        J = zeros(num_modes,ndofs(dh))\n",
    "        r = zeros(num_modes)\n",
    "    end\n",
    "    # solve adjoint state method\n",
    "    Threads.@threads for i in 1:num_modes\n",
    "        state_adjoint_step!(mode_dict[i], K, M, dh, cellvalues)\n",
    "    end\n",
    "\n",
    "    # Fetch gradients & errors\n",
    "    for i in num_modes\n",
    "        J[i,:] = mode_dict[i].δσ\n",
    "        r[i] = mode_dict[i].error\n",
    "    end\n",
    "    if do_TV\n",
    "        # Fetch TV regularization\n",
    "        fetch(tv_task)\n",
    "        J[num_modes+1,:] = tv.δ\n",
    "        r[num_modes+1] = β * tv.error \n",
    "    end    \n",
    "    # calculate steps with Gauss-Newton\n",
    "    δσ = gauss_newton(J, r, λ=1e-3)\n",
    "    # update σ\n",
    "    σ = max.(σ+δσ ,1e-12) # Ensure positivity\n",
    "    return σ,δσ,r\n",
    "end"
   ]
  },
  {
   "cell_type": "markdown",
   "id": "5fe0b5dd",
   "metadata": {},
   "source": [
    "Let's run this optimization loop a few times:"
   ]
  },
  {
   "cell_type": "code",
   "execution_count": 26,
   "id": "2f5b768f",
   "metadata": {},
   "outputs": [
    {
     "ename": "UndefVarError",
     "evalue": "UndefVarError: `K` not defined in `Main`\nSuggestion: check for spelling errors or missing imports.",
     "output_type": "error",
     "traceback": [
      "UndefVarError: `K` not defined in `Main`\n",
      "Suggestion: check for spelling errors or missing imports.\n",
      "\n",
      "Stacktrace:\n",
      " [1] top-level scope\n",
      "   @ ~/Code/Julia/FerriteStuff/Notebooks/Github/jl_notebook_cell_df34fa98e69747e1a8f8a730347b8e2f_Y111sZmlsZQ==.jl:1"
     ]
    }
   ],
   "source": [
    "cg!(mode_dict[1].u,K, mode_dict[1].g; maxiter = 500)"
   ]
  },
  {
   "cell_type": "code",
   "execution_count": 27,
   "id": "2df26d5b",
   "metadata": {},
   "outputs": [],
   "source": [
    "#=\n",
    "for i in 1:10\n",
    "    print(\"Step \", i, \" \")\n",
    "    result, time, bytes, gctime, memallocs = @timed begin\n",
    "        full_step!(MC, σ, mode_dict, num_modes, tv, dh, cellvalues, false)\n",
    "    end\n",
    "    println(\"Time: \", time, \" seconds, Bytes: \", bytes, \", GC time: \", gctime, \", Memory allocations: \", memallocs)\n",
    "    println(\"With error: \")\n",
    "end\n",
    "=#"
   ]
  },
  {
   "cell_type": "code",
   "execution_count": 28,
   "id": "b9df9987",
   "metadata": {},
   "outputs": [],
   "source": [
    "#σ,δσ,r = full_step!(MC, σ, mode_dict, num_modes, tv, dh, cellvalues, false)"
   ]
  },
  {
   "cell_type": "code",
   "execution_count": 29,
   "id": "86314dc2",
   "metadata": {},
   "outputs": [],
   "source": [
    "# Test the above functions"
   ]
  },
  {
   "cell_type": "markdown",
   "id": "88120a7f",
   "metadata": {},
   "source": [
    "## Plotting\n"
   ]
  },
  {
   "cell_type": "code",
   "execution_count": 30,
   "id": "e2fe38d7",
   "metadata": {},
   "outputs": [],
   "source": [
    "# project is to grid and plot with Plots.jl\n",
    "# I wanna use Plots.jl and not Makie.jl or similar because lateron i want to implement a NN on the grid as a regularizer using Lux.jl"
   ]
  },
  {
   "cell_type": "code",
   "execution_count": 31,
   "id": "b5cdeaee",
   "metadata": {},
   "outputs": [],
   "source": [
    "# Project to dictionary (coordinate,value)\n",
    "#PointEvalHandler(grid, points::AbstractVector{Vec{dim,T}})\n",
    "# Put values from dictionary into Array."
   ]
  },
  {
   "cell_type": "markdown",
   "id": "627081da",
   "metadata": {},
   "source": [
    "This is our original and final reconstruction:"
   ]
  },
  {
   "cell_type": "code",
   "execution_count": 32,
   "id": "afe42f43",
   "metadata": {},
   "outputs": [],
   "source": [
    "# Plot reconstruction and original with Plots.jl here"
   ]
  },
  {
   "cell_type": "code",
   "execution_count": 33,
   "id": "62aa3d5c",
   "metadata": {},
   "outputs": [],
   "source": []
  }
 ],
 "metadata": {
  "kernelspec": {
   "display_name": "Julia 1.11.6",
   "language": "julia",
   "name": "julia-1.11"
  },
  "language_info": {
   "file_extension": ".jl",
   "mimetype": "application/julia",
   "name": "julia",
   "version": "1.11.6"
  }
 },
 "nbformat": 4,
 "nbformat_minor": 5
}
