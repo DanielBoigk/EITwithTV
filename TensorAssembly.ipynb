{
 "cells": [
  {
   "cell_type": "code",
   "execution_count": 1,
   "id": "a0d2e8e7",
   "metadata": {},
   "outputs": [
    {
     "name": "stderr",
     "output_type": "stream",
     "text": [
      "\u001b[32m\u001b[1m  Activating\u001b[22m\u001b[39m project at `~/Code/Julia/FerriteStuff/Notebooks/Github/EnvFerrite`\n"
     ]
    }
   ],
   "source": [
    "using Pkg\n",
    "Pkg.activate(\"EnvFerrite\")"
   ]
  },
  {
   "cell_type": "code",
   "execution_count": 2,
   "id": "f034f5a9",
   "metadata": {},
   "outputs": [
    {
     "data": {
      "text/plain": [
       "(x, y)"
      ]
     },
     "metadata": {},
     "output_type": "display_data"
    }
   ],
   "source": [
    "using TypedPolynomials\n",
    "@polyvar x y"
   ]
  },
  {
   "cell_type": "code",
   "execution_count": 3,
   "id": "0c672f21",
   "metadata": {},
   "outputs": [
    {
     "data": {
      "text/latex": [
       "$$ 4 - 4x + 3xy^{3} $$"
      ],
      "text/plain": [
       "4 - 4x + 3xy³"
      ]
     },
     "metadata": {},
     "output_type": "display_data"
    }
   ],
   "source": [
    "p = 2x*y^2 +y -2x\n",
    "q = 3x*y^3 - 4x + 4"
   ]
  },
  {
   "cell_type": "code",
   "execution_count": 4,
   "id": "2a8e3110",
   "metadata": {},
   "outputs": [
    {
     "data": {
      "text/plain": [
       "nabladotnabla (generic function with 1 method)"
      ]
     },
     "metadata": {},
     "output_type": "display_data"
    }
   ],
   "source": [
    "function nabladotnabla(a,b)\n",
    "    diff_a = differentiate(a,(x,y))\n",
    "    diff_b = differentiate(b,(x,y))\n",
    "    return diff_a[1]*diff_b[1]+diff_b[2]*diff_b[2]\n",
    "end"
   ]
  },
  {
   "cell_type": "code",
   "execution_count": 5,
   "id": "0fa0ca40",
   "metadata": {},
   "outputs": [
    {
     "data": {
      "text/latex": [
       "$$ 8 - 8y^{2} - 6y^{3} + 6y^{5} + 81x^{2}y^{4} $$"
      ],
      "text/plain": [
       "8 - 8y² - 6y³ + 6y⁵ + 81x²y⁴"
      ]
     },
     "metadata": {},
     "output_type": "display_data"
    }
   ],
   "source": [
    "r = nabladotnabla(p,q)"
   ]
  },
  {
   "cell_type": "code",
   "execution_count": 6,
   "id": "db3c8ae1",
   "metadata": {},
   "outputs": [],
   "source": [
    "using Ferrite\n",
    "using SparseArrays\n",
    "using LinearAlgebra\n",
    "using IterativeSolvers\n"
   ]
  },
  {
   "cell_type": "code",
   "execution_count": 7,
   "id": "a094afcc",
   "metadata": {},
   "outputs": [
    {
     "data": {
      "text/plain": [
       "DofHandler{2, Grid{2, Quadrilateral, Float64}}\n",
       "  Fields:\n",
       "    :u, Lagrange{RefQuadrilateral, 1}()\n",
       "  Dofs per cell: 4\n",
       "  Total dofs: 289"
      ]
     },
     "metadata": {},
     "output_type": "display_data"
    }
   ],
   "source": [
    "grid = generate_grid(Quadrilateral, (16, 16));\n",
    "dim = Ferrite.getspatialdim(grid)\n",
    "order = 1\n",
    "\n",
    "ip = Lagrange{RefQuadrilateral, order}()\n",
    "qr = QuadratureRule{RefQuadrilateral}(2)\n",
    "cellvalues = CellValues(qr, ip)\n",
    "\n",
    "dh = DofHandler(grid)\n",
    "add!(dh, :u, ip)\n",
    "close!(dh)"
   ]
  },
  {
   "cell_type": "code",
   "execution_count": 8,
   "id": "a60bfbfa",
   "metadata": {},
   "outputs": [
    {
     "data": {
      "text/plain": [
       "(sparse([1, 2, 3, 4, 1, 2, 3, 4, 5, 6  …  270, 271, 272, 287, 288, 289, 271, 272, 288, 289], [1, 1, 1, 1, 2, 2, 2, 2, 2, 2  …  288, 288, 288, 288, 288, 288, 289, 289, 289, 289], [0.001736111111111111, 0.0008680555555555556, 0.00043402777777777775, 0.0008680555555555555, 0.0008680555555555556, 0.0034722222222222225, 0.001736111111111111, 0.00043402777777777775, 0.0008680555555555556, 0.00043402777777777775  …  0.00043402777777777775, 0.001736111111111111, 0.00043402777777777765, 0.0008680555555555553, 0.003472222222222221, 0.0008680555555555553, 0.00043402777777777765, 0.0008680555555555553, 0.0008680555555555553, 0.0017361111111111106], 289, 289), SparseArrays.CHOLMOD.Factor{Float64, Int64}\n",
       "type:    LLt\n",
       "method:  simplicial\n",
       "maxnnz:  3815\n",
       "nnz:     3815\n",
       "success: true\n",
       ")"
      ]
     },
     "metadata": {},
     "output_type": "display_data"
    }
   ],
   "source": [
    "# for that we also gonna assemble the Mass Matrix:\n",
    "# Mass Matrix  ∫(u*v)dΩ\n",
    "function assemble_M(cellvalues::CellValues,dh::DofHandler)\n",
    "    M = allocate_matrix(dh)\n",
    "    n_basefuncs = getnbasefunctions(cellvalues)\n",
    "    Me = zeros(n_basefuncs, n_basefuncs)\n",
    "    assembler = start_assemble(M)\n",
    "    for cell in CellIterator(dh)\n",
    "        fill!(Me, 0)\n",
    "        reinit!(cellvalues, cell)\n",
    "        for q_point in 1:getnquadpoints(cellvalues)\n",
    "            dΩ = getdetJdV(cellvalues, q_point)      \n",
    "            for i in 1:n_basefuncs\n",
    "                φᵢ = shape_value(cellvalues, q_point, i)\n",
    "                for j in 1:n_basefuncs\n",
    "                    φⱼ = shape_value(cellvalues, q_point, j)\n",
    "                    Me[i,j] += φᵢ * φⱼ * dΩ\n",
    "                end\n",
    "            end\n",
    "        end\n",
    "        assemble!(assembler, celldofs(cell), Me)\n",
    "    end\n",
    "    return M, cholesky(M)\n",
    "end   \n",
    "M,MC = assemble_M(cellvalues,dh)"
   ]
  },
  {
   "cell_type": "code",
   "execution_count": 9,
   "id": "5fc9b12c",
   "metadata": {},
   "outputs": [
    {
     "data": {
      "text/plain": [
       "assemble_function_vector (generic function with 1 method)"
      ]
     },
     "metadata": {},
     "output_type": "display_data"
    }
   ],
   "source": [
    "# now we gonna project conductivity unto a vector:\n",
    "function assemble_function_vector(cellvalues::CellValues, dh::DofHandler, f, M)\n",
    "    F = zeros(ndofs(dh))\n",
    "    n_basefuncs = getnbasefunctions(cellvalues)\n",
    "    Fe = zeros(n_basefuncs)\n",
    "    cdofs = zeros(Int, n_basefuncs)\n",
    "\n",
    "    for cell in CellIterator(dh)\n",
    "        fill!(Fe, 0.0)\n",
    "        reinit!(cellvalues, cell)\n",
    "        coords = getcoordinates(cell)\n",
    "        cdofs = celldofs(cell)\n",
    "        for q in 1:getnquadpoints(cellvalues)\n",
    "            x_q = spatial_coordinate(cellvalues, q, coords)\n",
    "            f_val = f(x_q)\n",
    "            dΩ = getdetJdV(cellvalues, q)\n",
    "\n",
    "            for i in 1:n_basefuncs\n",
    "                Fe[i] += f_val * shape_value(cellvalues, q, i) * dΩ\n",
    "            end\n",
    "        end  \n",
    "        assemble!(F, cdofs,Fe)\n",
    "    end\n",
    "    return M \\ F\n",
    "\n",
    "end"
   ]
  },
  {
   "cell_type": "code",
   "execution_count": 10,
   "id": "c0413e9c",
   "metadata": {},
   "outputs": [
    {
     "data": {
      "text/plain": [
       "get_func (generic function with 1 method)"
      ]
     },
     "metadata": {},
     "output_type": "display_data"
    }
   ],
   "source": [
    "function get_func(p)\n",
    "    (z) -> p(x=>z[1],y=>z[2])\n",
    "end"
   ]
  },
  {
   "cell_type": "code",
   "execution_count": 11,
   "id": "4bc8df63",
   "metadata": {},
   "outputs": [
    {
     "data": {
      "text/plain": [
       "#11 (generic function with 1 method)"
      ]
     },
     "metadata": {},
     "output_type": "display_data"
    }
   ],
   "source": [
    "p_func = get_func(p)\n",
    "q_func = get_func(q)\n",
    "r_func = get_func(r)"
   ]
  },
  {
   "cell_type": "code",
   "execution_count": 12,
   "id": "06480e66",
   "metadata": {},
   "outputs": [
    {
     "data": {
      "text/plain": [
       "289-element Vector{Float64}:\n",
       " 79.70860712489336\n",
       " 61.00620508727424\n",
       " 38.381961652895015\n",
       " 49.27970789351367\n",
       " 44.797456654670974\n",
       " 28.937248244358834\n",
       " 31.082361827083606\n",
       " 20.945567667905145\n",
       " 19.860920604512106\n",
       " 14.406919923533977\n",
       "  ⋮\n",
       " -0.28563403188767583\n",
       "  0.9611927706202666\n",
       "  4.7016731781440955\n",
       " 10.935807190683803\n",
       " 19.663594808239402\n",
       " 30.885036030810898\n",
       " 44.60013085839825\n",
       " 60.80887929100154\n",
       " 79.51128132862067"
      ]
     },
     "metadata": {},
     "output_type": "display_data"
    }
   ],
   "source": [
    "p_vec = assemble_function_vector(cellvalues, dh, p_func, MC)\n",
    "q_vec = assemble_function_vector(cellvalues, dh, q_func, MC)\n",
    "r_vec = assemble_function_vector(cellvalues, dh, r_func, MC)"
   ]
  },
  {
   "cell_type": "markdown",
   "id": "f073e256",
   "metadata": {},
   "source": [
    "now we can write an assembler for $\\nabla(a)\\cdot\\nabla(b)$"
   ]
  },
  {
   "cell_type": "code",
   "execution_count": 13,
   "id": "cb7f37b1",
   "metadata": {},
   "outputs": [
    {
     "data": {
      "text/plain": [
       "calculate_bilinear_map_rhs (generic function with 1 method)"
      ]
     },
     "metadata": {},
     "output_type": "display_data"
    }
   ],
   "source": [
    "# Write assembler here: for ∇(a)⋅∇(b)\n",
    "function calculate_bilinear_map_rhs(a::AbstractVector,b::AbstractVector, cellvalues::CellValues,dh::DofHandler, M)\n",
    "    n = ndofs(dh)\n",
    "    rhs = zeros(n)\n",
    "    n_basefuncs = getnbasefunctions(cellvalues)\n",
    "    qpoints = getnquadpoints(cellvalues)\n",
    "    ae = zeros(n_basefuncs)\n",
    "    be = zeros(n_basefuncs)\n",
    "    re = zeros(n_basefuncs)\n",
    "    for cell in CellIterator(dh)\n",
    "        dofs = celldofs(cell)\n",
    "        reinit!(cellvalues,cell)\n",
    "        for q in 1:qpoints \n",
    "            dΩ = getdetJdV(cellvalues, q)\n",
    "            for i in 1:n_basefuncs\n",
    "                ∇ϕᵢ = shape_gradient(cellvalues, q, i)    \n",
    "                ϕᵢ = shape_value(cellvalues, q, i)\n",
    "                for j in 1:n_basefuncs\n",
    "                    ∇ϕⱼ = shape_gradient(cellvalues, q, j)\n",
    "                    re[i] = ae[i]*be[j]*(∇ϕᵢ⋅∇ϕⱼ)* dΩ\n",
    "                end\n",
    "            end\n",
    "        end\n",
    "        assemble!(rhs, dofs, re)\n",
    "    end\n",
    "    return M \\ rhs\n",
    "end"
   ]
  },
  {
   "cell_type": "code",
   "execution_count": 14,
   "id": "eef2b61c",
   "metadata": {},
   "outputs": [
    {
     "data": {
      "text/plain": [
       "289-element Vector{Float64}:\n",
       " 0.0\n",
       " 0.0\n",
       " 0.0\n",
       " 0.0\n",
       " 0.0\n",
       " 0.0\n",
       " 0.0\n",
       " 0.0\n",
       " 0.0\n",
       " 0.0\n",
       " ⋮\n",
       " 0.0\n",
       " 0.0\n",
       " 0.0\n",
       " 0.0\n",
       " 0.0\n",
       " 0.0\n",
       " 0.0\n",
       " 0.0\n",
       " 0.0"
      ]
     },
     "metadata": {},
     "output_type": "display_data"
    }
   ],
   "source": [
    "r_test = calculate_bilinear_map_rhs(p_vec,q_vec, cellvalues,dh,MC)"
   ]
  },
  {
   "cell_type": "code",
   "execution_count": 17,
   "id": "660e86fc",
   "metadata": {},
   "outputs": [
    {
     "ename": "AssertionError",
     "evalue": "AssertionError: norm(r_vec - r_test) < 10.0",
     "output_type": "error",
     "traceback": [
      "AssertionError: norm(r_vec - r_test) < 10.0\n",
      "\n",
      "Stacktrace:\n",
      " [1] top-level scope\n",
      "   @ ~/Code/Julia/FerriteStuff/Notebooks/Github/jl_notebook_cell_df34fa98e69747e1a8f8a730347b8e2f_X24sZmlsZQ==.jl:1"
     ]
    }
   ],
   "source": [
    "@assert norm(r_vec - r_test) < 10.0"
   ]
  },
  {
   "cell_type": "code",
   "execution_count": 16,
   "id": "bada19b9",
   "metadata": {},
   "outputs": [],
   "source": []
  }
 ],
 "metadata": {
  "kernelspec": {
   "display_name": "Julia 1.11.6",
   "language": "julia",
   "name": "julia-1.11"
  },
  "language_info": {
   "file_extension": ".jl",
   "mimetype": "application/julia",
   "name": "julia",
   "version": "1.11.6"
  }
 },
 "nbformat": 4,
 "nbformat_minor": 5
}
