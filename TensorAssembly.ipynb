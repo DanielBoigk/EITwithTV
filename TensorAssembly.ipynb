{
 "cells": [
  {
   "cell_type": "code",
   "execution_count": 1,
   "id": "a0d2e8e7",
   "metadata": {},
   "outputs": [
    {
     "name": "stderr",
     "output_type": "stream",
     "text": [
      "\u001b[32m\u001b[1m  Activating\u001b[22m\u001b[39m project at `~/Code/Julia/FerriteStuff/Notebooks/Github/EnvFerrite`\n"
     ]
    }
   ],
   "source": [
    "using Pkg\n",
    "Pkg.activate(\"EnvFerrite\")"
   ]
  },
  {
   "cell_type": "code",
   "execution_count": 2,
   "id": "f034f5a9",
   "metadata": {},
   "outputs": [
    {
     "data": {
      "text/plain": [
       "(x, y)"
      ]
     },
     "metadata": {},
     "output_type": "display_data"
    }
   ],
   "source": [
    "using TypedPolynomials\n",
    "@polyvar x y"
   ]
  },
  {
   "cell_type": "code",
   "execution_count": 3,
   "id": "0c672f21",
   "metadata": {},
   "outputs": [
    {
     "data": {
      "text/latex": [
       "$$ 4 - 4x + 3xy^{3} $$"
      ],
      "text/plain": [
       "4 - 4x + 3xy³"
      ]
     },
     "metadata": {},
     "output_type": "display_data"
    }
   ],
   "source": [
    "p = 2x*y^2 +y -2x\n",
    "q = 3x*y^3 - 4x + 4"
   ]
  },
  {
   "cell_type": "code",
   "execution_count": 4,
   "id": "2a8e3110",
   "metadata": {},
   "outputs": [
    {
     "data": {
      "text/plain": [
       "nabladotnabla (generic function with 1 method)"
      ]
     },
     "metadata": {},
     "output_type": "display_data"
    }
   ],
   "source": [
    "function nabladotnabla(a,b)\n",
    "    diff_a = differentiate(a,(x,y))\n",
    "    diff_b = differentiate(b,(x,y))\n",
    "    return diff_a[1]*diff_b[1]+diff_a[2]*diff_b[2]\n",
    "end"
   ]
  },
  {
   "cell_type": "code",
   "execution_count": 5,
   "id": "0fa0ca40",
   "metadata": {},
   "outputs": [
    {
     "data": {
      "text/latex": [
       "$$ 8 - 8y^{2} - 6y^{3} + 9xy^{2} + 6y^{5} + 36x^{2}y^{3} $$"
      ],
      "text/plain": [
       "8 - 8y² - 6y³ + 9xy² + 6y⁵ + 36x²y³"
      ]
     },
     "metadata": {},
     "output_type": "display_data"
    }
   ],
   "source": [
    "r = nabladotnabla(p,q)"
   ]
  },
  {
   "cell_type": "code",
   "execution_count": 6,
   "id": "db3c8ae1",
   "metadata": {},
   "outputs": [],
   "source": [
    "using Ferrite\n",
    "using SparseArrays\n",
    "using LinearAlgebra\n",
    "using IterativeSolvers\n"
   ]
  },
  {
   "cell_type": "code",
   "execution_count": 7,
   "id": "a094afcc",
   "metadata": {},
   "outputs": [
    {
     "data": {
      "text/plain": [
       "DofHandler{2, Grid{2, Quadrilateral, Float64}}\n",
       "  Fields:\n",
       "    :u, Lagrange{RefQuadrilateral, 3}()\n",
       "  Dofs per cell: 16\n",
       "  Total dofs: 2401"
      ]
     },
     "metadata": {},
     "output_type": "display_data"
    }
   ],
   "source": [
    "grid = generate_grid(Quadrilateral, (16, 16));\n",
    "dim = Ferrite.getspatialdim(grid)\n",
    "order = 3\n",
    "qr_order = 5\n",
    "ip = Lagrange{RefQuadrilateral, order}()\n",
    "qr = QuadratureRule{RefQuadrilateral}(qr_order)\n",
    "cellvalues = CellValues(qr, ip)\n",
    "\n",
    "dh = DofHandler(grid)\n",
    "add!(dh, :u, ip)\n",
    "close!(dh)"
   ]
  },
  {
   "cell_type": "code",
   "execution_count": 8,
   "id": "a60bfbfa",
   "metadata": {},
   "outputs": [
    {
     "data": {
      "text/plain": [
       "(sparse([1, 2, 3, 4, 5, 6, 7, 8, 9, 10  …  2386, 2393, 2394, 2395, 2396, 2397, 2398, 2399, 2400, 2401], [1, 1, 1, 1, 1, 1, 1, 1, 1, 1  …  2401, 2401, 2401, 2401, 2401, 2401, 2401, 2401, 2401, 2401], [9.070294784580477e-5, 1.346371882086135e-5, 1.9985207624718373e-6, 1.346371882086154e-5, 7.01530612244898e-5, -2.5510204081632996e-5, 1.0413345025508904e-5, -3.7866709183683842e-6, 1.0413345025508914e-5, -3.786670918368958e-6  …  -0.00012914540816327312, 5.4259008290814714e-5, -4.439373405613032e-5, 0.0003551498724489819, -4.439373405612036e-5, 0.0003551498724489678, 3.6322146045981375e-5, -0.0002905771683673128, -0.00029057716836730684, 0.0023246173469387552], 2401, 2401), SparseArrays.CHOLMOD.Factor{Float64, Int64}\n",
       "type:    LLt\n",
       "method:  simplicial\n",
       "maxnnz:  58833\n",
       "nnz:     58833\n",
       "success: true\n",
       ")"
      ]
     },
     "metadata": {},
     "output_type": "display_data"
    }
   ],
   "source": [
    "# for that we also gonna assemble the Mass Matrix:\n",
    "# Mass Matrix  ∫(u*v)dΩ\n",
    "function assemble_M(cellvalues::CellValues,dh::DofHandler)\n",
    "    M = allocate_matrix(dh)\n",
    "    n_basefuncs = getnbasefunctions(cellvalues)\n",
    "    Me = zeros(n_basefuncs, n_basefuncs)\n",
    "    assembler = start_assemble(M)\n",
    "    for cell in CellIterator(dh)\n",
    "        fill!(Me, 0)\n",
    "        reinit!(cellvalues, cell)\n",
    "        for q_point in 1:getnquadpoints(cellvalues)\n",
    "            dΩ = getdetJdV(cellvalues, q_point)      \n",
    "            for i in 1:n_basefuncs\n",
    "                φᵢ = shape_value(cellvalues, q_point, i)\n",
    "                for j in 1:n_basefuncs\n",
    "                    φⱼ = shape_value(cellvalues, q_point, j)\n",
    "                    Me[i,j] += φᵢ * φⱼ * dΩ\n",
    "                end\n",
    "            end\n",
    "        end\n",
    "        assemble!(assembler, celldofs(cell), Me)\n",
    "    end\n",
    "    return M, cholesky(M)\n",
    "end   \n",
    "M,MC = assemble_M(cellvalues,dh)"
   ]
  },
  {
   "cell_type": "code",
   "execution_count": 9,
   "id": "5fc9b12c",
   "metadata": {},
   "outputs": [
    {
     "data": {
      "text/plain": [
       "assemble_function_vector (generic function with 1 method)"
      ]
     },
     "metadata": {},
     "output_type": "display_data"
    }
   ],
   "source": [
    "# now we gonna project conductivity unto a vector:\n",
    "function assemble_function_vector(cellvalues::CellValues, dh::DofHandler, f, M)\n",
    "    F = zeros(ndofs(dh))\n",
    "    n_basefuncs = getnbasefunctions(cellvalues)\n",
    "    Fe = zeros(n_basefuncs)\n",
    "    cdofs = zeros(Int, n_basefuncs)\n",
    "\n",
    "    for cell in CellIterator(dh)\n",
    "        fill!(Fe, 0.0)\n",
    "        reinit!(cellvalues, cell)\n",
    "        coords = getcoordinates(cell)\n",
    "        cdofs = celldofs(cell)\n",
    "        for q in 1:getnquadpoints(cellvalues)\n",
    "            x_q = spatial_coordinate(cellvalues, q, coords)\n",
    "            f_val = f(x_q)\n",
    "            dΩ = getdetJdV(cellvalues, q)\n",
    "\n",
    "            for i in 1:n_basefuncs\n",
    "                Fe[i] += f_val * shape_value(cellvalues, q, i) * dΩ\n",
    "            end\n",
    "        end  \n",
    "        assemble!(F, cdofs,Fe)\n",
    "    end\n",
    "    return M \\ F\n",
    "\n",
    "end"
   ]
  },
  {
   "cell_type": "code",
   "execution_count": 10,
   "id": "c0413e9c",
   "metadata": {},
   "outputs": [
    {
     "data": {
      "text/plain": [
       "get_func (generic function with 1 method)"
      ]
     },
     "metadata": {},
     "output_type": "display_data"
    }
   ],
   "source": [
    "function get_func(p)\n",
    "    (z) -> p(x=>z[1],y=>z[2])\n",
    "end"
   ]
  },
  {
   "cell_type": "code",
   "execution_count": 11,
   "id": "4bc8df63",
   "metadata": {},
   "outputs": [
    {
     "data": {
      "text/plain": [
       "#11 (generic function with 1 method)"
      ]
     },
     "metadata": {},
     "output_type": "display_data"
    }
   ],
   "source": [
    "p_func = get_func(p)\n",
    "q_func = get_func(q)\n",
    "r_func = get_func(r)"
   ]
  },
  {
   "cell_type": "code",
   "execution_count": 12,
   "id": "06480e66",
   "metadata": {},
   "outputs": [
    {
     "data": {
      "text/plain": [
       "2401-element Vector{Float64}:\n",
       " -44.99989987093435\n",
       " -35.43739987093471\n",
       " -21.676848793324638\n",
       " -28.190642738637912\n",
       " -41.687399870935145\n",
       " -38.49989987093439\n",
       " -30.407491490219304\n",
       " -25.831390470881562\n",
       " -25.93563785582463\n",
       " -23.76437320738624\n",
       "   ⋮\n",
       "  44.99989987093272\n",
       "  35.831281963937236\n",
       "  40.172397631711746\n",
       "  38.49989987093387\n",
       "  41.687399870932865\n",
       "  30.772109510233868\n",
       "  33.25355482273406\n",
       "  34.4228135749995\n",
       "  37.242597103644314"
      ]
     },
     "metadata": {},
     "output_type": "display_data"
    }
   ],
   "source": [
    "p_vec = assemble_function_vector(cellvalues, dh, p_func, MC)\n",
    "q_vec = assemble_function_vector(cellvalues, dh, q_func, MC)\n",
    "r_vec = assemble_function_vector(cellvalues, dh, r_func, MC)"
   ]
  },
  {
   "cell_type": "markdown",
   "id": "f073e256",
   "metadata": {},
   "source": [
    "now we can write an assembler for $\\nabla(a)\\cdot\\nabla(b)$"
   ]
  },
  {
   "cell_type": "code",
   "execution_count": 13,
   "id": "cb7f37b1",
   "metadata": {},
   "outputs": [
    {
     "data": {
      "text/plain": [
       "calculate_bilinear_map_rhs (generic function with 1 method)"
      ]
     },
     "metadata": {},
     "output_type": "display_data"
    }
   ],
   "source": [
    "function calculate_bilinear_map_rhs(a::AbstractVector, b::AbstractVector, cellvalues::CellValues, dh::DofHandler, M)\n",
    "    n = ndofs(dh)\n",
    "    rhs = zeros(n)\n",
    "    n_basefuncs = getnbasefunctions(cellvalues)\n",
    "    qpoints = getnquadpoints(cellvalues)\n",
    "    re = zeros(n_basefuncs)\n",
    "    \n",
    "    for cell in CellIterator(dh)\n",
    "        dofs = celldofs(cell)\n",
    "        reinit!(cellvalues, cell)\n",
    "        fill!(re, 0.0)\n",
    "        \n",
    "        # Extract local DOF values for this cell\n",
    "        ae = a[dofs]\n",
    "        be = b[dofs]\n",
    "        \n",
    "        for q in 1:qpoints\n",
    "            dΩ = getdetJdV(cellvalues, q)\n",
    "            \n",
    "            # Compute gradients of a and b at this quadrature point\n",
    "            ∇a_q = zero(Vec{2,Float64})  # assuming 2D\n",
    "            ∇b_q = zero(Vec{2,Float64})\n",
    "            \n",
    "            for j in 1:n_basefuncs\n",
    "                ∇ϕⱼ = shape_gradient(cellvalues, q, j)\n",
    "                ∇a_q += ae[j] * ∇ϕⱼ\n",
    "                ∇b_q += be[j] * ∇ϕⱼ\n",
    "            end\n",
    "            \n",
    "            # Compute ∇a⋅∇b at this quadrature point\n",
    "            grad_dot_product = ∇a_q ⋅ ∇b_q\n",
    "            \n",
    "            # Integrate against test functions\n",
    "            for i in 1:n_basefuncs\n",
    "                ϕᵢ = shape_value(cellvalues, q, i)\n",
    "                re[i] += grad_dot_product * ϕᵢ * dΩ\n",
    "            end\n",
    "        end\n",
    "        \n",
    "        assemble!(rhs, dofs, re)\n",
    "    end\n",
    "    \n",
    "    return M \\ rhs\n",
    "end"
   ]
  },
  {
   "cell_type": "code",
   "execution_count": 14,
   "id": "eef2b61c",
   "metadata": {},
   "outputs": [
    {
     "data": {
      "text/plain": [
       "2401-element Vector{Float64}:\n",
       " -44.9998998708417\n",
       " -35.437399870909296\n",
       " -21.676848793286936\n",
       " -28.190642738607878\n",
       " -41.68739987098482\n",
       " -38.499899870848886\n",
       " -30.40749149022063\n",
       " -25.83139047087344\n",
       " -25.93563785581886\n",
       " -23.764373207270793\n",
       "   ⋮\n",
       "  44.99989987091296\n",
       "  35.83128196394736\n",
       "  40.172397631711135\n",
       "  38.49989987091419\n",
       "  41.68739987093987\n",
       "  30.772109510236298\n",
       "  33.2535548227315\n",
       "  34.422813574998315\n",
       "  37.24259710363415"
      ]
     },
     "metadata": {},
     "output_type": "display_data"
    }
   ],
   "source": [
    "r_test = calculate_bilinear_map_rhs(p_vec,q_vec, cellvalues,dh,MC)"
   ]
  },
  {
   "cell_type": "code",
   "execution_count": 15,
   "id": "660e86fc",
   "metadata": {},
   "outputs": [],
   "source": [
    "@assert norm(r_vec - r_test) < 100.0"
   ]
  },
  {
   "cell_type": "code",
   "execution_count": 16,
   "id": "bada19b9",
   "metadata": {},
   "outputs": [
    {
     "data": {
      "text/plain": [
       "6.050063388918774e-10"
      ]
     },
     "metadata": {},
     "output_type": "display_data"
    }
   ],
   "source": [
    "norm(r_vec - r_test)"
   ]
  },
  {
   "cell_type": "code",
   "execution_count": 17,
   "id": "0c5d0f67",
   "metadata": {},
   "outputs": [
    {
     "data": {
      "text/plain": [
       "create_test_function (generic function with 1 method)"
      ]
     },
     "metadata": {},
     "output_type": "display_data"
    }
   ],
   "source": [
    "\n",
    "# Test function: a smooth function with known analytical TV gradient\n",
    "# u(x,y) = sin(πx) * cos(πy)\n",
    "# This has a well-defined gradient everywhere and we can compute TV analytically\n",
    "function create_test_function()\n",
    "    u_analytical(coords) = sin(π * coords[1]) * cos(π * coords[2])\n",
    "    \n",
    "    # Analytical gradient: ∇u = [π*cos(πx)*cos(πy), -π*sin(πx)*sin(πy)]\n",
    "    function grad_u_analytical(coords)\n",
    "        x, y = coords[1], coords[2]\n",
    "        return [π * cos(π * x) * cos(π * y), -π * sin(π * x) * sin(π * y)]\n",
    "    end\n",
    "    \n",
    "    # Analytical TV gradient: ∇·(∇u/|∇u|)\n",
    "    # This is complex, so we'll use finite differences for verification\n",
    "    function tv_gradient_analytical_approx(coords)\n",
    "        h = 1e-6\n",
    "        x, y = coords[1], coords[2]\n",
    "        \n",
    "        # Compute |∇u| at neighboring points\n",
    "        grad_center = grad_u_analytical(coords)\n",
    "        grad_norm_center = norm(grad_center)\n",
    "        \n",
    "        if grad_norm_center < 1e-12\n",
    "            return 0.0  # Handle singularity\n",
    "        end\n",
    "        \n",
    "        # Finite difference approximation of ∇·(∇u/|∇u|)\n",
    "        # ∂/∂x (∇u_x/|∇u|) + ∂/∂y (∇u_y/|∇u|)\n",
    "        \n",
    "        grad_xplus = grad_u_analytical([x + h, y])\n",
    "        grad_xminus = grad_u_analytical([x - h, y])\n",
    "        grad_yplus = grad_u_analytical([x, y + h])\n",
    "        grad_yminus = grad_u_analytical([x, y - h])\n",
    "        \n",
    "        norm_xplus = norm(grad_xplus)\n",
    "        norm_xminus = norm(grad_xminus)\n",
    "        norm_yplus = norm(grad_yplus)\n",
    "        norm_yminus = norm(grad_yminus)\n",
    "        \n",
    "        # Avoid division by zero\n",
    "        ux_norm_xplus = norm_xplus > 1e-12 ? grad_xplus[1] / norm_xplus : 0.0\n",
    "        ux_norm_xminus = norm_xminus > 1e-12 ? grad_xminus[1] / norm_xminus : 0.0\n",
    "        uy_norm_yplus = norm_yplus > 1e-12 ? grad_yplus[2] / norm_yplus : 0.0\n",
    "        uy_norm_yminus = norm_yminus > 1e-12 ? grad_yminus[2] / norm_yminus : 0.0\n",
    "        \n",
    "        # Central differences\n",
    "        d_dx_term = (ux_norm_xplus - ux_norm_xminus) / (2 * h)\n",
    "        d_dy_term = (uy_norm_yplus - uy_norm_yminus) / (2 * h)\n",
    "        \n",
    "        return d_dx_term + d_dy_term\n",
    "    end\n",
    "    \n",
    "    return u_analytical, grad_u_analytical, tv_gradient_analytical_approx\n",
    "end\n"
   ]
  },
  {
   "cell_type": "code",
   "execution_count": 22,
   "id": "878fe131",
   "metadata": {},
   "outputs": [
    {
     "data": {
      "text/plain": [
       "(var\"#u_analytical#13\"(), var\"#grad_u_analytical#14\"(), var\"#tv_gradient_analytical_approx#15\"{var\"#grad_u_analytical#14\"}(var\"#grad_u_analytical#14\"()))"
      ]
     },
     "metadata": {},
     "output_type": "display_data"
    }
   ],
   "source": [
    "u_ana, gra_u, tv_grad = create_test_function()"
   ]
  },
  {
   "cell_type": "code",
   "execution_count": 23,
   "id": "7e72f77f",
   "metadata": {},
   "outputs": [
    {
     "data": {
      "text/plain": [
       "2401-element Vector{Float64}:\n",
       "  0.02271021763941463\n",
       " -1.180782982127064\n",
       " -1.7140549430105632\n",
       " -0.2090920234889143\n",
       " -0.39630223038378665\n",
       " -0.860914084303656\n",
       " -1.3544649261037012\n",
       " -1.4755395690318578\n",
       " -0.5870676614894398\n",
       " -1.1165422878986235\n",
       "  ⋮\n",
       " -0.022710217609266302\n",
       " -0.03291605212047728\n",
       "  0.012844310463726848\n",
       "  0.860914084314232\n",
       "  0.3963022303536433\n",
       "  0.9601363660359022\n",
       "  0.4673812301791181\n",
       "  0.8685580773715618\n",
       "  0.4310663310246094"
      ]
     },
     "metadata": {},
     "output_type": "display_data"
    }
   ],
   "source": [
    "tv_func = assemble_function_vector(cellvalues, dh, tv_grad, MC)"
   ]
  },
  {
   "cell_type": "code",
   "execution_count": 18,
   "id": "d77f76cc",
   "metadata": {},
   "outputs": [
    {
     "data": {
      "text/plain": [
       "assemble_tv_gradient (generic function with 2 methods)"
      ]
     },
     "metadata": {},
     "output_type": "display_data"
    }
   ],
   "source": [
    "\n",
    "# TV Regularization assembler\n",
    "function assemble_tv_gradient(u_vec::AbstractVector, cellvalues::CellValues, dh::DofHandler, M, ε::Float64 = 1e-8)\n",
    "    \"\"\"\n",
    "    Assembles the TV regularization term: ∇·(∇u/√(|∇u|² + ε²))\n",
    "    \n",
    "    Args:\n",
    "        u_vec: DOF vector of the function u\n",
    "        cellvalues: Finite element cell values\n",
    "        dh: DOF handler\n",
    "        M: Mass matrix factorization for solving\n",
    "        ε: Regularization parameter to avoid division by zero\n",
    "    \n",
    "    Returns:\n",
    "        tv_grad_vec: L² projection of the TV gradient\n",
    "        error_estimate: Error estimate (based on residual norm)\n",
    "    \"\"\"\n",
    "    \n",
    "    n = ndofs(dh)\n",
    "    rhs = zeros(n)\n",
    "    n_basefuncs = getnbasefunctions(cellvalues)\n",
    "    qpoints = getnquadpoints(cellvalues)\n",
    "    re = zeros(n_basefuncs)\n",
    "    \n",
    "    total_residual = 0.0\n",
    "    total_volume = 0.0\n",
    "    \n",
    "    for cell in CellIterator(dh)\n",
    "        dofs = celldofs(cell)\n",
    "        reinit!(cellvalues, cell)\n",
    "        fill!(re, 0.0)\n",
    "        \n",
    "        # Extract local DOF values for this cell\n",
    "        ue = u_vec[dofs]\n",
    "        \n",
    "        for q in 1:qpoints\n",
    "            dΩ = getdetJdV(cellvalues, q)\n",
    "            total_volume += dΩ\n",
    "            \n",
    "            # Compute gradient of u at this quadrature point\n",
    "            ∇u_q = zero(Vec{2,Float64})  # assuming 2D\n",
    "            \n",
    "            for j in 1:n_basefuncs\n",
    "                ∇ϕⱼ = shape_gradient(cellvalues, q, j)\n",
    "                ∇u_q += ue[j] * ∇ϕⱼ\n",
    "            end\n",
    "            \n",
    "            # Compute |∇u|² + ε²\n",
    "            grad_norm_sq = ∇u_q ⋅ ∇u_q + ε^2\n",
    "            grad_norm = sqrt(grad_norm_sq)\n",
    "            \n",
    "            # Normalized gradient: ∇u/|∇u|_ε\n",
    "            ∇u_normalized = ∇u_q / grad_norm\n",
    "            \n",
    "            # For TV gradient ∇·(∇u/|∇u|_ε), we use integration by parts:\n",
    "            # ∫ ∇·(∇u/|∇u|_ε) φᵢ dΩ = -∫ (∇u/|∇u|_ε)·∇φᵢ dΩ + boundary terms\n",
    "            # (assuming zero boundary conditions, boundary terms vanish)\n",
    "            \n",
    "            for i in 1:n_basefuncs\n",
    "                ∇ϕᵢ = shape_gradient(cellvalues, q, i)\n",
    "                # Integration by parts: -∇u_normalized ⋅ ∇φᵢ\n",
    "                re[i] += -∇u_normalized ⋅ ∇ϕᵢ * dΩ\n",
    "            end\n",
    "            \n",
    "            # Estimate error (based on gradient magnitude variation)\n",
    "            total_residual += grad_norm * dΩ\n",
    "        end\n",
    "        \n",
    "        assemble!(rhs, dofs, re)\n",
    "    end\n",
    "    \n",
    "    # Solve for TV gradient in L² sense\n",
    "    tv_grad_vec = M \\ rhs\n",
    "    \n",
    "    # Simple error estimate based on average gradient magnitude\n",
    "    error_estimate = total_residual / total_volume\n",
    "    \n",
    "    return tv_grad_vec, error_estimate\n",
    "end"
   ]
  },
  {
   "cell_type": "code",
   "execution_count": 21,
   "id": "4408c960",
   "metadata": {},
   "outputs": [
    {
     "data": {
      "text/plain": [
       "2401-element Vector{Float64}:\n",
       "  123.93543137629521\n",
       "  123.93546853761069\n",
       "  -14.31706718531205\n",
       "  -28.751295397722\n",
       "  123.9354700648479\n",
       "  123.93546241790786\n",
       "  -18.47961170104244\n",
       "    7.861494413715924\n",
       "  -13.959303185654678\n",
       "  -16.651560059381296\n",
       "    ⋮\n",
       " -123.93543137632162\n",
       "    1.6523445510256682\n",
       "   23.18046909432949\n",
       " -123.93546241790911\n",
       " -123.9354700648355\n",
       "   -6.3229276314927185\n",
       "   -8.09771889626097\n",
       "   19.239782521438855\n",
       "   18.362753626173085"
      ]
     },
     "metadata": {},
     "output_type": "display_data"
    }
   ],
   "source": [
    "vetv, tverror = assemble_tv_gradient(p_vec, cellvalues, dh, MC)\n",
    "vetv"
   ]
  },
  {
   "cell_type": "code",
   "execution_count": 19,
   "id": "984db38d",
   "metadata": {},
   "outputs": [
    {
     "data": {
      "text/plain": [
       "test_tv_regularization (generic function with 1 method)"
      ]
     },
     "metadata": {},
     "output_type": "display_data"
    }
   ],
   "source": [
    "\n",
    "# Test function to verify the implementation\n",
    "function test_tv_regularization(cellvalues, dh, M)\n",
    "    \"\"\"\n",
    "    Test the TV regularization implementation\n",
    "    \"\"\"\n",
    "    println(\"Testing TV Regularization...\")\n",
    "    \n",
    "    # Create test function\n",
    "    u_analytical, grad_u_analytical, tv_grad_analytical = create_test_function()\n",
    "    \n",
    "    # Project test function onto finite element space\n",
    "    u_vec = assemble_function_vector(cellvalues, dh, u_analytical, M)\n",
    "    \n",
    "    # Compute TV gradient using our assembler\n",
    "    tv_grad_vec, error_est = assemble_tv_gradient(u_vec, cellvalues, dh, M, 1e-6)\n",
    "    \n",
    "    # Project analytical TV gradient for comparison\n",
    "    tv_grad_analytical_vec = assemble_function_vector(cellvalues, dh, tv_grad_analytical, M)\n",
    "    \n",
    "    # Compute L² error\n",
    "    error_vec = tv_grad_vec - tv_grad_analytical_vec\n",
    "    l2_error = sqrt(error_vec' * M * error_vec)\n",
    "    \n",
    "    println(\"L² error in TV gradient: \", l2_error)\n",
    "    println(\"Error estimate: \", error_est)\n",
    "    \n",
    "    # For a smooth function like sin(πx)cos(πy), the error should be reasonable\n",
    "    # but not too small since TV is designed for non-smooth functions\n",
    "    success = l2_error < 1.0  # Relaxed tolerance since TV is approximate for smooth functions\n",
    "    \n",
    "    println(\"Test \", success ? \"PASSED\" : \"FAILED\")\n",
    "    println(\"Expected: Error should be moderate (TV is for non-smooth functions)\")\n",
    "    \n",
    "    return tv_grad_vec, l2_error, success\n",
    "end\n"
   ]
  },
  {
   "cell_type": "code",
   "execution_count": 20,
   "id": "7f990cab",
   "metadata": {},
   "outputs": [
    {
     "data": {
      "text/plain": [
       "test_tv_piecewise (generic function with 1 method)"
      ]
     },
     "metadata": {},
     "output_type": "display_data"
    }
   ],
   "source": [
    "\n",
    "# Additional test with a piecewise function (more suitable for TV)\n",
    "function test_tv_piecewise(cellvalues, dh, M)\n",
    "    \"\"\"\n",
    "    Test TV with a piecewise function (more natural for TV regularization)\n",
    "    \"\"\"\n",
    "    println(\"\\nTesting TV with piecewise function...\")\n",
    "    \n",
    "    # Piecewise constant function with discontinuity\n",
    "    function u_piecewise(coords)\n",
    "        x, y = coords[1], coords[2]\n",
    "        if x < 0.5\n",
    "            return 1.0\n",
    "        else\n",
    "            return -1.0\n",
    "        end\n",
    "    end\n",
    "    \n",
    "    # Project onto FE space\n",
    "    u_vec = assemble_function_vector(cellvalues, dh, u_piecewise, M)\n",
    "    \n",
    "    # Compute TV gradient\n",
    "    tv_grad_vec, error_est = assemble_tv_gradient(u_vec, cellvalues, dh, M, 1e-6)\n",
    "    \n",
    "    println(\"TV gradient norm: \", norm(tv_grad_vec))\n",
    "    println(\"Error estimate: \", error_est)\n",
    "    println(\"Max TV gradient value: \", maximum(abs.(tv_grad_vec)))\n",
    "    \n",
    "    # For a piecewise function, TV gradient should be significant near discontinuities\n",
    "    success = norm(tv_grad_vec) > 0.1  # Should have significant TV gradient\n",
    "    \n",
    "    println(\"Test \", success ? \"PASSED\" : \"FAILED\")\n",
    "    println(\"Expected: Significant TV gradient due to discontinuity\")\n",
    "    \n",
    "    return tv_grad_vec, success\n",
    "end\n"
   ]
  },
  {
   "cell_type": "code",
   "execution_count": 21,
   "id": "83c22483",
   "metadata": {},
   "outputs": [
    {
     "data": {
      "text/plain": [
       "run_tv_tests (generic function with 1 method)"
      ]
     },
     "metadata": {},
     "output_type": "display_data"
    }
   ],
   "source": [
    "\n",
    "# Simple test runner - add this to your existing code after the assert\n",
    "function run_tv_tests()\n",
    "    println(\"=\"^50)\n",
    "    println(\"Running TV Regularization Tests\")\n",
    "    println(\"=\"^50)\n",
    "    \n",
    "    # Test 1: Smooth function\n",
    "    tv_grad_smooth, l2_error_smooth, success1 = test_tv_regularization(cellvalues, dh, MC)\n",
    "    \n",
    "    # Test 2: Piecewise function  \n",
    "    tv_grad_piecewise, success2 = test_tv_piecewise(cellvalues, dh, MC)\n",
    "    \n",
    "    println(\"\\n\" * \"=\"^50)\n",
    "    println(\"TV Tests Summary:\")\n",
    "    println(\"Smooth function test: \", success1 ? \"PASSED\" : \"FAILED\")\n",
    "    println(\"Piecewise function test: \", success2 ? \"PASSED\" : \"FAILED\")\n",
    "    println(\"=\"^50)\n",
    "    \n",
    "    return success1 && success2\n",
    "end\n"
   ]
  },
  {
   "cell_type": "code",
   "execution_count": 23,
   "id": "96a2d8d8",
   "metadata": {},
   "outputs": [
    {
     "name": "stdout",
     "output_type": "stream",
     "text": [
      "==================================================\n",
      "Running TV Regularization Tests\n",
      "==================================================\n",
      "Testing TV Regularization...\n"
     ]
    },
    {
     "ename": "MethodError",
     "evalue": "MethodError: no method matching *(::Adjoint{Float64, Vector{Float64}}, ::SparseArrays.CHOLMOD.Factor{Float64, Int64})\nThe function `*` exists, but no method is defined for this combination of argument types.\n\nClosest candidates are:\n  *(::Any, ::Any, !Matched::Any, !Matched::Any...)\n   @ Base operators.jl:596\n  *(!Matched::ChainRulesCore.NoTangent, ::Any)\n   @ ChainRulesCore ~/.julia/packages/ChainRulesCore/Vsbj9/src/tangent_arithmetic.jl:64\n  *(::Any, !Matched::ChainRulesCore.ZeroTangent)\n   @ ChainRulesCore ~/.julia/packages/ChainRulesCore/Vsbj9/src/tangent_arithmetic.jl:105\n  ...\n",
     "output_type": "error",
     "traceback": [
      "MethodError: no method matching *(::Adjoint{Float64, Vector{Float64}}, ::SparseArrays.CHOLMOD.Factor{Float64, Int64})\n",
      "The function `*` exists, but no method is defined for this combination of argument types.\n",
      "\n",
      "Closest candidates are:\n",
      "  *(::Any, ::Any, !Matched::Any, !Matched::Any...)\n",
      "   @ Base operators.jl:596\n",
      "  *(!Matched::ChainRulesCore.NoTangent, ::Any)\n",
      "   @ ChainRulesCore ~/.julia/packages/ChainRulesCore/Vsbj9/src/tangent_arithmetic.jl:64\n",
      "  *(::Any, !Matched::ChainRulesCore.ZeroTangent)\n",
      "   @ ChainRulesCore ~/.julia/packages/ChainRulesCore/Vsbj9/src/tangent_arithmetic.jl:105\n",
      "  ...\n",
      "\n",
      "\n",
      "Stacktrace:\n",
      " [1] *\n",
      "   @ ./operators.jl:596 [inlined]\n",
      " [2] test_tv_regularization(cellvalues::CellValues{Ferrite.FunctionValues{1, Lagrange{RefQuadrilateral, 3}, Matrix{Float64}, Matrix{Vec{2, Float64}}, Matrix{Vec{2, Float64}}, Nothing, Nothing}, Ferrite.GeometryMapping{1, Lagrange{RefQuadrilateral, 1}, Matrix{Float64}, Matrix{Vec{2, Float64}}, Nothing}, QuadratureRule{RefQuadrilateral, Vector{Float64}, Vector{Vec{2, Float64}}}, Vector{Float64}}, dh::DofHandler{2, Grid{2, Quadrilateral, Float64}}, M::SparseArrays.CHOLMOD.Factor{Float64, Int64})\n",
      "   @ Main ~/Code/Julia/FerriteStuff/Notebooks/Github/jl_notebook_cell_df34fa98e69747e1a8f8a730347b8e2f_X25sZmlsZQ==.jl:23\n",
      " [3] run_tv_tests()\n",
      "   @ Main ~/Code/Julia/FerriteStuff/Notebooks/Github/jl_notebook_cell_df34fa98e69747e1a8f8a730347b8e2f_X30sZmlsZQ==.jl:9\n",
      " [4] top-level scope\n",
      "   @ ~/Code/Julia/FerriteStuff/Notebooks/Github/jl_notebook_cell_df34fa98e69747e1a8f8a730347b8e2f_X31sZmlsZQ==.jl:3"
     ]
    }
   ],
   "source": [
    "\n",
    "# Uncomment the line below to run tests:\n",
    " run_tv_tests()"
   ]
  },
  {
   "cell_type": "code",
   "execution_count": null,
   "id": "769518f7",
   "metadata": {},
   "outputs": [],
   "source": []
  }
 ],
 "metadata": {
  "kernelspec": {
   "display_name": "Julia 1.11.6",
   "language": "julia",
   "name": "julia-1.11"
  },
  "language_info": {
   "file_extension": ".jl",
   "mimetype": "application/julia",
   "name": "julia",
   "version": "1.11.6"
  }
 },
 "nbformat": 4,
 "nbformat_minor": 5
}
